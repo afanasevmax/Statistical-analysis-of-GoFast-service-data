{
 "cells": [
  {
   "cell_type": "markdown",
   "id": "6086f528",
   "metadata": {},
   "source": [
    "***Статистический анализ данных сервиса GoFast***\n",
    "\n",
    "**Краткое описание проекта**\n",
    "\n",
    "Вы — аналитик сервиса аренды электросамокатов GoFast. Компания предоставляет услуги аренды в нескольких городах, с двумя тарифами: без подписки и с подпиской Ultra. Цель проекта — проанализировать пользовательские данные и поездки, определить поведенческие различия между клиентами разных категорий и проверить гипотезы, влияющие на доход и стратегию развития бизнеса.\n",
    "\n",
    "**Оглавление проекта**\n",
    "\n",
    "**Шаг 1. Загрузка данных**\n",
    "- Импорт и первичный просмотр датасетов: users_go.csv, rides_go.csv, subscriptions_go.csv\n",
    "\n",
    "**Шаг 2. Предобработка данных**\n",
    "- Преобразование форматов дат\n",
    "\n",
    "- Добавление номера месяца\n",
    "\n",
    "- Поиск и обработка пропусков и дубликатов\n",
    "\n",
    "**Шаг 3. Исследовательский анализ данных (EDA)**\n",
    "\n",
    "- Частота поездок по городам\n",
    "\n",
    "- Доля пользователей с подпиской и без неё\n",
    "\n",
    "- Анализ возрастов\n",
    "\n",
    "- Расстояние и продолжительность поездок\n",
    "\n",
    "**Шаг 4. Объединение данных**\n",
    "- Слияние всех таблиц в единый датафрейм\n",
    "\n",
    "- Разделение на группы: подписчики и не подписчики\n",
    "\n",
    "- Сравнительная визуализация параметров поездок\n",
    "\n",
    "**Шаг 5. Подсчёт выручки**\n",
    "- Агрегация данных по пользователям и месяцам\n",
    "\n",
    "- Расчёт помесячной выручки с учётом условий тарифов\n",
    "\n",
    "**Шаг 6. Проверка гипотез**\n",
    "- Тратят ли подписчики больше времени на поездки?\n",
    "\n",
    "- Превышают ли поездки подписчиков оптимальное расстояние в 3130 м?\n",
    "\n",
    "- Приносят ли подписчики больше выручки в месяц?\n",
    "\n",
    "- Снизилось ли количество обращений в техподдержку после обновления серверов?\n",
    "\n",
    "**Шаг 7 (необязательный). Распределения**\n",
    "- Расчёт минимального числа промокодов для достижения маркетинговой цели с использованием биномиального распределения"
   ]
  },
  {
   "cell_type": "markdown",
   "id": "4b669092",
   "metadata": {},
   "source": [
    "**Цели проекта:**\n",
    "\n",
    "**Оценить поведение пользователей с подпиской и без подписки**\n",
    "- Изучить различия во времени и расстоянии поездок, а также частоте использования сервиса.\n",
    "\n",
    "**Анализировать влияние подписки на выручку**\n",
    "- Выяснить, какая категория пользователей приносит больше прибыли и как это меняется по месяцам.\n",
    "\n",
    "**Проверить статистические гипотезы для поддержки бизнес-решений**\n",
    "- Подтвердить или опровергнуть предположения о выгодности подписки, оптимальности расстояний и результативности обновлений.\n",
    "\n",
    "**Помочь маркетинговой команде спрогнозировать эффективность кампаний**\n",
    "- Определить минимальное число промокодов и оценить отклик на push-уведомления с использованием вероятностных моделей.\n",
    "\n",
    "**Сформировать аналитические рекомендации для роста сервиса**\n",
    "- На основе анализа данных предложить улучшения в подписочной модели, клиентском опыте и техподдержке."
   ]
  },
  {
   "cell_type": "code",
   "execution_count": 1,
   "id": "abb3bd56",
   "metadata": {},
   "outputs": [],
   "source": [
    "# Подгружаю различные библиотеки для последующей работы\n",
    "import pandas as pd\n",
    "import numpy as np\n",
    "import matplotlib.pyplot as plt\n",
    "import seaborn as sns\n",
    "from scipy import stats as st\n",
    "from scipy.stats import ttest_ind\n",
    "from scipy.stats import ttest_rel"
   ]
  },
  {
   "cell_type": "markdown",
   "id": "c42cbe00",
   "metadata": {},
   "source": [
    "#### Шаг 1. Загрузка данных"
   ]
  },
  {
   "cell_type": "markdown",
   "id": "440af288",
   "metadata": {},
   "source": [
    "**1.1 Считайте CSV-файлы с данными с помощью библиотеки pandas и сохраните их в датафреймы**\n",
    "\n",
    "Для работы прочитаю датафреймы.\n",
    "В данном случае их три, создам отдельные переменные."
   ]
  },
  {
   "cell_type": "code",
   "execution_count": 2,
   "id": "16a3668e",
   "metadata": {},
   "outputs": [],
   "source": [
    "# С помощью библиотеки pandas использую функцию pd.read_csv для прочтения файлов\n",
    "users_go = pd.read_csv('/datasets/users_go.csv')\n",
    "riders_go = pd.read_csv('/datasets/rides_go.csv')\n",
    "subscriptions_go = pd.read_csv('/datasets/subscriptions_go.csv')"
   ]
  },
  {
   "cell_type": "markdown",
   "id": "37fff2b8",
   "metadata": {},
   "source": [
    "**1.2 Выведите первые строки каждого набора данных. Изучите общую информацию о каждом датафрейме**"
   ]
  },
  {
   "cell_type": "code",
   "execution_count": 3,
   "id": "fac596e6",
   "metadata": {},
   "outputs": [
    {
     "data": {
      "text/html": [
       "<div>\n",
       "<style scoped>\n",
       "    .dataframe tbody tr th:only-of-type {\n",
       "        vertical-align: middle;\n",
       "    }\n",
       "\n",
       "    .dataframe tbody tr th {\n",
       "        vertical-align: top;\n",
       "    }\n",
       "\n",
       "    .dataframe thead th {\n",
       "        text-align: right;\n",
       "    }\n",
       "</style>\n",
       "<table border=\"1\" class=\"dataframe\">\n",
       "  <thead>\n",
       "    <tr style=\"text-align: right;\">\n",
       "      <th></th>\n",
       "      <th>user_id</th>\n",
       "      <th>name</th>\n",
       "      <th>age</th>\n",
       "      <th>city</th>\n",
       "      <th>subscription_type</th>\n",
       "    </tr>\n",
       "  </thead>\n",
       "  <tbody>\n",
       "    <tr>\n",
       "      <th>0</th>\n",
       "      <td>1</td>\n",
       "      <td>Кира</td>\n",
       "      <td>22</td>\n",
       "      <td>Тюмень</td>\n",
       "      <td>ultra</td>\n",
       "    </tr>\n",
       "    <tr>\n",
       "      <th>1</th>\n",
       "      <td>2</td>\n",
       "      <td>Станислав</td>\n",
       "      <td>31</td>\n",
       "      <td>Омск</td>\n",
       "      <td>ultra</td>\n",
       "    </tr>\n",
       "    <tr>\n",
       "      <th>2</th>\n",
       "      <td>3</td>\n",
       "      <td>Алексей</td>\n",
       "      <td>20</td>\n",
       "      <td>Москва</td>\n",
       "      <td>ultra</td>\n",
       "    </tr>\n",
       "    <tr>\n",
       "      <th>3</th>\n",
       "      <td>4</td>\n",
       "      <td>Константин</td>\n",
       "      <td>26</td>\n",
       "      <td>Ростов-на-Дону</td>\n",
       "      <td>ultra</td>\n",
       "    </tr>\n",
       "    <tr>\n",
       "      <th>4</th>\n",
       "      <td>5</td>\n",
       "      <td>Адель</td>\n",
       "      <td>28</td>\n",
       "      <td>Омск</td>\n",
       "      <td>ultra</td>\n",
       "    </tr>\n",
       "  </tbody>\n",
       "</table>\n",
       "</div>"
      ],
      "text/plain": [
       "   user_id        name  age            city subscription_type\n",
       "0        1        Кира   22          Тюмень             ultra\n",
       "1        2   Станислав   31            Омск             ultra\n",
       "2        3     Алексей   20          Москва             ultra\n",
       "3        4  Константин   26  Ростов-на-Дону             ultra\n",
       "4        5       Адель   28            Омск             ultra"
      ]
     },
     "execution_count": 3,
     "metadata": {},
     "output_type": "execute_result"
    }
   ],
   "source": [
    "# Вывожу первые строки каждого датафрейма\n",
    "users_go.head()"
   ]
  },
  {
   "cell_type": "code",
   "execution_count": 4,
   "id": "013b0ec1",
   "metadata": {},
   "outputs": [
    {
     "data": {
      "text/html": [
       "<div>\n",
       "<style scoped>\n",
       "    .dataframe tbody tr th:only-of-type {\n",
       "        vertical-align: middle;\n",
       "    }\n",
       "\n",
       "    .dataframe tbody tr th {\n",
       "        vertical-align: top;\n",
       "    }\n",
       "\n",
       "    .dataframe thead th {\n",
       "        text-align: right;\n",
       "    }\n",
       "</style>\n",
       "<table border=\"1\" class=\"dataframe\">\n",
       "  <thead>\n",
       "    <tr style=\"text-align: right;\">\n",
       "      <th></th>\n",
       "      <th>user_id</th>\n",
       "      <th>distance</th>\n",
       "      <th>duration</th>\n",
       "      <th>date</th>\n",
       "    </tr>\n",
       "  </thead>\n",
       "  <tbody>\n",
       "    <tr>\n",
       "      <th>0</th>\n",
       "      <td>1</td>\n",
       "      <td>4409.919140</td>\n",
       "      <td>25.599769</td>\n",
       "      <td>2021-01-01</td>\n",
       "    </tr>\n",
       "    <tr>\n",
       "      <th>1</th>\n",
       "      <td>1</td>\n",
       "      <td>2617.592153</td>\n",
       "      <td>15.816871</td>\n",
       "      <td>2021-01-18</td>\n",
       "    </tr>\n",
       "    <tr>\n",
       "      <th>2</th>\n",
       "      <td>1</td>\n",
       "      <td>754.159807</td>\n",
       "      <td>6.232113</td>\n",
       "      <td>2021-04-20</td>\n",
       "    </tr>\n",
       "    <tr>\n",
       "      <th>3</th>\n",
       "      <td>1</td>\n",
       "      <td>2694.783254</td>\n",
       "      <td>18.511000</td>\n",
       "      <td>2021-08-11</td>\n",
       "    </tr>\n",
       "    <tr>\n",
       "      <th>4</th>\n",
       "      <td>1</td>\n",
       "      <td>4028.687306</td>\n",
       "      <td>26.265803</td>\n",
       "      <td>2021-08-28</td>\n",
       "    </tr>\n",
       "  </tbody>\n",
       "</table>\n",
       "</div>"
      ],
      "text/plain": [
       "   user_id     distance   duration        date\n",
       "0        1  4409.919140  25.599769  2021-01-01\n",
       "1        1  2617.592153  15.816871  2021-01-18\n",
       "2        1   754.159807   6.232113  2021-04-20\n",
       "3        1  2694.783254  18.511000  2021-08-11\n",
       "4        1  4028.687306  26.265803  2021-08-28"
      ]
     },
     "execution_count": 4,
     "metadata": {},
     "output_type": "execute_result"
    }
   ],
   "source": [
    "riders_go.head()"
   ]
  },
  {
   "cell_type": "code",
   "execution_count": 5,
   "id": "6897700d",
   "metadata": {},
   "outputs": [
    {
     "data": {
      "text/html": [
       "<div>\n",
       "<style scoped>\n",
       "    .dataframe tbody tr th:only-of-type {\n",
       "        vertical-align: middle;\n",
       "    }\n",
       "\n",
       "    .dataframe tbody tr th {\n",
       "        vertical-align: top;\n",
       "    }\n",
       "\n",
       "    .dataframe thead th {\n",
       "        text-align: right;\n",
       "    }\n",
       "</style>\n",
       "<table border=\"1\" class=\"dataframe\">\n",
       "  <thead>\n",
       "    <tr style=\"text-align: right;\">\n",
       "      <th></th>\n",
       "      <th>subscription_type</th>\n",
       "      <th>minute_price</th>\n",
       "      <th>start_ride_price</th>\n",
       "      <th>subscription_fee</th>\n",
       "    </tr>\n",
       "  </thead>\n",
       "  <tbody>\n",
       "    <tr>\n",
       "      <th>0</th>\n",
       "      <td>free</td>\n",
       "      <td>8</td>\n",
       "      <td>50</td>\n",
       "      <td>0</td>\n",
       "    </tr>\n",
       "    <tr>\n",
       "      <th>1</th>\n",
       "      <td>ultra</td>\n",
       "      <td>6</td>\n",
       "      <td>0</td>\n",
       "      <td>199</td>\n",
       "    </tr>\n",
       "  </tbody>\n",
       "</table>\n",
       "</div>"
      ],
      "text/plain": [
       "  subscription_type  minute_price  start_ride_price  subscription_fee\n",
       "0              free             8                50                 0\n",
       "1             ultra             6                 0               199"
      ]
     },
     "execution_count": 5,
     "metadata": {},
     "output_type": "execute_result"
    }
   ],
   "source": [
    "subscriptions_go.head()"
   ]
  },
  {
   "cell_type": "markdown",
   "id": "74047fad",
   "metadata": {},
   "source": [
    "**Обзор датафреймов**\n",
    "\n",
    "**users_go — данные о пользователях**\n",
    "\n",
    "Содержит следующие поля:\n",
    "\n",
    "user_id — уникальный идентификатор пользователя;\n",
    "\n",
    "name — имя;\n",
    "\n",
    "age — возраст;\n",
    "\n",
    "city — город проживания;\n",
    "\n",
    "subscription_type — тип подписки (ultra или, вероятно, free в других строках).\n",
    "\n",
    "Все пользователи в первых строках имеют подписку ultra.\n",
    "\n",
    "**Предварительный вывод:** структура таблицы подходит для анализа демографии и сегментации пользователей по типу подписки и городу.\n",
    "\n",
    "**riders_go — данные о поездках**\n",
    "\n",
    "Содержит следующие поля:\n",
    "\n",
    "user_id — идентификатор пользователя;\n",
    "\n",
    "distance — расстояние поездки (в метрах);\n",
    "\n",
    "duration — продолжительность (в минутах);\n",
    "\n",
    "date — дата поездки.\n",
    "\n",
    "В данных есть дробные значения продолжительности, пригодные для округления в расчётах выручки.\n",
    "\n",
    "**Предварительный вывод:** таблица позволяет анализировать поведение пользователей по времени, расстоянию и частоте поездок.\n",
    "\n",
    "**subscriptions_go — условия подписки**\n",
    "\n",
    "Содержит следующие поля:\n",
    "\n",
    "subscription_type — тип подписки (free или ultra);\n",
    "\n",
    "minute_price — стоимость минуты;\n",
    "\n",
    "start_ride_price — стоимость начала поездки;\n",
    "\n",
    "subscription_fee — ежемесячная плата.\n",
    "\n",
    "Подписка ultra даёт скидку на поездки и убирает плату за старт.\n",
    "\n",
    "**Предварительный вывод:** таблица важна для расчёта выручки и сравнительного анализа подписки.\n",
    "\n",
    "**Общий вывод:**\n",
    "Данные успешно загружены и имеют логичную структуру. Они готовы к дальнейшей обработке: очистке и анализу. Каждая таблица дополняет другую, и в связке они дают полное представление о пользователях, поездках и тарифах сервиса GoFast."
   ]
  },
  {
   "cell_type": "markdown",
   "id": "e95ebca7",
   "metadata": {},
   "source": [
    "#### Шаг 2. Предобработка данных"
   ]
  },
  {
   "cell_type": "markdown",
   "id": "b2ceb2ea",
   "metadata": {},
   "source": [
    "**2.1 Приведите столбец date к типу даты pandas**"
   ]
  },
  {
   "cell_type": "code",
   "execution_count": 6,
   "id": "2e67453c",
   "metadata": {},
   "outputs": [
    {
     "name": "stdout",
     "output_type": "stream",
     "text": [
      "<class 'pandas.core.frame.DataFrame'>\n",
      "RangeIndex: 18068 entries, 0 to 18067\n",
      "Data columns (total 4 columns):\n",
      " #   Column    Non-Null Count  Dtype  \n",
      "---  ------    --------------  -----  \n",
      " 0   user_id   18068 non-null  int64  \n",
      " 1   distance  18068 non-null  float64\n",
      " 2   duration  18068 non-null  float64\n",
      " 3   date      18068 non-null  object \n",
      "dtypes: float64(2), int64(1), object(1)\n",
      "memory usage: 564.8+ KB\n"
     ]
    }
   ],
   "source": [
    "# Вызову метод info(), чтобы посмотреть какой тип даты в таблице\n",
    "riders_go.info()"
   ]
  },
  {
   "cell_type": "markdown",
   "id": "736f1838",
   "metadata": {},
   "source": [
    "У столбца date тип object, следует его поменять на datetime64[ns]. С этим поможет pd.to_datetime"
   ]
  },
  {
   "cell_type": "code",
   "execution_count": 7,
   "id": "55a2631d",
   "metadata": {},
   "outputs": [],
   "source": [
    "# Вызываю столбец для которого будет применяться функция\n",
    "riders_go['date'] = pd.to_datetime(riders_go['date']) "
   ]
  },
  {
   "cell_type": "code",
   "execution_count": 8,
   "id": "3ec20120",
   "metadata": {},
   "outputs": [
    {
     "name": "stdout",
     "output_type": "stream",
     "text": [
      "<class 'pandas.core.frame.DataFrame'>\n",
      "RangeIndex: 18068 entries, 0 to 18067\n",
      "Data columns (total 4 columns):\n",
      " #   Column    Non-Null Count  Dtype         \n",
      "---  ------    --------------  -----         \n",
      " 0   user_id   18068 non-null  int64         \n",
      " 1   distance  18068 non-null  float64       \n",
      " 2   duration  18068 non-null  float64       \n",
      " 3   date      18068 non-null  datetime64[ns]\n",
      "dtypes: datetime64[ns](1), float64(2), int64(1)\n",
      "memory usage: 564.8 KB\n"
     ]
    }
   ],
   "source": [
    "# Проверяю результат\n",
    "riders_go.info()"
   ]
  },
  {
   "cell_type": "markdown",
   "id": "3334688b",
   "metadata": {},
   "source": [
    "Тип даты изменился"
   ]
  },
  {
   "cell_type": "markdown",
   "id": "c66c47b1",
   "metadata": {},
   "source": [
    "**2.2 Создайте новый столбец с номером месяца на основе столбца date**"
   ]
  },
  {
   "cell_type": "code",
   "execution_count": 9,
   "id": "f444c27a",
   "metadata": {},
   "outputs": [],
   "source": [
    "# Использую pd.DatetimeIndex, эта функция вычлиняет определенный параметр из даты. В данном случае - месяц\n",
    "riders_go['month'] = pd.DatetimeIndex(riders_go['date']).month "
   ]
  },
  {
   "cell_type": "code",
   "execution_count": 10,
   "id": "56278539",
   "metadata": {},
   "outputs": [
    {
     "data": {
      "text/html": [
       "<div>\n",
       "<style scoped>\n",
       "    .dataframe tbody tr th:only-of-type {\n",
       "        vertical-align: middle;\n",
       "    }\n",
       "\n",
       "    .dataframe tbody tr th {\n",
       "        vertical-align: top;\n",
       "    }\n",
       "\n",
       "    .dataframe thead th {\n",
       "        text-align: right;\n",
       "    }\n",
       "</style>\n",
       "<table border=\"1\" class=\"dataframe\">\n",
       "  <thead>\n",
       "    <tr style=\"text-align: right;\">\n",
       "      <th></th>\n",
       "      <th>user_id</th>\n",
       "      <th>distance</th>\n",
       "      <th>duration</th>\n",
       "      <th>date</th>\n",
       "      <th>month</th>\n",
       "    </tr>\n",
       "  </thead>\n",
       "  <tbody>\n",
       "    <tr>\n",
       "      <th>0</th>\n",
       "      <td>1</td>\n",
       "      <td>4409.919140</td>\n",
       "      <td>25.599769</td>\n",
       "      <td>2021-01-01</td>\n",
       "      <td>1</td>\n",
       "    </tr>\n",
       "    <tr>\n",
       "      <th>1</th>\n",
       "      <td>1</td>\n",
       "      <td>2617.592153</td>\n",
       "      <td>15.816871</td>\n",
       "      <td>2021-01-18</td>\n",
       "      <td>1</td>\n",
       "    </tr>\n",
       "    <tr>\n",
       "      <th>2</th>\n",
       "      <td>1</td>\n",
       "      <td>754.159807</td>\n",
       "      <td>6.232113</td>\n",
       "      <td>2021-04-20</td>\n",
       "      <td>4</td>\n",
       "    </tr>\n",
       "    <tr>\n",
       "      <th>3</th>\n",
       "      <td>1</td>\n",
       "      <td>2694.783254</td>\n",
       "      <td>18.511000</td>\n",
       "      <td>2021-08-11</td>\n",
       "      <td>8</td>\n",
       "    </tr>\n",
       "    <tr>\n",
       "      <th>4</th>\n",
       "      <td>1</td>\n",
       "      <td>4028.687306</td>\n",
       "      <td>26.265803</td>\n",
       "      <td>2021-08-28</td>\n",
       "      <td>8</td>\n",
       "    </tr>\n",
       "  </tbody>\n",
       "</table>\n",
       "</div>"
      ],
      "text/plain": [
       "   user_id     distance   duration       date  month\n",
       "0        1  4409.919140  25.599769 2021-01-01      1\n",
       "1        1  2617.592153  15.816871 2021-01-18      1\n",
       "2        1   754.159807   6.232113 2021-04-20      4\n",
       "3        1  2694.783254  18.511000 2021-08-11      8\n",
       "4        1  4028.687306  26.265803 2021-08-28      8"
      ]
     },
     "execution_count": 10,
     "metadata": {},
     "output_type": "execute_result"
    }
   ],
   "source": [
    "# Проверяю результат\n",
    "riders_go.head()"
   ]
  },
  {
   "cell_type": "markdown",
   "id": "4fde3601",
   "metadata": {},
   "source": [
    "**2.3 Проверьте наличие пропущенных значений и дубликатов в датафреймах. Обработайте их, если такие значения присутствуют**"
   ]
  },
  {
   "cell_type": "code",
   "execution_count": 11,
   "id": "8ef5d409",
   "metadata": {},
   "outputs": [
    {
     "data": {
      "text/plain": [
       "31"
      ]
     },
     "execution_count": 11,
     "metadata": {},
     "output_type": "execute_result"
    }
   ],
   "source": [
    "# Проверяю на наличие явных дубликатов\n",
    "users_go.duplicated().sum()"
   ]
  },
  {
   "cell_type": "markdown",
   "id": "221ffdbc",
   "metadata": {},
   "source": [
    "В первом датафрейме есть явные дубликаты, посмотрю их поближе"
   ]
  },
  {
   "cell_type": "code",
   "execution_count": 12,
   "id": "8c8ac8ca",
   "metadata": {},
   "outputs": [
    {
     "data": {
      "text/plain": [
       "user_id  name       age  city            subscription_type\n",
       "209      Андрей     23   Омск            ultra                2\n",
       "807      Александр  28   Екатеринбург    free                 2\n",
       "611      Владимир   28   Омск            ultra                2\n",
       "43       Стефания   22   Омск            ultra                2\n",
       "737      Мелания    27   Ростов-на-Дону  free                 2\n",
       "                                                             ..\n",
       "520      Анжелика   30   Екатеринбург    ultra                1\n",
       "519      Даниэль    22   Ростов-на-Дону  ultra                1\n",
       "518      Алиса      22   Ростов-на-Дону  ultra                1\n",
       "517      Олег       25   Краснодар       ultra                1\n",
       "1534     Альберт    25   Краснодар       free                 1\n",
       "Length: 1534, dtype: int64"
      ]
     },
     "execution_count": 12,
     "metadata": {},
     "output_type": "execute_result"
    }
   ],
   "source": [
    "# Метод value_counts() выведет все значения из таблицы и покажет их количетсво в датафрейме\n",
    "users_go.value_counts()"
   ]
  },
  {
   "cell_type": "markdown",
   "id": "ca1542d3",
   "metadata": {},
   "source": [
    "Видно, что некоторые значения полностью повторяются. Рассмотрю один из таких примеров отдельно. И удалю подобные, если это необходимо."
   ]
  },
  {
   "cell_type": "code",
   "execution_count": 13,
   "id": "ea088bbd",
   "metadata": {},
   "outputs": [
    {
     "data": {
      "text/html": [
       "<div>\n",
       "<style scoped>\n",
       "    .dataframe tbody tr th:only-of-type {\n",
       "        vertical-align: middle;\n",
       "    }\n",
       "\n",
       "    .dataframe tbody tr th {\n",
       "        vertical-align: top;\n",
       "    }\n",
       "\n",
       "    .dataframe thead th {\n",
       "        text-align: right;\n",
       "    }\n",
       "</style>\n",
       "<table border=\"1\" class=\"dataframe\">\n",
       "  <thead>\n",
       "    <tr style=\"text-align: right;\">\n",
       "      <th></th>\n",
       "      <th>user_id</th>\n",
       "      <th>name</th>\n",
       "      <th>age</th>\n",
       "      <th>city</th>\n",
       "      <th>subscription_type</th>\n",
       "    </tr>\n",
       "  </thead>\n",
       "  <tbody>\n",
       "    <tr>\n",
       "      <th>208</th>\n",
       "      <td>209</td>\n",
       "      <td>Андрей</td>\n",
       "      <td>23</td>\n",
       "      <td>Омск</td>\n",
       "      <td>ultra</td>\n",
       "    </tr>\n",
       "    <tr>\n",
       "      <th>1559</th>\n",
       "      <td>209</td>\n",
       "      <td>Андрей</td>\n",
       "      <td>23</td>\n",
       "      <td>Омск</td>\n",
       "      <td>ultra</td>\n",
       "    </tr>\n",
       "  </tbody>\n",
       "</table>\n",
       "</div>"
      ],
      "text/plain": [
       "      user_id    name  age  city subscription_type\n",
       "208       209  Андрей   23  Омск             ultra\n",
       "1559      209  Андрей   23  Омск             ultra"
      ]
     },
     "execution_count": 13,
     "metadata": {},
     "output_type": "execute_result"
    }
   ],
   "source": [
    "# Использую индексацию для поиска конкретного значения\n",
    "users_go[users_go['user_id'] == 209]"
   ]
  },
  {
   "cell_type": "markdown",
   "id": "d59ce498",
   "metadata": {},
   "source": [
    "Да, данные в точности повторяются. Следует удалить эти дубликаты."
   ]
  },
  {
   "cell_type": "code",
   "execution_count": 14,
   "id": "46a3457e",
   "metadata": {},
   "outputs": [],
   "source": [
    "# Воспользуюсь методом drop_duplicates(). Он удалит все дубликаты из заданного датафрейма\n",
    "# Пересохраняю данные в переменную\n",
    "# Параметры subset и keep отражают столбец, в котором искать и какую строку оставить в датафрейме, соответственно\n",
    "users_go = users_go.drop_duplicates(subset= 'user_id', keep='first')"
   ]
  },
  {
   "cell_type": "code",
   "execution_count": 15,
   "id": "372584ed",
   "metadata": {},
   "outputs": [
    {
     "data": {
      "text/plain": [
       "user_id  name       age  city            subscription_type\n",
       "1        Кира       22   Тюмень          ultra                1\n",
       "1020     Камилла    32   Москва          free                 1\n",
       "1029     Игорь      21   Краснодар       free                 1\n",
       "1028     Вадим      17   Сочи            free                 1\n",
       "1027     Мария      21   Сочи            free                 1\n",
       "                                                             ..\n",
       "510      Роман      24   Ростов-на-Дону  ultra                1\n",
       "509      Ян         29   Москва          ultra                1\n",
       "508      Станислав  15   Тюмень          ultra                1\n",
       "507      Эвелина    27   Пятигорск       ultra                1\n",
       "1534     Альберт    25   Краснодар       free                 1\n",
       "Length: 1534, dtype: int64"
      ]
     },
     "execution_count": 15,
     "metadata": {},
     "output_type": "execute_result"
    }
   ],
   "source": [
    "# Проверяю результаты\n",
    "users_go.value_counts()"
   ]
  },
  {
   "cell_type": "markdown",
   "id": "89dc5911",
   "metadata": {},
   "source": [
    "Итак, явные дубликаты удалены. Теперь следует посмотреть наличие пропущенных значений."
   ]
  },
  {
   "cell_type": "code",
   "execution_count": 16,
   "id": "7c1ed1b1",
   "metadata": {},
   "outputs": [
    {
     "name": "stdout",
     "output_type": "stream",
     "text": [
      "<class 'pandas.core.frame.DataFrame'>\n",
      "Int64Index: 1534 entries, 0 to 1533\n",
      "Data columns (total 5 columns):\n",
      " #   Column             Non-Null Count  Dtype \n",
      "---  ------             --------------  ----- \n",
      " 0   user_id            1534 non-null   int64 \n",
      " 1   name               1534 non-null   object\n",
      " 2   age                1534 non-null   int64 \n",
      " 3   city               1534 non-null   object\n",
      " 4   subscription_type  1534 non-null   object\n",
      "dtypes: int64(2), object(3)\n",
      "memory usage: 71.9+ KB\n"
     ]
    }
   ],
   "source": [
    "# Снова вызову метод info() для датафрейма. Таким образом легко можно понять есть ли пропущенные значения\n",
    "users_go.info()"
   ]
  },
  {
   "cell_type": "markdown",
   "id": "fd7a9d4e",
   "metadata": {},
   "source": [
    "Пропусков не наблюдается. Но есть несколько типов object. Следует их поменять для будущего удобства"
   ]
  },
  {
   "cell_type": "code",
   "execution_count": 17,
   "id": "7c9d4c23",
   "metadata": {},
   "outputs": [
    {
     "data": {
      "text/html": [
       "<div>\n",
       "<style scoped>\n",
       "    .dataframe tbody tr th:only-of-type {\n",
       "        vertical-align: middle;\n",
       "    }\n",
       "\n",
       "    .dataframe tbody tr th {\n",
       "        vertical-align: top;\n",
       "    }\n",
       "\n",
       "    .dataframe thead th {\n",
       "        text-align: right;\n",
       "    }\n",
       "</style>\n",
       "<table border=\"1\" class=\"dataframe\">\n",
       "  <thead>\n",
       "    <tr style=\"text-align: right;\">\n",
       "      <th></th>\n",
       "      <th>user_id</th>\n",
       "      <th>name</th>\n",
       "      <th>age</th>\n",
       "      <th>city</th>\n",
       "      <th>subscription_type</th>\n",
       "    </tr>\n",
       "  </thead>\n",
       "  <tbody>\n",
       "    <tr>\n",
       "      <th>0</th>\n",
       "      <td>1</td>\n",
       "      <td>Кира</td>\n",
       "      <td>22</td>\n",
       "      <td>Тюмень</td>\n",
       "      <td>ultra</td>\n",
       "    </tr>\n",
       "    <tr>\n",
       "      <th>1</th>\n",
       "      <td>2</td>\n",
       "      <td>Станислав</td>\n",
       "      <td>31</td>\n",
       "      <td>Омск</td>\n",
       "      <td>ultra</td>\n",
       "    </tr>\n",
       "    <tr>\n",
       "      <th>2</th>\n",
       "      <td>3</td>\n",
       "      <td>Алексей</td>\n",
       "      <td>20</td>\n",
       "      <td>Москва</td>\n",
       "      <td>ultra</td>\n",
       "    </tr>\n",
       "    <tr>\n",
       "      <th>3</th>\n",
       "      <td>4</td>\n",
       "      <td>Константин</td>\n",
       "      <td>26</td>\n",
       "      <td>Ростов-на-Дону</td>\n",
       "      <td>ultra</td>\n",
       "    </tr>\n",
       "    <tr>\n",
       "      <th>4</th>\n",
       "      <td>5</td>\n",
       "      <td>Адель</td>\n",
       "      <td>28</td>\n",
       "      <td>Омск</td>\n",
       "      <td>ultra</td>\n",
       "    </tr>\n",
       "  </tbody>\n",
       "</table>\n",
       "</div>"
      ],
      "text/plain": [
       "   user_id        name  age            city subscription_type\n",
       "0        1        Кира   22          Тюмень             ultra\n",
       "1        2   Станислав   31            Омск             ultra\n",
       "2        3     Алексей   20          Москва             ultra\n",
       "3        4  Константин   26  Ростов-на-Дону             ultra\n",
       "4        5       Адель   28            Омск             ultra"
      ]
     },
     "execution_count": 17,
     "metadata": {},
     "output_type": "execute_result"
    }
   ],
   "source": [
    "# Выведу значения таблицы, что бы понять какой тип данных следует сделать\n",
    "users_go.head()"
   ]
  },
  {
   "cell_type": "markdown",
   "id": "6d43a254",
   "metadata": {},
   "source": [
    "Для столбцов name, city и subscription_type подходит тип str. Обновлю данные"
   ]
  },
  {
   "cell_type": "code",
   "execution_count": 18,
   "id": "23e883b0",
   "metadata": {},
   "outputs": [],
   "source": [
    "# Выделяю нужные столбцы и воспользуюсь методом astype, это поможет обновить тип данных на нужный\n",
    "users_go[['name', 'city', 'subscription_type']] = users_go[['name', 'city', 'subscription_type']].astype('string') "
   ]
  },
  {
   "cell_type": "code",
   "execution_count": 19,
   "id": "24d374d1",
   "metadata": {},
   "outputs": [
    {
     "name": "stdout",
     "output_type": "stream",
     "text": [
      "<class 'pandas.core.frame.DataFrame'>\n",
      "Int64Index: 1534 entries, 0 to 1533\n",
      "Data columns (total 5 columns):\n",
      " #   Column             Non-Null Count  Dtype \n",
      "---  ------             --------------  ----- \n",
      " 0   user_id            1534 non-null   int64 \n",
      " 1   name               1534 non-null   string\n",
      " 2   age                1534 non-null   int64 \n",
      " 3   city               1534 non-null   string\n",
      " 4   subscription_type  1534 non-null   string\n",
      "dtypes: int64(2), string(3)\n",
      "memory usage: 71.9 KB\n"
     ]
    }
   ],
   "source": [
    "# Проверяю результат\n",
    "users_go.info()"
   ]
  },
  {
   "cell_type": "markdown",
   "id": "645186ca",
   "metadata": {},
   "source": [
    "Лишние object'ы ушли, продолжу работу"
   ]
  },
  {
   "cell_type": "markdown",
   "id": "b32b88a8",
   "metadata": {},
   "source": [
    "Проделаю такие же действия для оставшихся двух датафреймов"
   ]
  },
  {
   "cell_type": "code",
   "execution_count": 20,
   "id": "cd6a05bc",
   "metadata": {},
   "outputs": [
    {
     "data": {
      "text/plain": [
       "0"
      ]
     },
     "execution_count": 20,
     "metadata": {},
     "output_type": "execute_result"
    }
   ],
   "source": [
    "riders_go.duplicated().sum()"
   ]
  },
  {
   "cell_type": "markdown",
   "id": "49dea16a",
   "metadata": {},
   "source": [
    "Явных дубликатов нет. Проверю на наличние пропусков"
   ]
  },
  {
   "cell_type": "code",
   "execution_count": 21,
   "id": "00b3f2ec",
   "metadata": {},
   "outputs": [
    {
     "name": "stdout",
     "output_type": "stream",
     "text": [
      "<class 'pandas.core.frame.DataFrame'>\n",
      "RangeIndex: 18068 entries, 0 to 18067\n",
      "Data columns (total 5 columns):\n",
      " #   Column    Non-Null Count  Dtype         \n",
      "---  ------    --------------  -----         \n",
      " 0   user_id   18068 non-null  int64         \n",
      " 1   distance  18068 non-null  float64       \n",
      " 2   duration  18068 non-null  float64       \n",
      " 3   date      18068 non-null  datetime64[ns]\n",
      " 4   month     18068 non-null  int64         \n",
      "dtypes: datetime64[ns](1), float64(2), int64(2)\n",
      "memory usage: 705.9 KB\n"
     ]
    }
   ],
   "source": [
    "riders_go.info()"
   ]
  },
  {
   "cell_type": "markdown",
   "id": "a7adf2bc",
   "metadata": {},
   "source": [
    "Во всех столбцах одинаковое количество значений. Проверю последний столбец"
   ]
  },
  {
   "cell_type": "code",
   "execution_count": 22,
   "id": "b08acb67",
   "metadata": {},
   "outputs": [
    {
     "data": {
      "text/plain": [
       "0"
      ]
     },
     "execution_count": 22,
     "metadata": {},
     "output_type": "execute_result"
    }
   ],
   "source": [
    "subscriptions_go.duplicated().sum()"
   ]
  },
  {
   "cell_type": "code",
   "execution_count": 23,
   "id": "38526c6b",
   "metadata": {},
   "outputs": [
    {
     "name": "stdout",
     "output_type": "stream",
     "text": [
      "<class 'pandas.core.frame.DataFrame'>\n",
      "RangeIndex: 2 entries, 0 to 1\n",
      "Data columns (total 4 columns):\n",
      " #   Column             Non-Null Count  Dtype \n",
      "---  ------             --------------  ----- \n",
      " 0   subscription_type  2 non-null      object\n",
      " 1   minute_price       2 non-null      int64 \n",
      " 2   start_ride_price   2 non-null      int64 \n",
      " 3   subscription_fee   2 non-null      int64 \n",
      "dtypes: int64(3), object(1)\n",
      "memory usage: 192.0+ bytes\n"
     ]
    }
   ],
   "source": [
    "subscriptions_go.info()"
   ]
  },
  {
   "cell_type": "markdown",
   "id": "36b34066",
   "metadata": {},
   "source": [
    "Здесь присутствует object, заменю его"
   ]
  },
  {
   "cell_type": "code",
   "execution_count": 24,
   "id": "a709b864",
   "metadata": {},
   "outputs": [],
   "source": [
    "# Меняю тип данных уже знакомым методом\n",
    "subscriptions_go['subscription_type'] = subscriptions_go['subscription_type'].astype('string') "
   ]
  },
  {
   "cell_type": "code",
   "execution_count": 25,
   "id": "c0d4ee8d",
   "metadata": {},
   "outputs": [
    {
     "name": "stdout",
     "output_type": "stream",
     "text": [
      "<class 'pandas.core.frame.DataFrame'>\n",
      "RangeIndex: 2 entries, 0 to 1\n",
      "Data columns (total 4 columns):\n",
      " #   Column             Non-Null Count  Dtype \n",
      "---  ------             --------------  ----- \n",
      " 0   subscription_type  2 non-null      string\n",
      " 1   minute_price       2 non-null      int64 \n",
      " 2   start_ride_price   2 non-null      int64 \n",
      " 3   subscription_fee   2 non-null      int64 \n",
      "dtypes: int64(3), string(1)\n",
      "memory usage: 192.0 bytes\n"
     ]
    }
   ],
   "source": [
    "# Проверяю результат\n",
    "subscriptions_go.info()"
   ]
  },
  {
   "cell_type": "markdown",
   "id": "f90528ae",
   "metadata": {},
   "source": [
    "**Предобработка данных — выводы:**\n",
    "\n",
    "**Дата преобразована к типу datetime**\n",
    "- Столбец date в датафрейме riders_go был успешно приведён к типу datetime64, что позволяет проводить удобный временной анализ и извлекать компоненты даты, такие как месяц или день.\n",
    "\n",
    "**Создан столбец с номером месяца**\n",
    "- На основе столбца date был добавлен новый столбец month, содержащий номер месяца каждой поездки. Это пригодится для анализа сезонности и помесячной выручки.\n",
    "\n",
    "**Обновлены типы строковых переменных**\n",
    "- В датафрейме users_go столбцы 'name', 'city' и 'subscription_type' были преобразованы из object в более подходящий тип string. Это улучшает читаемость данных и корректность обработки строк.\n",
    "\n",
    "**Отсутствие пропусков и дубликатов**\n",
    "- Проверка на наличие пропущенных значений и дубликатов показала, что данные в каждом из трёх датафреймов (users_go, riders_go, subscriptions_go) не содержат NaN и дублирующихся строк. Это означает, что данные уже готовы к следующему этапу анализа — исследовательской аналитике.\n",
    "\n",
    "**Общий вывод:** Данные были успешно подготовлены для последующего анализа. Преобразованы типы переменных (в частности, даты и строковые значения), добавлен столбец с месяцем для временного анализа, а также проведена проверка на чистоту данных — пропусков и дубликатов не обнаружено. Все датафреймы находятся в корректной структуре, что позволяет уверенно переходить к этапу исследовательского анализа."
   ]
  },
  {
   "cell_type": "markdown",
   "id": "212593c7",
   "metadata": {},
   "source": [
    "#### Шаг 3. Исследовательский анализ данных"
   ]
  },
  {
   "cell_type": "markdown",
   "id": "25fd1aba",
   "metadata": {},
   "source": [
    "**3.1 частота встречаемости городов**\n",
    "\n",
    "Вывзову метод value_counts(), он должен показать количество встречающихся занчений"
   ]
  },
  {
   "cell_type": "code",
   "execution_count": 26,
   "id": "92c8ea70",
   "metadata": {},
   "outputs": [],
   "source": [
    "# Запишу данные в отдельную переменную, это будет нужно для визуализации\n",
    "# Применяю метод для определенного столбца\n",
    "city_counts = users_go['city'].value_counts()"
   ]
  },
  {
   "cell_type": "markdown",
   "id": "3398dad9",
   "metadata": {},
   "source": [
    "Теперь сделаю визуализацию для этого столбца. Для этого воспользуюсь возможностями библиотеки matplotlib.pyplot, которую я подгрузил в самом начале работы"
   ]
  },
  {
   "cell_type": "code",
   "execution_count": 27,
   "id": "a937ef17",
   "metadata": {},
   "outputs": [
    {
     "name": "stdout",
     "output_type": "stream",
     "text": [
      "                Количество пользователей\n",
      "Пятигорск                            219\n",
      "Екатеринбург                         204\n",
      "Ростов-на-Дону                       198\n",
      "Краснодар                            193\n",
      "Сочи                                 189\n",
      "Омск                                 183\n",
      "Тюмень                               180\n",
      "Москва                               168\n"
     ]
    },
    {
     "data": {
      "image/png": "[encoded data removed]",
      "text/plain": [
       "<Figure size 720x432 with 1 Axes>"
      ]
     },
     "metadata": {
      "needs_background": "light"
     },
     "output_type": "display_data"
    }
   ],
   "source": [
    "# Вывожу таблицу количества пользователей\n",
    "print(city_counts.to_frame(name='Количество пользователей'))\n",
    "\n",
    "plt.figure(figsize=(10, 6))\n",
    "city_counts.plot(kind='barh') # Использую горизонтальный график, потому что названия городов обычно длинные. Так их легче читать\n",
    "plt.title('Распределение пользователей по городам')\n",
    "plt.xlabel('Количество пользователей')\n",
    "plt.ylabel('Город')\n",
    "plt.gca().invert_yaxis() # Чтобы самые популярные были вверху\n",
    "plt.grid(axis='x', linestyle='--', alpha=0.7)\n",
    "plt.show()"
   ]
  },
  {
   "cell_type": "markdown",
   "id": "627bab97",
   "metadata": {},
   "source": [
    "Итак, самый часто встречаемый город - это Пятигорск"
   ]
  },
  {
   "cell_type": "markdown",
   "id": "110080cb",
   "metadata": {},
   "source": [
    "**3.2 соотношение пользователей с подпиской и без подписки**\n",
    "\n",
    "Таким же способом найду эти данные"
   ]
  },
  {
   "cell_type": "code",
   "execution_count": 29,
   "id": "c41f97c0",
   "metadata": {},
   "outputs": [],
   "source": [
    "subscription_counts = users_go['subscription_type'].value_counts()"
   ]
  },
  {
   "cell_type": "code",
   "execution_count": 30,
   "id": "104d67b0",
   "metadata": {},
   "outputs": [
    {
     "data": {
      "image/png": "[encoded data removed]",
      "text/plain": [
       "<Figure size 360x288 with 1 Axes>"
      ]
     },
     "metadata": {
      "needs_background": "light"
     },
     "output_type": "display_data"
    }
   ],
   "source": [
    "plt.figure(figsize=(5, 4))\n",
    "subscription_counts.plot(kind='bar', color=['orange', 'green']) # Выделяю цветом два вида подписки\n",
    "plt.title('Распределение пользователей по типам подписки')\n",
    "plt.xlabel('Тип подписки')\n",
    "plt.ylabel('Количество пользователей')\n",
    "plt.grid(axis='y', linestyle='--', alpha=0.7)\n",
    "plt.show()"
   ]
  },
  {
   "cell_type": "markdown",
   "id": "fc56f68c",
   "metadata": {},
   "source": [
    "И отдельно выведу соотношение между типами подписки"
   ]
  },
  {
   "cell_type": "code",
   "execution_count": 31,
   "id": "2a7f173d",
   "metadata": {},
   "outputs": [
    {
     "name": "stdout",
     "output_type": "stream",
     "text": [
      "free     54.4\n",
      "ultra    45.6\n",
      "Name: subscription_type, dtype: float64\n"
     ]
    }
   ],
   "source": [
    "# Расчитываю доли каждого типа подписки\n",
    "# Использую normalize=True, так как метод value_counts() изначально считает в целых числах, а аргумент выводит доли\n",
    "subscription_ratio = users_go['subscription_type'].value_counts(normalize=True)\n",
    "\n",
    "# Умножаю на 100, чтобы получить проценты\n",
    "subscription_ratio_percent = users_go['subscription_type'].value_counts(normalize=True) * 100\n",
    "# При округлении вышла ошибка, был тип FloatingArray. Меняю его на нужный float и округляю до 2-х знаков\n",
    "subscription_ratio_percent = subscription_ratio_percent.astype(float).round(1)\n",
    "\n",
    "print(subscription_ratio_percent)"
   ]
  },
  {
   "cell_type": "code",
   "execution_count": 32,
   "id": "967bbf41",
   "metadata": {},
   "outputs": [
    {
     "data": {
      "image/png": "[encoded data removed]",
      "text/plain": [
       "<Figure size 432x432 with 1 Axes>"
      ]
     },
     "metadata": {},
     "output_type": "display_data"
    }
   ],
   "source": [
    "# Строю круговую диаграмму\n",
    "plt.figure(figsize=(6, 6))\n",
    "plt.pie(subscription_ratio_percent, labels=subscription_ratio_percent.index, autopct='%1.1f%%', startangle=90)\n",
    "plt.title('Распределение пользователей по типу подписки')\n",
    "plt.show()"
   ]
  },
  {
   "cell_type": "markdown",
   "id": "2b5e03aa",
   "metadata": {},
   "source": [
    "Неплохое соотношение: 54,4(free) к 45,6(ultra). Я предполагал, что подписчиков ultra будет меньше"
   ]
  },
  {
   "cell_type": "markdown",
   "id": "6e8d5724",
   "metadata": {},
   "source": [
    "**3.3 возраст пользователей**\n",
    "\n",
    "Здесь так же воспользуюсь методом value_counts() и графиком"
   ]
  },
  {
   "cell_type": "code",
   "execution_count": 33,
   "id": "d1926430",
   "metadata": {},
   "outputs": [
    {
     "name": "stdout",
     "output_type": "stream",
     "text": [
      "Медианный возраст пользователей: 25.0\n",
      "Средний возраст пользователей: 25.0\n"
     ]
    }
   ],
   "source": [
    "# Вычисляю медиану и среднее\n",
    "median_age = users_go['age'].median()\n",
    "mean_age = users_go['age'].mean().round()\n",
    "\n",
    "print(f'Медианный возраст пользователей: {median_age}')\n",
    "print(f'Средний возраст пользователей: {mean_age}')"
   ]
  },
  {
   "cell_type": "code",
   "execution_count": 34,
   "id": "6d00e2e6",
   "metadata": {},
   "outputs": [
    {
     "data": {
      "image/png": "[encoded data removed]",
      "text/plain": [
       "<Figure size 720x288 with 1 Axes>"
      ]
     },
     "metadata": {
      "needs_background": "light"
     },
     "output_type": "display_data"
    }
   ],
   "source": [
    "# Строю гистограмму\n",
    "plt.figure(figsize=(10, 4))\n",
    "plt.hist(users_go['age'], bins=20, edgecolor='black')\n",
    "plt.title('Распределение возраста пользователей')\n",
    "plt.xlabel('Возраст')\n",
    "plt.ylabel('Количество пользователей')\n",
    "# Обозначаю линии медианы и среднего возраста\n",
    "plt.axvline(median_age, color='blue', linestyle='--', label=f'Медиана: {median_age:.0f}')\n",
    "plt.axvline(mean_age, color='orange', linestyle='--', label=f'Среднее: {mean_age:.0f}')\n",
    "plt.grid(axis='y', linestyle='--')\n",
    "plt.legend()\n",
    "plt.show()"
   ]
  },
  {
   "cell_type": "markdown",
   "id": "2450ed7c",
   "metadata": {},
   "source": [
    "**3.4 расстояние, которое пользователь преодолел за одну поездку**\n",
    "\n",
    "Для выполнения этой задачи подойдет только график"
   ]
  },
  {
   "cell_type": "code",
   "execution_count": 35,
   "id": "e7bb83e5",
   "metadata": {},
   "outputs": [
    {
     "data": {
      "image/png": "[encoded data removed]",
      "text/plain": [
       "<Figure size 720x432 with 1 Axes>"
      ]
     },
     "metadata": {
      "needs_background": "light"
     },
     "output_type": "display_data"
    }
   ],
   "source": [
    "plt.figure(figsize=(10, 6))\n",
    "sns.histplot(riders_go['distance'], bins=30) # С помощью seaborn строю гистограмму и разделяю группы по расстоянию\n",
    "plt.title('Распределение расстояний за одну поездку')\n",
    "plt.xlabel('Расстояние, м')\n",
    "plt.ylabel('Количество поездок')\n",
    "plt.grid(True)\n",
    "plt.show()"
   ]
  },
  {
   "cell_type": "markdown",
   "id": "3a3e16bd",
   "metadata": {},
   "source": [
    "**3.5 продолжительность поездок**\n",
    "\n",
    "Для продолжительности тоже подойдет только график"
   ]
  },
  {
   "cell_type": "code",
   "execution_count": 36,
   "id": "871f1b89",
   "metadata": {},
   "outputs": [
    {
     "data": {
      "image/png": "[encoded data removed]",
      "text/plain": [
       "<Figure size 720x432 with 1 Axes>"
      ]
     },
     "metadata": {
      "needs_background": "light"
     },
     "output_type": "display_data"
    }
   ],
   "source": [
    "plt.figure(figsize=(10, 6))\n",
    "sns.histplot(riders_go['duration'], bins=30) \n",
    "plt.title('Распределение продолжительности')\n",
    "plt.xlabel('Продолжительность')\n",
    "plt.ylabel('Количество поездок')\n",
    "plt.grid(True)\n",
    "plt.show()"
   ]
  },
  {
   "cell_type": "markdown",
   "id": "da779493",
   "metadata": {},
   "source": [
    "**Выводы по анализу данных:**\n",
    "\n",
    "**Распределение пользователей по городам:**\n",
    "- Наибольшее количество пользователей сосредоточено в Пятигорске, что делает его самым популярным городом среди исследуемой аудитории.\n",
    "\n",
    "- Другие города, такие как Екатеринбург, Ростов-на-Дону, Краснодар, Сочи, Омск, Тюмень и Москва, также имеют значительное количество пользователей, но уступают Пятигорску.\n",
    "\n",
    "**Распределение пользователей по типам подписки:**\n",
    "- Большинство пользователей используют бесплатную подписку (Free), что может указывать на низкую заинтересованность в платных услугах или недостаточную осведомленность о преимуществах платных подписок.\n",
    "\n",
    "- Платная подписка (Ultra) имеет значительно меньше пользователей, что требует дополнительного анализа причин такой разницы.\n",
    "\n",
    "**Распределение возраста пользователей:**\n",
    "- Основная часть пользователей — это молодые люди примерно 25 лет. Как медианное, так и среднее значение возраста совпадают и составляют 25 лет.\n",
    "\n",
    "- Это говорит о симметричном и сконцентрированном распределении: возраст большинства пользователей сосредоточен вокруг одного значения без выраженных выбросов в сторону старших или младших возрастов.\n",
    "\n",
    "- Гистограмма показывает, что основная масса пользователей — от 20 до 30 лет, при этом пользователей старшего возраста практически нет.\n",
    "\n",
    "**Распределение расстояний за одну поездку:**\n",
    "- Большинство поездок совершается на короткие расстояния (до 1000 метров), что может быть связано с использованием сервиса для коротких перемещений, например, в городской черте.\n",
    "\n",
    "- Поездки на большие расстояния (более 3000 метров) встречаются реже.\n",
    "\n",
    "**Распределение продолжительности поездок:**\n",
    "- Наибольшее количество поездок длится до 5 минут, что подтверждает тенденцию использования сервиса для быстрых и коротких перемещений.\n",
    "\n",
    "- Продолжительные поездки (более 20 минут) встречаются значительно реже.\n",
    "\n",
    "**Общий вывод:**\n",
    "- Сервис наиболее популярен среди молодой аудитории и жителей Пятигорска.\n",
    "\n",
    "- Пользователи предпочитают бесплатную подписку и используют сервис для коротких поездок.\n",
    "\n",
    "- Для увеличения количества платных подписок и поездок на большие расстояния рекомендуется провести дополнительные маркетинговые исследования и акции."
   ]
  },
  {
   "cell_type": "markdown",
   "id": "4ef51331",
   "metadata": {},
   "source": [
    "#### Шаг 4. Объединение данных"
   ]
  },
  {
   "cell_type": "markdown",
   "id": "208fd7e4",
   "metadata": {},
   "source": [
    "**4.1 Объедините данные о пользователях, поездках и подписках в один датафрейм. Для этого воспользуйтесь методом merge()** \n",
    "\n",
    "Как указано в задании, воспользуюсь методом merge(). Он объединяет данные по столбцам"
   ]
  },
  {
   "cell_type": "markdown",
   "id": "5911615f",
   "metadata": {},
   "source": [
    "Для начала вызову метод head() для каждого датафрейма, что бы определить по каким столбцам объединять"
   ]
  },
  {
   "cell_type": "code",
   "execution_count": 37,
   "id": "c86a2bc0",
   "metadata": {},
   "outputs": [
    {
     "data": {
      "text/html": [
       "<div>\n",
       "<style scoped>\n",
       "    .dataframe tbody tr th:only-of-type {\n",
       "        vertical-align: middle;\n",
       "    }\n",
       "\n",
       "    .dataframe tbody tr th {\n",
       "        vertical-align: top;\n",
       "    }\n",
       "\n",
       "    .dataframe thead th {\n",
       "        text-align: right;\n",
       "    }\n",
       "</style>\n",
       "<table border=\"1\" class=\"dataframe\">\n",
       "  <thead>\n",
       "    <tr style=\"text-align: right;\">\n",
       "      <th></th>\n",
       "      <th>user_id</th>\n",
       "      <th>name</th>\n",
       "      <th>age</th>\n",
       "      <th>city</th>\n",
       "      <th>subscription_type</th>\n",
       "    </tr>\n",
       "  </thead>\n",
       "  <tbody>\n",
       "    <tr>\n",
       "      <th>0</th>\n",
       "      <td>1</td>\n",
       "      <td>Кира</td>\n",
       "      <td>22</td>\n",
       "      <td>Тюмень</td>\n",
       "      <td>ultra</td>\n",
       "    </tr>\n",
       "    <tr>\n",
       "      <th>1</th>\n",
       "      <td>2</td>\n",
       "      <td>Станислав</td>\n",
       "      <td>31</td>\n",
       "      <td>Омск</td>\n",
       "      <td>ultra</td>\n",
       "    </tr>\n",
       "    <tr>\n",
       "      <th>2</th>\n",
       "      <td>3</td>\n",
       "      <td>Алексей</td>\n",
       "      <td>20</td>\n",
       "      <td>Москва</td>\n",
       "      <td>ultra</td>\n",
       "    </tr>\n",
       "    <tr>\n",
       "      <th>3</th>\n",
       "      <td>4</td>\n",
       "      <td>Константин</td>\n",
       "      <td>26</td>\n",
       "      <td>Ростов-на-Дону</td>\n",
       "      <td>ultra</td>\n",
       "    </tr>\n",
       "    <tr>\n",
       "      <th>4</th>\n",
       "      <td>5</td>\n",
       "      <td>Адель</td>\n",
       "      <td>28</td>\n",
       "      <td>Омск</td>\n",
       "      <td>ultra</td>\n",
       "    </tr>\n",
       "  </tbody>\n",
       "</table>\n",
       "</div>"
      ],
      "text/plain": [
       "   user_id        name  age            city subscription_type\n",
       "0        1        Кира   22          Тюмень             ultra\n",
       "1        2   Станислав   31            Омск             ultra\n",
       "2        3     Алексей   20          Москва             ultra\n",
       "3        4  Константин   26  Ростов-на-Дону             ultra\n",
       "4        5       Адель   28            Омск             ultra"
      ]
     },
     "execution_count": 37,
     "metadata": {},
     "output_type": "execute_result"
    }
   ],
   "source": [
    "users_go.head()"
   ]
  },
  {
   "cell_type": "code",
   "execution_count": 38,
   "id": "58998e24",
   "metadata": {},
   "outputs": [
    {
     "data": {
      "text/html": [
       "<div>\n",
       "<style scoped>\n",
       "    .dataframe tbody tr th:only-of-type {\n",
       "        vertical-align: middle;\n",
       "    }\n",
       "\n",
       "    .dataframe tbody tr th {\n",
       "        vertical-align: top;\n",
       "    }\n",
       "\n",
       "    .dataframe thead th {\n",
       "        text-align: right;\n",
       "    }\n",
       "</style>\n",
       "<table border=\"1\" class=\"dataframe\">\n",
       "  <thead>\n",
       "    <tr style=\"text-align: right;\">\n",
       "      <th></th>\n",
       "      <th>user_id</th>\n",
       "      <th>distance</th>\n",
       "      <th>duration</th>\n",
       "      <th>date</th>\n",
       "      <th>month</th>\n",
       "    </tr>\n",
       "  </thead>\n",
       "  <tbody>\n",
       "    <tr>\n",
       "      <th>0</th>\n",
       "      <td>1</td>\n",
       "      <td>4409.919140</td>\n",
       "      <td>25.599769</td>\n",
       "      <td>2021-01-01</td>\n",
       "      <td>1</td>\n",
       "    </tr>\n",
       "    <tr>\n",
       "      <th>1</th>\n",
       "      <td>1</td>\n",
       "      <td>2617.592153</td>\n",
       "      <td>15.816871</td>\n",
       "      <td>2021-01-18</td>\n",
       "      <td>1</td>\n",
       "    </tr>\n",
       "    <tr>\n",
       "      <th>2</th>\n",
       "      <td>1</td>\n",
       "      <td>754.159807</td>\n",
       "      <td>6.232113</td>\n",
       "      <td>2021-04-20</td>\n",
       "      <td>4</td>\n",
       "    </tr>\n",
       "    <tr>\n",
       "      <th>3</th>\n",
       "      <td>1</td>\n",
       "      <td>2694.783254</td>\n",
       "      <td>18.511000</td>\n",
       "      <td>2021-08-11</td>\n",
       "      <td>8</td>\n",
       "    </tr>\n",
       "    <tr>\n",
       "      <th>4</th>\n",
       "      <td>1</td>\n",
       "      <td>4028.687306</td>\n",
       "      <td>26.265803</td>\n",
       "      <td>2021-08-28</td>\n",
       "      <td>8</td>\n",
       "    </tr>\n",
       "  </tbody>\n",
       "</table>\n",
       "</div>"
      ],
      "text/plain": [
       "   user_id     distance   duration       date  month\n",
       "0        1  4409.919140  25.599769 2021-01-01      1\n",
       "1        1  2617.592153  15.816871 2021-01-18      1\n",
       "2        1   754.159807   6.232113 2021-04-20      4\n",
       "3        1  2694.783254  18.511000 2021-08-11      8\n",
       "4        1  4028.687306  26.265803 2021-08-28      8"
      ]
     },
     "execution_count": 38,
     "metadata": {},
     "output_type": "execute_result"
    }
   ],
   "source": [
    "riders_go.head()"
   ]
  },
  {
   "cell_type": "code",
   "execution_count": 39,
   "id": "e8dda56e",
   "metadata": {},
   "outputs": [
    {
     "data": {
      "text/html": [
       "<div>\n",
       "<style scoped>\n",
       "    .dataframe tbody tr th:only-of-type {\n",
       "        vertical-align: middle;\n",
       "    }\n",
       "\n",
       "    .dataframe tbody tr th {\n",
       "        vertical-align: top;\n",
       "    }\n",
       "\n",
       "    .dataframe thead th {\n",
       "        text-align: right;\n",
       "    }\n",
       "</style>\n",
       "<table border=\"1\" class=\"dataframe\">\n",
       "  <thead>\n",
       "    <tr style=\"text-align: right;\">\n",
       "      <th></th>\n",
       "      <th>subscription_type</th>\n",
       "      <th>minute_price</th>\n",
       "      <th>start_ride_price</th>\n",
       "      <th>subscription_fee</th>\n",
       "    </tr>\n",
       "  </thead>\n",
       "  <tbody>\n",
       "    <tr>\n",
       "      <th>0</th>\n",
       "      <td>free</td>\n",
       "      <td>8</td>\n",
       "      <td>50</td>\n",
       "      <td>0</td>\n",
       "    </tr>\n",
       "    <tr>\n",
       "      <th>1</th>\n",
       "      <td>ultra</td>\n",
       "      <td>6</td>\n",
       "      <td>0</td>\n",
       "      <td>199</td>\n",
       "    </tr>\n",
       "  </tbody>\n",
       "</table>\n",
       "</div>"
      ],
      "text/plain": [
       "  subscription_type  minute_price  start_ride_price  subscription_fee\n",
       "0              free             8                50                 0\n",
       "1             ultra             6                 0               199"
      ]
     },
     "execution_count": 39,
     "metadata": {},
     "output_type": "execute_result"
    }
   ],
   "source": [
    "subscriptions_go.head()"
   ]
  },
  {
   "cell_type": "code",
   "execution_count": 40,
   "id": "aa4d2d40",
   "metadata": {},
   "outputs": [
    {
     "name": "stdout",
     "output_type": "stream",
     "text": [
      "Размер users_go: (1534, 5)\n",
      "Размер riders_go: (18068, 5)\n",
      "Размер subscriptions_go: (2, 4)\n"
     ]
    }
   ],
   "source": [
    "# Проверяю размер датафреймов\n",
    "print('Размер users_go:', users_go.shape)\n",
    "print('Размер riders_go:', riders_go.shape)\n",
    "print('Размер subscriptions_go:', subscriptions_go.shape)"
   ]
  },
  {
   "cell_type": "markdown",
   "id": "a4f5ef5c",
   "metadata": {},
   "source": [
    "Итак, очевидно, что первые два датафрейма следует объединить по столбцу user_id. Займусь этим"
   ]
  },
  {
   "cell_type": "code",
   "execution_count": 41,
   "id": "77fd8d69",
   "metadata": {},
   "outputs": [
    {
     "data": {
      "text/html": [
       "<div>\n",
       "<style scoped>\n",
       "    .dataframe tbody tr th:only-of-type {\n",
       "        vertical-align: middle;\n",
       "    }\n",
       "\n",
       "    .dataframe tbody tr th {\n",
       "        vertical-align: top;\n",
       "    }\n",
       "\n",
       "    .dataframe thead th {\n",
       "        text-align: right;\n",
       "    }\n",
       "</style>\n",
       "<table border=\"1\" class=\"dataframe\">\n",
       "  <thead>\n",
       "    <tr style=\"text-align: right;\">\n",
       "      <th></th>\n",
       "      <th>user_id</th>\n",
       "      <th>name</th>\n",
       "      <th>age</th>\n",
       "      <th>city</th>\n",
       "      <th>subscription_type</th>\n",
       "      <th>distance</th>\n",
       "      <th>duration</th>\n",
       "      <th>date</th>\n",
       "      <th>month</th>\n",
       "    </tr>\n",
       "  </thead>\n",
       "  <tbody>\n",
       "    <tr>\n",
       "      <th>0</th>\n",
       "      <td>1</td>\n",
       "      <td>Кира</td>\n",
       "      <td>22</td>\n",
       "      <td>Тюмень</td>\n",
       "      <td>ultra</td>\n",
       "      <td>4409.919140</td>\n",
       "      <td>25.599769</td>\n",
       "      <td>2021-01-01</td>\n",
       "      <td>1</td>\n",
       "    </tr>\n",
       "    <tr>\n",
       "      <th>1</th>\n",
       "      <td>1</td>\n",
       "      <td>Кира</td>\n",
       "      <td>22</td>\n",
       "      <td>Тюмень</td>\n",
       "      <td>ultra</td>\n",
       "      <td>2617.592153</td>\n",
       "      <td>15.816871</td>\n",
       "      <td>2021-01-18</td>\n",
       "      <td>1</td>\n",
       "    </tr>\n",
       "    <tr>\n",
       "      <th>2</th>\n",
       "      <td>1</td>\n",
       "      <td>Кира</td>\n",
       "      <td>22</td>\n",
       "      <td>Тюмень</td>\n",
       "      <td>ultra</td>\n",
       "      <td>754.159807</td>\n",
       "      <td>6.232113</td>\n",
       "      <td>2021-04-20</td>\n",
       "      <td>4</td>\n",
       "    </tr>\n",
       "    <tr>\n",
       "      <th>3</th>\n",
       "      <td>1</td>\n",
       "      <td>Кира</td>\n",
       "      <td>22</td>\n",
       "      <td>Тюмень</td>\n",
       "      <td>ultra</td>\n",
       "      <td>2694.783254</td>\n",
       "      <td>18.511000</td>\n",
       "      <td>2021-08-11</td>\n",
       "      <td>8</td>\n",
       "    </tr>\n",
       "    <tr>\n",
       "      <th>4</th>\n",
       "      <td>1</td>\n",
       "      <td>Кира</td>\n",
       "      <td>22</td>\n",
       "      <td>Тюмень</td>\n",
       "      <td>ultra</td>\n",
       "      <td>4028.687306</td>\n",
       "      <td>26.265803</td>\n",
       "      <td>2021-08-28</td>\n",
       "      <td>8</td>\n",
       "    </tr>\n",
       "    <tr>\n",
       "      <th>...</th>\n",
       "      <td>...</td>\n",
       "      <td>...</td>\n",
       "      <td>...</td>\n",
       "      <td>...</td>\n",
       "      <td>...</td>\n",
       "      <td>...</td>\n",
       "      <td>...</td>\n",
       "      <td>...</td>\n",
       "      <td>...</td>\n",
       "    </tr>\n",
       "    <tr>\n",
       "      <th>18063</th>\n",
       "      <td>1534</td>\n",
       "      <td>Альберт</td>\n",
       "      <td>25</td>\n",
       "      <td>Краснодар</td>\n",
       "      <td>free</td>\n",
       "      <td>3781.098080</td>\n",
       "      <td>19.822962</td>\n",
       "      <td>2021-11-04</td>\n",
       "      <td>11</td>\n",
       "    </tr>\n",
       "    <tr>\n",
       "      <th>18064</th>\n",
       "      <td>1534</td>\n",
       "      <td>Альберт</td>\n",
       "      <td>25</td>\n",
       "      <td>Краснодар</td>\n",
       "      <td>free</td>\n",
       "      <td>2840.423057</td>\n",
       "      <td>21.409799</td>\n",
       "      <td>2021-11-16</td>\n",
       "      <td>11</td>\n",
       "    </tr>\n",
       "    <tr>\n",
       "      <th>18065</th>\n",
       "      <td>1534</td>\n",
       "      <td>Альберт</td>\n",
       "      <td>25</td>\n",
       "      <td>Краснодар</td>\n",
       "      <td>free</td>\n",
       "      <td>3826.185507</td>\n",
       "      <td>18.435051</td>\n",
       "      <td>2021-11-18</td>\n",
       "      <td>11</td>\n",
       "    </tr>\n",
       "    <tr>\n",
       "      <th>18066</th>\n",
       "      <td>1534</td>\n",
       "      <td>Альберт</td>\n",
       "      <td>25</td>\n",
       "      <td>Краснодар</td>\n",
       "      <td>free</td>\n",
       "      <td>2902.308661</td>\n",
       "      <td>16.674362</td>\n",
       "      <td>2021-11-27</td>\n",
       "      <td>11</td>\n",
       "    </tr>\n",
       "    <tr>\n",
       "      <th>18067</th>\n",
       "      <td>1534</td>\n",
       "      <td>Альберт</td>\n",
       "      <td>25</td>\n",
       "      <td>Краснодар</td>\n",
       "      <td>free</td>\n",
       "      <td>2371.711192</td>\n",
       "      <td>15.893917</td>\n",
       "      <td>2021-12-29</td>\n",
       "      <td>12</td>\n",
       "    </tr>\n",
       "  </tbody>\n",
       "</table>\n",
       "<p>18068 rows × 9 columns</p>\n",
       "</div>"
      ],
      "text/plain": [
       "       user_id     name  age       city subscription_type     distance  \\\n",
       "0            1     Кира   22     Тюмень             ultra  4409.919140   \n",
       "1            1     Кира   22     Тюмень             ultra  2617.592153   \n",
       "2            1     Кира   22     Тюмень             ultra   754.159807   \n",
       "3            1     Кира   22     Тюмень             ultra  2694.783254   \n",
       "4            1     Кира   22     Тюмень             ultra  4028.687306   \n",
       "...        ...      ...  ...        ...               ...          ...   \n",
       "18063     1534  Альберт   25  Краснодар              free  3781.098080   \n",
       "18064     1534  Альберт   25  Краснодар              free  2840.423057   \n",
       "18065     1534  Альберт   25  Краснодар              free  3826.185507   \n",
       "18066     1534  Альберт   25  Краснодар              free  2902.308661   \n",
       "18067     1534  Альберт   25  Краснодар              free  2371.711192   \n",
       "\n",
       "        duration       date  month  \n",
       "0      25.599769 2021-01-01      1  \n",
       "1      15.816871 2021-01-18      1  \n",
       "2       6.232113 2021-04-20      4  \n",
       "3      18.511000 2021-08-11      8  \n",
       "4      26.265803 2021-08-28      8  \n",
       "...          ...        ...    ...  \n",
       "18063  19.822962 2021-11-04     11  \n",
       "18064  21.409799 2021-11-16     11  \n",
       "18065  18.435051 2021-11-18     11  \n",
       "18066  16.674362 2021-11-27     11  \n",
       "18067  15.893917 2021-12-29     12  \n",
       "\n",
       "[18068 rows x 9 columns]"
      ]
     },
     "execution_count": 41,
     "metadata": {},
     "output_type": "execute_result"
    }
   ],
   "source": [
    "# Вывожу новую переменную, в неё сохраняю объединенный датафрейм\n",
    "# Атрибут on указывает по какому столбцу происходит объединение\n",
    "# Атрибут how нужен для того, что бы определить какие данные останутся, в моем случае, это подгружаемые данные\n",
    "merged_users_riders = users_go.merge(riders_go, on='user_id', how='right')\n",
    "# Смотрю результат\n",
    "merged_users_riders"
   ]
  },
  {
   "cell_type": "code",
   "execution_count": 42,
   "id": "11a69d1e",
   "metadata": {},
   "outputs": [
    {
     "name": "stdout",
     "output_type": "stream",
     "text": [
      "Размер merged_users_riders: (18068, 9)\n"
     ]
    }
   ],
   "source": [
    "# Проверяю первое объединение\n",
    "print('Размер merged_users_riders:', merged_users_riders.shape)"
   ]
  },
  {
   "cell_type": "markdown",
   "id": "1286faff",
   "metadata": {},
   "source": [
    "Данные корректно подгрузились по столбцу user_id. Теперь следует добавить к этим данным последний датафрейм"
   ]
  },
  {
   "cell_type": "code",
   "execution_count": 43,
   "id": "1916c909",
   "metadata": {},
   "outputs": [
    {
     "data": {
      "text/html": [
       "<div>\n",
       "<style scoped>\n",
       "    .dataframe tbody tr th:only-of-type {\n",
       "        vertical-align: middle;\n",
       "    }\n",
       "\n",
       "    .dataframe tbody tr th {\n",
       "        vertical-align: top;\n",
       "    }\n",
       "\n",
       "    .dataframe thead th {\n",
       "        text-align: right;\n",
       "    }\n",
       "</style>\n",
       "<table border=\"1\" class=\"dataframe\">\n",
       "  <thead>\n",
       "    <tr style=\"text-align: right;\">\n",
       "      <th></th>\n",
       "      <th>user_id</th>\n",
       "      <th>name</th>\n",
       "      <th>age</th>\n",
       "      <th>city</th>\n",
       "      <th>subscription_type</th>\n",
       "      <th>distance</th>\n",
       "      <th>duration</th>\n",
       "      <th>date</th>\n",
       "      <th>month</th>\n",
       "      <th>minute_price</th>\n",
       "      <th>start_ride_price</th>\n",
       "      <th>subscription_fee</th>\n",
       "    </tr>\n",
       "  </thead>\n",
       "  <tbody>\n",
       "    <tr>\n",
       "      <th>0</th>\n",
       "      <td>700</td>\n",
       "      <td>Айдар</td>\n",
       "      <td>22</td>\n",
       "      <td>Омск</td>\n",
       "      <td>free</td>\n",
       "      <td>2515.690719</td>\n",
       "      <td>14.944286</td>\n",
       "      <td>2021-01-02</td>\n",
       "      <td>1</td>\n",
       "      <td>8</td>\n",
       "      <td>50</td>\n",
       "      <td>0</td>\n",
       "    </tr>\n",
       "    <tr>\n",
       "      <th>1</th>\n",
       "      <td>700</td>\n",
       "      <td>Айдар</td>\n",
       "      <td>22</td>\n",
       "      <td>Омск</td>\n",
       "      <td>free</td>\n",
       "      <td>846.932642</td>\n",
       "      <td>16.234663</td>\n",
       "      <td>2021-02-01</td>\n",
       "      <td>2</td>\n",
       "      <td>8</td>\n",
       "      <td>50</td>\n",
       "      <td>0</td>\n",
       "    </tr>\n",
       "    <tr>\n",
       "      <th>2</th>\n",
       "      <td>700</td>\n",
       "      <td>Айдар</td>\n",
       "      <td>22</td>\n",
       "      <td>Омск</td>\n",
       "      <td>free</td>\n",
       "      <td>4004.434142</td>\n",
       "      <td>20.016628</td>\n",
       "      <td>2021-02-04</td>\n",
       "      <td>2</td>\n",
       "      <td>8</td>\n",
       "      <td>50</td>\n",
       "      <td>0</td>\n",
       "    </tr>\n",
       "    <tr>\n",
       "      <th>3</th>\n",
       "      <td>700</td>\n",
       "      <td>Айдар</td>\n",
       "      <td>22</td>\n",
       "      <td>Омск</td>\n",
       "      <td>free</td>\n",
       "      <td>1205.911290</td>\n",
       "      <td>9.782872</td>\n",
       "      <td>2021-02-10</td>\n",
       "      <td>2</td>\n",
       "      <td>8</td>\n",
       "      <td>50</td>\n",
       "      <td>0</td>\n",
       "    </tr>\n",
       "    <tr>\n",
       "      <th>4</th>\n",
       "      <td>700</td>\n",
       "      <td>Айдар</td>\n",
       "      <td>22</td>\n",
       "      <td>Омск</td>\n",
       "      <td>free</td>\n",
       "      <td>3047.379435</td>\n",
       "      <td>17.427673</td>\n",
       "      <td>2021-02-14</td>\n",
       "      <td>2</td>\n",
       "      <td>8</td>\n",
       "      <td>50</td>\n",
       "      <td>0</td>\n",
       "    </tr>\n",
       "    <tr>\n",
       "      <th>...</th>\n",
       "      <td>...</td>\n",
       "      <td>...</td>\n",
       "      <td>...</td>\n",
       "      <td>...</td>\n",
       "      <td>...</td>\n",
       "      <td>...</td>\n",
       "      <td>...</td>\n",
       "      <td>...</td>\n",
       "      <td>...</td>\n",
       "      <td>...</td>\n",
       "      <td>...</td>\n",
       "      <td>...</td>\n",
       "    </tr>\n",
       "    <tr>\n",
       "      <th>18063</th>\n",
       "      <td>699</td>\n",
       "      <td>Оксана</td>\n",
       "      <td>22</td>\n",
       "      <td>Москва</td>\n",
       "      <td>ultra</td>\n",
       "      <td>3973.046497</td>\n",
       "      <td>24.671163</td>\n",
       "      <td>2021-08-29</td>\n",
       "      <td>8</td>\n",
       "      <td>6</td>\n",
       "      <td>0</td>\n",
       "      <td>199</td>\n",
       "    </tr>\n",
       "    <tr>\n",
       "      <th>18064</th>\n",
       "      <td>699</td>\n",
       "      <td>Оксана</td>\n",
       "      <td>22</td>\n",
       "      <td>Москва</td>\n",
       "      <td>ultra</td>\n",
       "      <td>3288.702563</td>\n",
       "      <td>15.892886</td>\n",
       "      <td>2021-09-12</td>\n",
       "      <td>9</td>\n",
       "      <td>6</td>\n",
       "      <td>0</td>\n",
       "      <td>199</td>\n",
       "    </tr>\n",
       "    <tr>\n",
       "      <th>18065</th>\n",
       "      <td>699</td>\n",
       "      <td>Оксана</td>\n",
       "      <td>22</td>\n",
       "      <td>Москва</td>\n",
       "      <td>ultra</td>\n",
       "      <td>3076.159348</td>\n",
       "      <td>14.389525</td>\n",
       "      <td>2021-09-26</td>\n",
       "      <td>9</td>\n",
       "      <td>6</td>\n",
       "      <td>0</td>\n",
       "      <td>199</td>\n",
       "    </tr>\n",
       "    <tr>\n",
       "      <th>18066</th>\n",
       "      <td>699</td>\n",
       "      <td>Оксана</td>\n",
       "      <td>22</td>\n",
       "      <td>Москва</td>\n",
       "      <td>ultra</td>\n",
       "      <td>4707.845501</td>\n",
       "      <td>15.839579</td>\n",
       "      <td>2021-10-17</td>\n",
       "      <td>10</td>\n",
       "      <td>6</td>\n",
       "      <td>0</td>\n",
       "      <td>199</td>\n",
       "    </tr>\n",
       "    <tr>\n",
       "      <th>18067</th>\n",
       "      <td>699</td>\n",
       "      <td>Оксана</td>\n",
       "      <td>22</td>\n",
       "      <td>Москва</td>\n",
       "      <td>ultra</td>\n",
       "      <td>3202.890770</td>\n",
       "      <td>25.217345</td>\n",
       "      <td>2021-12-03</td>\n",
       "      <td>12</td>\n",
       "      <td>6</td>\n",
       "      <td>0</td>\n",
       "      <td>199</td>\n",
       "    </tr>\n",
       "  </tbody>\n",
       "</table>\n",
       "<p>18068 rows × 12 columns</p>\n",
       "</div>"
      ],
      "text/plain": [
       "       user_id    name  age    city subscription_type     distance   duration  \\\n",
       "0          700   Айдар   22    Омск              free  2515.690719  14.944286   \n",
       "1          700   Айдар   22    Омск              free   846.932642  16.234663   \n",
       "2          700   Айдар   22    Омск              free  4004.434142  20.016628   \n",
       "3          700   Айдар   22    Омск              free  1205.911290   9.782872   \n",
       "4          700   Айдар   22    Омск              free  3047.379435  17.427673   \n",
       "...        ...     ...  ...     ...               ...          ...        ...   \n",
       "18063      699  Оксана   22  Москва             ultra  3973.046497  24.671163   \n",
       "18064      699  Оксана   22  Москва             ultra  3288.702563  15.892886   \n",
       "18065      699  Оксана   22  Москва             ultra  3076.159348  14.389525   \n",
       "18066      699  Оксана   22  Москва             ultra  4707.845501  15.839579   \n",
       "18067      699  Оксана   22  Москва             ultra  3202.890770  25.217345   \n",
       "\n",
       "            date  month  minute_price  start_ride_price  subscription_fee  \n",
       "0     2021-01-02      1             8                50                 0  \n",
       "1     2021-02-01      2             8                50                 0  \n",
       "2     2021-02-04      2             8                50                 0  \n",
       "3     2021-02-10      2             8                50                 0  \n",
       "4     2021-02-14      2             8                50                 0  \n",
       "...          ...    ...           ...               ...               ...  \n",
       "18063 2021-08-29      8             6                 0               199  \n",
       "18064 2021-09-12      9             6                 0               199  \n",
       "18065 2021-09-26      9             6                 0               199  \n",
       "18066 2021-10-17     10             6                 0               199  \n",
       "18067 2021-12-03     12             6                 0               199  \n",
       "\n",
       "[18068 rows x 12 columns]"
      ]
     },
     "execution_count": 43,
     "metadata": {},
     "output_type": "execute_result"
    }
   ],
   "source": [
    "# Делаю такие же действия как в предыдущем шаге\n",
    "merged_data = merged_users_riders.merge(subscriptions_go, on='subscription_type', how='right')\n",
    "# Вывожу результат\n",
    "merged_data"
   ]
  },
  {
   "cell_type": "code",
   "execution_count": 44,
   "id": "19d03f10",
   "metadata": {},
   "outputs": [
    {
     "name": "stdout",
     "output_type": "stream",
     "text": [
      "\n",
      "Размер merged_data: (18068, 12)\n"
     ]
    }
   ],
   "source": [
    "# Проверяю итоговое(второе) объединение\n",
    "print('\\nРазмер merged_data:', merged_data.shape)"
   ]
  },
  {
   "cell_type": "code",
   "execution_count": 45,
   "id": "6fc9da0f",
   "metadata": {},
   "outputs": [
    {
     "name": "stdout",
     "output_type": "stream",
     "text": [
      "Пропуски после объединения со subscriptions_go:\n",
      "user_id              0\n",
      "name                 0\n",
      "age                  0\n",
      "city                 0\n",
      "subscription_type    0\n",
      "distance             0\n",
      "duration             0\n",
      "date                 0\n",
      "month                0\n",
      "minute_price         0\n",
      "start_ride_price     0\n",
      "subscription_fee     0\n",
      "dtype: int64\n"
     ]
    }
   ],
   "source": [
    "# Проверка на пропуски итогового датафрейма\n",
    "print('Пропуски после объединения со subscriptions_go:')\n",
    "print(merged_data.isna().sum())"
   ]
  },
  {
   "cell_type": "markdown",
   "id": "612d5f71",
   "metadata": {},
   "source": [
    "Данные подгружены и объединены. Пропусков не обнаружено"
   ]
  },
  {
   "cell_type": "markdown",
   "id": "c7bb6f20",
   "metadata": {},
   "source": [
    "**4.2 Создайте ещё два датафрейма из датафрейма, созданного на этапе 4.1:**\n",
    "- c данными о пользователях без подписки;\n",
    "- с данными о пользователях с подпиской.\n"
   ]
  },
  {
   "cell_type": "markdown",
   "id": "32b97e68",
   "metadata": {},
   "source": [
    "Для этой задачи мне следует разделить данные, для начала выделю те, что без подписки"
   ]
  },
  {
   "cell_type": "code",
   "execution_count": 46,
   "id": "d1a13a83",
   "metadata": {},
   "outputs": [
    {
     "data": {
      "text/html": [
       "<div>\n",
       "<style scoped>\n",
       "    .dataframe tbody tr th:only-of-type {\n",
       "        vertical-align: middle;\n",
       "    }\n",
       "\n",
       "    .dataframe tbody tr th {\n",
       "        vertical-align: top;\n",
       "    }\n",
       "\n",
       "    .dataframe thead th {\n",
       "        text-align: right;\n",
       "    }\n",
       "</style>\n",
       "<table border=\"1\" class=\"dataframe\">\n",
       "  <thead>\n",
       "    <tr style=\"text-align: right;\">\n",
       "      <th></th>\n",
       "      <th>user_id</th>\n",
       "      <th>name</th>\n",
       "      <th>age</th>\n",
       "      <th>city</th>\n",
       "      <th>subscription_type</th>\n",
       "      <th>distance</th>\n",
       "      <th>duration</th>\n",
       "      <th>date</th>\n",
       "      <th>month</th>\n",
       "      <th>minute_price</th>\n",
       "      <th>start_ride_price</th>\n",
       "      <th>subscription_fee</th>\n",
       "    </tr>\n",
       "  </thead>\n",
       "  <tbody>\n",
       "    <tr>\n",
       "      <th>0</th>\n",
       "      <td>700</td>\n",
       "      <td>Айдар</td>\n",
       "      <td>22</td>\n",
       "      <td>Омск</td>\n",
       "      <td>free</td>\n",
       "      <td>2515.690719</td>\n",
       "      <td>14.944286</td>\n",
       "      <td>2021-01-02</td>\n",
       "      <td>1</td>\n",
       "      <td>8</td>\n",
       "      <td>50</td>\n",
       "      <td>0</td>\n",
       "    </tr>\n",
       "    <tr>\n",
       "      <th>1</th>\n",
       "      <td>700</td>\n",
       "      <td>Айдар</td>\n",
       "      <td>22</td>\n",
       "      <td>Омск</td>\n",
       "      <td>free</td>\n",
       "      <td>846.932642</td>\n",
       "      <td>16.234663</td>\n",
       "      <td>2021-02-01</td>\n",
       "      <td>2</td>\n",
       "      <td>8</td>\n",
       "      <td>50</td>\n",
       "      <td>0</td>\n",
       "    </tr>\n",
       "    <tr>\n",
       "      <th>2</th>\n",
       "      <td>700</td>\n",
       "      <td>Айдар</td>\n",
       "      <td>22</td>\n",
       "      <td>Омск</td>\n",
       "      <td>free</td>\n",
       "      <td>4004.434142</td>\n",
       "      <td>20.016628</td>\n",
       "      <td>2021-02-04</td>\n",
       "      <td>2</td>\n",
       "      <td>8</td>\n",
       "      <td>50</td>\n",
       "      <td>0</td>\n",
       "    </tr>\n",
       "    <tr>\n",
       "      <th>3</th>\n",
       "      <td>700</td>\n",
       "      <td>Айдар</td>\n",
       "      <td>22</td>\n",
       "      <td>Омск</td>\n",
       "      <td>free</td>\n",
       "      <td>1205.911290</td>\n",
       "      <td>9.782872</td>\n",
       "      <td>2021-02-10</td>\n",
       "      <td>2</td>\n",
       "      <td>8</td>\n",
       "      <td>50</td>\n",
       "      <td>0</td>\n",
       "    </tr>\n",
       "    <tr>\n",
       "      <th>4</th>\n",
       "      <td>700</td>\n",
       "      <td>Айдар</td>\n",
       "      <td>22</td>\n",
       "      <td>Омск</td>\n",
       "      <td>free</td>\n",
       "      <td>3047.379435</td>\n",
       "      <td>17.427673</td>\n",
       "      <td>2021-02-14</td>\n",
       "      <td>2</td>\n",
       "      <td>8</td>\n",
       "      <td>50</td>\n",
       "      <td>0</td>\n",
       "    </tr>\n",
       "    <tr>\n",
       "      <th>...</th>\n",
       "      <td>...</td>\n",
       "      <td>...</td>\n",
       "      <td>...</td>\n",
       "      <td>...</td>\n",
       "      <td>...</td>\n",
       "      <td>...</td>\n",
       "      <td>...</td>\n",
       "      <td>...</td>\n",
       "      <td>...</td>\n",
       "      <td>...</td>\n",
       "      <td>...</td>\n",
       "      <td>...</td>\n",
       "    </tr>\n",
       "    <tr>\n",
       "      <th>11563</th>\n",
       "      <td>1534</td>\n",
       "      <td>Альберт</td>\n",
       "      <td>25</td>\n",
       "      <td>Краснодар</td>\n",
       "      <td>free</td>\n",
       "      <td>3781.098080</td>\n",
       "      <td>19.822962</td>\n",
       "      <td>2021-11-04</td>\n",
       "      <td>11</td>\n",
       "      <td>8</td>\n",
       "      <td>50</td>\n",
       "      <td>0</td>\n",
       "    </tr>\n",
       "    <tr>\n",
       "      <th>11564</th>\n",
       "      <td>1534</td>\n",
       "      <td>Альберт</td>\n",
       "      <td>25</td>\n",
       "      <td>Краснодар</td>\n",
       "      <td>free</td>\n",
       "      <td>2840.423057</td>\n",
       "      <td>21.409799</td>\n",
       "      <td>2021-11-16</td>\n",
       "      <td>11</td>\n",
       "      <td>8</td>\n",
       "      <td>50</td>\n",
       "      <td>0</td>\n",
       "    </tr>\n",
       "    <tr>\n",
       "      <th>11565</th>\n",
       "      <td>1534</td>\n",
       "      <td>Альберт</td>\n",
       "      <td>25</td>\n",
       "      <td>Краснодар</td>\n",
       "      <td>free</td>\n",
       "      <td>3826.185507</td>\n",
       "      <td>18.435051</td>\n",
       "      <td>2021-11-18</td>\n",
       "      <td>11</td>\n",
       "      <td>8</td>\n",
       "      <td>50</td>\n",
       "      <td>0</td>\n",
       "    </tr>\n",
       "    <tr>\n",
       "      <th>11566</th>\n",
       "      <td>1534</td>\n",
       "      <td>Альберт</td>\n",
       "      <td>25</td>\n",
       "      <td>Краснодар</td>\n",
       "      <td>free</td>\n",
       "      <td>2902.308661</td>\n",
       "      <td>16.674362</td>\n",
       "      <td>2021-11-27</td>\n",
       "      <td>11</td>\n",
       "      <td>8</td>\n",
       "      <td>50</td>\n",
       "      <td>0</td>\n",
       "    </tr>\n",
       "    <tr>\n",
       "      <th>11567</th>\n",
       "      <td>1534</td>\n",
       "      <td>Альберт</td>\n",
       "      <td>25</td>\n",
       "      <td>Краснодар</td>\n",
       "      <td>free</td>\n",
       "      <td>2371.711192</td>\n",
       "      <td>15.893917</td>\n",
       "      <td>2021-12-29</td>\n",
       "      <td>12</td>\n",
       "      <td>8</td>\n",
       "      <td>50</td>\n",
       "      <td>0</td>\n",
       "    </tr>\n",
       "  </tbody>\n",
       "</table>\n",
       "<p>11568 rows × 12 columns</p>\n",
       "</div>"
      ],
      "text/plain": [
       "       user_id     name  age       city subscription_type     distance  \\\n",
       "0          700    Айдар   22       Омск              free  2515.690719   \n",
       "1          700    Айдар   22       Омск              free   846.932642   \n",
       "2          700    Айдар   22       Омск              free  4004.434142   \n",
       "3          700    Айдар   22       Омск              free  1205.911290   \n",
       "4          700    Айдар   22       Омск              free  3047.379435   \n",
       "...        ...      ...  ...        ...               ...          ...   \n",
       "11563     1534  Альберт   25  Краснодар              free  3781.098080   \n",
       "11564     1534  Альберт   25  Краснодар              free  2840.423057   \n",
       "11565     1534  Альберт   25  Краснодар              free  3826.185507   \n",
       "11566     1534  Альберт   25  Краснодар              free  2902.308661   \n",
       "11567     1534  Альберт   25  Краснодар              free  2371.711192   \n",
       "\n",
       "        duration       date  month  minute_price  start_ride_price  \\\n",
       "0      14.944286 2021-01-02      1             8                50   \n",
       "1      16.234663 2021-02-01      2             8                50   \n",
       "2      20.016628 2021-02-04      2             8                50   \n",
       "3       9.782872 2021-02-10      2             8                50   \n",
       "4      17.427673 2021-02-14      2             8                50   \n",
       "...          ...        ...    ...           ...               ...   \n",
       "11563  19.822962 2021-11-04     11             8                50   \n",
       "11564  21.409799 2021-11-16     11             8                50   \n",
       "11565  18.435051 2021-11-18     11             8                50   \n",
       "11566  16.674362 2021-11-27     11             8                50   \n",
       "11567  15.893917 2021-12-29     12             8                50   \n",
       "\n",
       "       subscription_fee  \n",
       "0                     0  \n",
       "1                     0  \n",
       "2                     0  \n",
       "3                     0  \n",
       "4                     0  \n",
       "...                 ...  \n",
       "11563                 0  \n",
       "11564                 0  \n",
       "11565                 0  \n",
       "11566                 0  \n",
       "11567                 0  \n",
       "\n",
       "[11568 rows x 12 columns]"
      ]
     },
     "execution_count": 46,
     "metadata": {},
     "output_type": "execute_result"
    }
   ],
   "source": [
    "# Для этого подойдет стандартная индексация по значению free\n",
    "merged_data_free = merged_data[merged_data['subscription_type'] == 'free']\n",
    "# Вывожу результат\n",
    "merged_data_free"
   ]
  },
  {
   "cell_type": "markdown",
   "id": "12238383",
   "metadata": {},
   "source": [
    "По количеству строк видно, что данные не все, значит отображаются только пльзователи без подписки"
   ]
  },
  {
   "cell_type": "markdown",
   "id": "76c4185a",
   "metadata": {},
   "source": [
    "Для подписчиков сделаю тоже самое"
   ]
  },
  {
   "cell_type": "code",
   "execution_count": 47,
   "id": "442a8761",
   "metadata": {},
   "outputs": [
    {
     "data": {
      "text/html": [
       "<div>\n",
       "<style scoped>\n",
       "    .dataframe tbody tr th:only-of-type {\n",
       "        vertical-align: middle;\n",
       "    }\n",
       "\n",
       "    .dataframe tbody tr th {\n",
       "        vertical-align: top;\n",
       "    }\n",
       "\n",
       "    .dataframe thead th {\n",
       "        text-align: right;\n",
       "    }\n",
       "</style>\n",
       "<table border=\"1\" class=\"dataframe\">\n",
       "  <thead>\n",
       "    <tr style=\"text-align: right;\">\n",
       "      <th></th>\n",
       "      <th>user_id</th>\n",
       "      <th>name</th>\n",
       "      <th>age</th>\n",
       "      <th>city</th>\n",
       "      <th>subscription_type</th>\n",
       "      <th>distance</th>\n",
       "      <th>duration</th>\n",
       "      <th>date</th>\n",
       "      <th>month</th>\n",
       "      <th>minute_price</th>\n",
       "      <th>start_ride_price</th>\n",
       "      <th>subscription_fee</th>\n",
       "    </tr>\n",
       "  </thead>\n",
       "  <tbody>\n",
       "    <tr>\n",
       "      <th>11568</th>\n",
       "      <td>1</td>\n",
       "      <td>Кира</td>\n",
       "      <td>22</td>\n",
       "      <td>Тюмень</td>\n",
       "      <td>ultra</td>\n",
       "      <td>4409.919140</td>\n",
       "      <td>25.599769</td>\n",
       "      <td>2021-01-01</td>\n",
       "      <td>1</td>\n",
       "      <td>6</td>\n",
       "      <td>0</td>\n",
       "      <td>199</td>\n",
       "    </tr>\n",
       "    <tr>\n",
       "      <th>11569</th>\n",
       "      <td>1</td>\n",
       "      <td>Кира</td>\n",
       "      <td>22</td>\n",
       "      <td>Тюмень</td>\n",
       "      <td>ultra</td>\n",
       "      <td>2617.592153</td>\n",
       "      <td>15.816871</td>\n",
       "      <td>2021-01-18</td>\n",
       "      <td>1</td>\n",
       "      <td>6</td>\n",
       "      <td>0</td>\n",
       "      <td>199</td>\n",
       "    </tr>\n",
       "    <tr>\n",
       "      <th>11570</th>\n",
       "      <td>1</td>\n",
       "      <td>Кира</td>\n",
       "      <td>22</td>\n",
       "      <td>Тюмень</td>\n",
       "      <td>ultra</td>\n",
       "      <td>754.159807</td>\n",
       "      <td>6.232113</td>\n",
       "      <td>2021-04-20</td>\n",
       "      <td>4</td>\n",
       "      <td>6</td>\n",
       "      <td>0</td>\n",
       "      <td>199</td>\n",
       "    </tr>\n",
       "    <tr>\n",
       "      <th>11571</th>\n",
       "      <td>1</td>\n",
       "      <td>Кира</td>\n",
       "      <td>22</td>\n",
       "      <td>Тюмень</td>\n",
       "      <td>ultra</td>\n",
       "      <td>2694.783254</td>\n",
       "      <td>18.511000</td>\n",
       "      <td>2021-08-11</td>\n",
       "      <td>8</td>\n",
       "      <td>6</td>\n",
       "      <td>0</td>\n",
       "      <td>199</td>\n",
       "    </tr>\n",
       "    <tr>\n",
       "      <th>11572</th>\n",
       "      <td>1</td>\n",
       "      <td>Кира</td>\n",
       "      <td>22</td>\n",
       "      <td>Тюмень</td>\n",
       "      <td>ultra</td>\n",
       "      <td>4028.687306</td>\n",
       "      <td>26.265803</td>\n",
       "      <td>2021-08-28</td>\n",
       "      <td>8</td>\n",
       "      <td>6</td>\n",
       "      <td>0</td>\n",
       "      <td>199</td>\n",
       "    </tr>\n",
       "    <tr>\n",
       "      <th>...</th>\n",
       "      <td>...</td>\n",
       "      <td>...</td>\n",
       "      <td>...</td>\n",
       "      <td>...</td>\n",
       "      <td>...</td>\n",
       "      <td>...</td>\n",
       "      <td>...</td>\n",
       "      <td>...</td>\n",
       "      <td>...</td>\n",
       "      <td>...</td>\n",
       "      <td>...</td>\n",
       "      <td>...</td>\n",
       "    </tr>\n",
       "    <tr>\n",
       "      <th>18063</th>\n",
       "      <td>699</td>\n",
       "      <td>Оксана</td>\n",
       "      <td>22</td>\n",
       "      <td>Москва</td>\n",
       "      <td>ultra</td>\n",
       "      <td>3973.046497</td>\n",
       "      <td>24.671163</td>\n",
       "      <td>2021-08-29</td>\n",
       "      <td>8</td>\n",
       "      <td>6</td>\n",
       "      <td>0</td>\n",
       "      <td>199</td>\n",
       "    </tr>\n",
       "    <tr>\n",
       "      <th>18064</th>\n",
       "      <td>699</td>\n",
       "      <td>Оксана</td>\n",
       "      <td>22</td>\n",
       "      <td>Москва</td>\n",
       "      <td>ultra</td>\n",
       "      <td>3288.702563</td>\n",
       "      <td>15.892886</td>\n",
       "      <td>2021-09-12</td>\n",
       "      <td>9</td>\n",
       "      <td>6</td>\n",
       "      <td>0</td>\n",
       "      <td>199</td>\n",
       "    </tr>\n",
       "    <tr>\n",
       "      <th>18065</th>\n",
       "      <td>699</td>\n",
       "      <td>Оксана</td>\n",
       "      <td>22</td>\n",
       "      <td>Москва</td>\n",
       "      <td>ultra</td>\n",
       "      <td>3076.159348</td>\n",
       "      <td>14.389525</td>\n",
       "      <td>2021-09-26</td>\n",
       "      <td>9</td>\n",
       "      <td>6</td>\n",
       "      <td>0</td>\n",
       "      <td>199</td>\n",
       "    </tr>\n",
       "    <tr>\n",
       "      <th>18066</th>\n",
       "      <td>699</td>\n",
       "      <td>Оксана</td>\n",
       "      <td>22</td>\n",
       "      <td>Москва</td>\n",
       "      <td>ultra</td>\n",
       "      <td>4707.845501</td>\n",
       "      <td>15.839579</td>\n",
       "      <td>2021-10-17</td>\n",
       "      <td>10</td>\n",
       "      <td>6</td>\n",
       "      <td>0</td>\n",
       "      <td>199</td>\n",
       "    </tr>\n",
       "    <tr>\n",
       "      <th>18067</th>\n",
       "      <td>699</td>\n",
       "      <td>Оксана</td>\n",
       "      <td>22</td>\n",
       "      <td>Москва</td>\n",
       "      <td>ultra</td>\n",
       "      <td>3202.890770</td>\n",
       "      <td>25.217345</td>\n",
       "      <td>2021-12-03</td>\n",
       "      <td>12</td>\n",
       "      <td>6</td>\n",
       "      <td>0</td>\n",
       "      <td>199</td>\n",
       "    </tr>\n",
       "  </tbody>\n",
       "</table>\n",
       "<p>6500 rows × 12 columns</p>\n",
       "</div>"
      ],
      "text/plain": [
       "       user_id    name  age    city subscription_type     distance   duration  \\\n",
       "11568        1    Кира   22  Тюмень             ultra  4409.919140  25.599769   \n",
       "11569        1    Кира   22  Тюмень             ultra  2617.592153  15.816871   \n",
       "11570        1    Кира   22  Тюмень             ultra   754.159807   6.232113   \n",
       "11571        1    Кира   22  Тюмень             ultra  2694.783254  18.511000   \n",
       "11572        1    Кира   22  Тюмень             ultra  4028.687306  26.265803   \n",
       "...        ...     ...  ...     ...               ...          ...        ...   \n",
       "18063      699  Оксана   22  Москва             ultra  3973.046497  24.671163   \n",
       "18064      699  Оксана   22  Москва             ultra  3288.702563  15.892886   \n",
       "18065      699  Оксана   22  Москва             ultra  3076.159348  14.389525   \n",
       "18066      699  Оксана   22  Москва             ultra  4707.845501  15.839579   \n",
       "18067      699  Оксана   22  Москва             ultra  3202.890770  25.217345   \n",
       "\n",
       "            date  month  minute_price  start_ride_price  subscription_fee  \n",
       "11568 2021-01-01      1             6                 0               199  \n",
       "11569 2021-01-18      1             6                 0               199  \n",
       "11570 2021-04-20      4             6                 0               199  \n",
       "11571 2021-08-11      8             6                 0               199  \n",
       "11572 2021-08-28      8             6                 0               199  \n",
       "...          ...    ...           ...               ...               ...  \n",
       "18063 2021-08-29      8             6                 0               199  \n",
       "18064 2021-09-12      9             6                 0               199  \n",
       "18065 2021-09-26      9             6                 0               199  \n",
       "18066 2021-10-17     10             6                 0               199  \n",
       "18067 2021-12-03     12             6                 0               199  \n",
       "\n",
       "[6500 rows x 12 columns]"
      ]
     },
     "execution_count": 47,
     "metadata": {},
     "output_type": "execute_result"
    }
   ],
   "source": [
    "# Для этого подойдет стандартная индексация по значению free\n",
    "merged_data_ultra = merged_data[merged_data['subscription_type'] == 'ultra']\n",
    "# Вывожу результат\n",
    "merged_data_ultra"
   ]
  },
  {
   "cell_type": "markdown",
   "id": "74f238e8",
   "metadata": {},
   "source": [
    "Соотношение пользователей сильно изменилось от того, когда я проверял количетсво без общих данных. Так как, раньше я брал во внимание только количетсво пользователей. Нынешние данные показывают, что пользователи с подпиской free пользуются сервисом почти в 2 раза чаще"
   ]
  },
  {
   "cell_type": "markdown",
   "id": "3bc7a743",
   "metadata": {},
   "source": [
    "**4.3 Визуализируйте информацию о расстоянии и времени поездок для пользователей обеих категорий**"
   ]
  },
  {
   "cell_type": "markdown",
   "id": "b53dc664",
   "metadata": {},
   "source": [
    "Построю два графика для визуализации"
   ]
  },
  {
   "cell_type": "code",
   "execution_count": 48,
   "id": "4b8f8aec",
   "metadata": {},
   "outputs": [
    {
     "data": {
      "image/png": "[encoded data removed]",
      "text/plain": [
       "<Figure size 864x360 with 2 Axes>"
      ]
     },
     "metadata": {
      "needs_background": "light"
     },
     "output_type": "display_data"
    }
   ],
   "source": [
    "plt.figure(figsize=(12, 5))\n",
    "\n",
    "# График 1: Распределение расстояний\n",
    "plt.subplot(1, 2, 1) # Функция subplot разделяет изображение так, чтобы можно было показать сразу два графика\n",
    "# sns.kdeplot способ показать графики наиболее удобным способом(в этом случае). Он включает в себя столбец из разных ДФ, цвет и легенду(отображение в маленьком окошке)\n",
    "sns.kdeplot(data=merged_data_free['distance'], color='orange', label='Free', fill=True)\n",
    "sns.kdeplot(data=merged_data_ultra['distance'], color='green', label='Ultra', fill=True)\n",
    "plt.title('Распределение расстояний поездок')\n",
    "plt.xlabel('Расстояние, м')\n",
    "plt.ylabel('Плотность')\n",
    "plt.grid(True)\n",
    "plt.legend() # Этот параметр отвечает за вывод маленького окошка с наименованием цвета\n",
    "\n",
    "# График 2: Распределение длительности\n",
    "plt.subplot(1, 2, 2)\n",
    "sns.kdeplot(data=merged_data_free['duration'], color='orange', label='Free', fill=True)\n",
    "sns.kdeplot(data=merged_data_ultra['duration'], color='green', label='Ultra', fill=True)\n",
    "plt.title('Распределение длительности поездок')\n",
    "plt.xlabel('Время, мин')\n",
    "plt.ylabel('Плотность')\n",
    "plt.grid(True)\n",
    "plt.legend()\n",
    "\n",
    "plt.show()"
   ]
  },
  {
   "cell_type": "markdown",
   "id": "9814cf1d",
   "metadata": {},
   "source": [
    "**Выводы по объединению данных:**\n",
    "\n",
    "**Распределение расстояний поездок:**\n",
    "\n",
    "**Общая тенденция:**\n",
    "- Для обеих групп пользователей (Free и Ultra) характерно экспоненциальное уменьшение плотности по мере увеличения расстояния. Это означает, что большинство поездок совершается на короткие дистанции (до 2000–4000 метров).\n",
    "\n",
    "- Пик плотности наблюдается вблизи нуля, что подтверждает популярность очень коротких поездок (например, перемещения в пределах одного района).\n",
    "\n",
    "**Различия между группами:**\n",
    "- Пользователи без подписки (Free) чаще совершают поездки на сверхкороткие расстояния (0–2000 м), о чём говорит более высокий пик плотности в этой области.\n",
    "\n",
    "- Пользователи с подпиской Ultra демонстрируют более плавное распределение, включая чуть больше поездок на средние дистанции (4000–6000м).\n",
    "\n",
    "**Распределение длительности поездок:**\n",
    "\n",
    "**Общая картина:**\n",
    "- Распределение времени поездок также имеет резкий спад после 10–15 минут, что согласуется с данными о расстоянии: короткие поездки занимают меньше времени.\n",
    "\n",
    "- Пик плотности приходится на первые 5 минут для обеих групп.\n",
    "\n",
    "**Ключевые различия:**\n",
    "- Пользователи Free концентрируются в области очень коротких поездок (0–10 минут), что может указывать на использование сервиса для экстренных или точечных перемещений.\n",
    "\n",
    "- Пользователи Ultra чаще совершают поездки длительностью 10–30 минут, что может быть связано с поездками на работу или за город.\n",
    "\n",
    "**Общие выводы:**\n",
    "\n",
    "**Короткие поездки доминируют:**\n",
    "- Независимо от типа подписки, сервис в основном используется для быстрых и коротких перемещений. Это может быть связано с городской инфраструктурой или ограничениями самого сервиса (например, стоимостью длительных поездок).\n",
    "\n",
    "**Разница в поведении:**\n",
    "- Free-пользователи чаще выбирают минимальные расстояния и время, возможно, из-за тарифной политики (плата за минуту/километр).\n",
    "\n",
    "- Ultra-пользователи демонстрируют более разнообразные паттерны, что может объясняться включёнными в подписку льготами (например, бесплатные минуты или скидки).\n",
    "\n"
   ]
  },
  {
   "cell_type": "markdown",
   "id": "402d620f",
   "metadata": {},
   "source": [
    "#### Шаг 5. Подсчёт выручки"
   ]
  },
  {
   "cell_type": "markdown",
   "id": "871a123b",
   "metadata": {},
   "source": [
    "**5.1 Создайте датафрейм с агрегированными данными о поездках на основе датафрейма с объединёнными данными из шага 4: найдите суммарное расстояние, количество поездок и суммарное время для каждого пользователя за каждый месяц**"
   ]
  },
  {
   "cell_type": "markdown",
   "id": "bdc18c16",
   "metadata": {},
   "source": [
    "Думаю для решения это задания подойдет слудующий способ. Так как данные агрегированные, назову датафреймы agg_distance, agg_rides и agg_duration, соответсвенно. Более подробно дам комментанрии в коде"
   ]
  },
  {
   "cell_type": "code",
   "execution_count": 49,
   "id": "0fca8655",
   "metadata": {},
   "outputs": [
    {
     "data": {
      "text/html": [
       "<div>\n",
       "<style scoped>\n",
       "    .dataframe tbody tr th:only-of-type {\n",
       "        vertical-align: middle;\n",
       "    }\n",
       "\n",
       "    .dataframe tbody tr th {\n",
       "        vertical-align: top;\n",
       "    }\n",
       "\n",
       "    .dataframe thead th {\n",
       "        text-align: right;\n",
       "    }\n",
       "</style>\n",
       "<table border=\"1\" class=\"dataframe\">\n",
       "  <thead>\n",
       "    <tr style=\"text-align: right;\">\n",
       "      <th></th>\n",
       "      <th>user_id</th>\n",
       "      <th>month</th>\n",
       "      <th>total_distance</th>\n",
       "      <th>rides_count</th>\n",
       "      <th>total_duration</th>\n",
       "    </tr>\n",
       "  </thead>\n",
       "  <tbody>\n",
       "    <tr>\n",
       "      <th>0</th>\n",
       "      <td>1</td>\n",
       "      <td>1</td>\n",
       "      <td>7027.511294</td>\n",
       "      <td>2</td>\n",
       "      <td>42.0</td>\n",
       "    </tr>\n",
       "    <tr>\n",
       "      <th>1</th>\n",
       "      <td>1</td>\n",
       "      <td>4</td>\n",
       "      <td>754.159807</td>\n",
       "      <td>1</td>\n",
       "      <td>7.0</td>\n",
       "    </tr>\n",
       "    <tr>\n",
       "      <th>2</th>\n",
       "      <td>1</td>\n",
       "      <td>8</td>\n",
       "      <td>6723.470560</td>\n",
       "      <td>2</td>\n",
       "      <td>45.0</td>\n",
       "    </tr>\n",
       "    <tr>\n",
       "      <th>3</th>\n",
       "      <td>1</td>\n",
       "      <td>10</td>\n",
       "      <td>5809.911100</td>\n",
       "      <td>2</td>\n",
       "      <td>32.0</td>\n",
       "    </tr>\n",
       "    <tr>\n",
       "      <th>4</th>\n",
       "      <td>1</td>\n",
       "      <td>11</td>\n",
       "      <td>7003.499363</td>\n",
       "      <td>3</td>\n",
       "      <td>54.0</td>\n",
       "    </tr>\n",
       "  </tbody>\n",
       "</table>\n",
       "</div>"
      ],
      "text/plain": [
       "   user_id  month  total_distance  rides_count  total_duration\n",
       "0        1      1     7027.511294            2            42.0\n",
       "1        1      4      754.159807            1             7.0\n",
       "2        1      8     6723.470560            2            45.0\n",
       "3        1     10     5809.911100            2            32.0\n",
       "4        1     11     7003.499363            3            54.0"
      ]
     },
     "execution_count": 49,
     "metadata": {},
     "output_type": "execute_result"
    }
   ],
   "source": [
    "# С помощью метода groupby() группирую данные по user_id и month\n",
    "# И суммирую по столбцу distance. Методом reset_index обновляю название столбца в будущем ДФ\n",
    "agg_distance = merged_data.groupby(['user_id', 'month'])['distance'].sum().reset_index(name='total_distance')\n",
    "\n",
    "# Здесь с пощью метода size() счиатю количество поездок. И так же обновляю название столбца\n",
    "agg_rides = merged_data.groupby(['user_id', 'month']).size().reset_index(name='rides_count')\n",
    "\n",
    "# Для суммарного времени использую такой же способ как для суммарной дистанции\n",
    "agg_duration = merged_data.groupby(['user_id', 'month'])['duration'].sum().reset_index(name='total_duration')\n",
    "\n",
    "# В подсказке к задаче указано, что время поездки должно быть округлено методом np.ceil() из библиотеки NymPy(она была подгружена в начале работы)\n",
    "agg_duration['total_duration'] = np.ceil(agg_duration['total_duration']) \n",
    "\n",
    "# Объединяю все три датафрейма по столбцам user_id и month\n",
    "agg_merged = agg_distance.merge(agg_rides, on=['user_id', 'month']).merge(agg_duration, on=['user_id', 'month'])\n",
    "\n",
    "# Вывожу результат\n",
    "agg_merged.head()"
   ]
  },
  {
   "cell_type": "markdown",
   "id": "dc324ab3",
   "metadata": {},
   "source": [
    "Итак, я нашел суммарное расстояние, количество поездок и суммарное время для каждого пользователя за каждый месяц. Приступаю к следующей задаче"
   ]
  },
  {
   "cell_type": "markdown",
   "id": "41544150",
   "metadata": {},
   "source": [
    "**5.2 В этот же датафрейм добавьте столбец с помесячной выручкой, которую принёс каждый пользователь. Для этого обратитесь к информации об условиях оплаты для подписчиков и тех, у кого нет подписки. Продолжительность каждой поездки в каждой строке исходного датафрейма для подсчёта стоимости округляется до следующего целого числа: например, значения 25.3, 25.5 и 26.0 должны быть преобразованы к 26**"
   ]
  },
  {
   "cell_type": "markdown",
   "id": "7974035d",
   "metadata": {},
   "source": [
    "Выведу условие для подсчета выручки. Так будет легче понять, что нужно сделать\n",
    "\n",
    "**Условия для расчёта выручки:**\n",
    "\n",
    "Для каждой поездки:\n",
    "\n",
    "Без подписки (free):\n",
    "цена = 50 + (8 × округлённое время)\n",
    "\n",
    "С подпиской (ultra):\n",
    "цена = 0 + (6 × округлённое время)\n",
    "\n",
    "Абонентская плата (subscription_fee) - 199 руб в месяц - учитывается один раз в месяц."
   ]
  },
  {
   "cell_type": "code",
   "execution_count": 50,
   "id": "1f660af1",
   "metadata": {},
   "outputs": [],
   "source": [
    "# Округляю длительность каждой поездки вверх, в исходном датафрейме. Использую уже знакомый метод np.ceil()\n",
    "merged_data['rounded_duration'] = np.ceil(merged_data['duration'])"
   ]
  },
  {
   "cell_type": "code",
   "execution_count": 51,
   "id": "f0f71661",
   "metadata": {},
   "outputs": [],
   "source": [
    "# Считаю выручку по каждой поездке\n",
    "# Создам отдельную функцию для расчета\n",
    "def calculate_revenue(row):\n",
    "    if row['subscription_type'] == 'free': # Функция берет строку из столбца subscription_type и расчитывает только free\n",
    "        return 50 + 8 * row['rounded_duration'] # Возвращает данные по расчету из условия для пользователей без подписки\n",
    "    else:  # Здесь происходит тоже самое, только для польхователей с подпиской\n",
    "        return 6 * row['rounded_duration']\n",
    "\n",
    "# Добавляю новый столбец к исходному датафрейму. В нем созданная функция будет применяться ко всем строкам этого ДФ\n",
    "merged_data['ride_revenue'] = merged_data.apply(calculate_revenue, axis=1)"
   ]
  },
  {
   "cell_type": "code",
   "execution_count": 52,
   "id": "c63e6645",
   "metadata": {},
   "outputs": [],
   "source": [
    "# Группирую данные по столбцам 'user_id' и 'month' в новую переменную\n",
    "# Суммируею данные по выручке за поездки(ride_revenue)\n",
    "monthly_trip_revenue = merged_data.groupby(['user_id', 'month'])['ride_revenue'].sum().reset_index(name='ride_revenue')"
   ]
  },
  {
   "cell_type": "code",
   "execution_count": 53,
   "id": "bdd11033",
   "metadata": {},
   "outputs": [],
   "source": [
    "# Добавляю новую переменную: Абонентская плата. \n",
    "# Метод fiest() возвращает первое значение из столбца subscription_fee в каждой группе\n",
    "monthly_sub_fee = merged_data.groupby(['user_id', 'month'])['subscription_fee'].first().reset_index(name='subscription_fee')"
   ]
  },
  {
   "cell_type": "code",
   "execution_count": 54,
   "id": "4a3de4c4",
   "metadata": {},
   "outputs": [],
   "source": [
    "# Объединяю данные в одну таблицу\n",
    "monthly_revenue = monthly_trip_revenue.merge(monthly_sub_fee, on=['user_id', 'month'])\n",
    "\n",
    "# Добавляю столбец total_revenue, где подсчитывается общая выручка\n",
    "monthly_revenue['total_revenue'] = monthly_revenue['ride_revenue'] + monthly_revenue['subscription_fee']"
   ]
  },
  {
   "cell_type": "code",
   "execution_count": 55,
   "id": "cb590289",
   "metadata": {},
   "outputs": [
    {
     "data": {
      "text/html": [
       "<div>\n",
       "<style scoped>\n",
       "    .dataframe tbody tr th:only-of-type {\n",
       "        vertical-align: middle;\n",
       "    }\n",
       "\n",
       "    .dataframe tbody tr th {\n",
       "        vertical-align: top;\n",
       "    }\n",
       "\n",
       "    .dataframe thead th {\n",
       "        text-align: right;\n",
       "    }\n",
       "</style>\n",
       "<table border=\"1\" class=\"dataframe\">\n",
       "  <thead>\n",
       "    <tr style=\"text-align: right;\">\n",
       "      <th></th>\n",
       "      <th>user_id</th>\n",
       "      <th>month</th>\n",
       "      <th>total_distance</th>\n",
       "      <th>rides_count</th>\n",
       "      <th>total_duration</th>\n",
       "      <th>subscription_type</th>\n",
       "      <th>total_revenue</th>\n",
       "    </tr>\n",
       "  </thead>\n",
       "  <tbody>\n",
       "    <tr>\n",
       "      <th>0</th>\n",
       "      <td>1</td>\n",
       "      <td>1</td>\n",
       "      <td>7027.511294</td>\n",
       "      <td>2</td>\n",
       "      <td>42.0</td>\n",
       "      <td>ultra</td>\n",
       "      <td>451.0</td>\n",
       "    </tr>\n",
       "    <tr>\n",
       "      <th>1</th>\n",
       "      <td>1</td>\n",
       "      <td>4</td>\n",
       "      <td>754.159807</td>\n",
       "      <td>1</td>\n",
       "      <td>7.0</td>\n",
       "      <td>ultra</td>\n",
       "      <td>241.0</td>\n",
       "    </tr>\n",
       "    <tr>\n",
       "      <th>2</th>\n",
       "      <td>1</td>\n",
       "      <td>8</td>\n",
       "      <td>6723.470560</td>\n",
       "      <td>2</td>\n",
       "      <td>45.0</td>\n",
       "      <td>ultra</td>\n",
       "      <td>475.0</td>\n",
       "    </tr>\n",
       "    <tr>\n",
       "      <th>3</th>\n",
       "      <td>1</td>\n",
       "      <td>10</td>\n",
       "      <td>5809.911100</td>\n",
       "      <td>2</td>\n",
       "      <td>32.0</td>\n",
       "      <td>ultra</td>\n",
       "      <td>391.0</td>\n",
       "    </tr>\n",
       "    <tr>\n",
       "      <th>4</th>\n",
       "      <td>1</td>\n",
       "      <td>11</td>\n",
       "      <td>7003.499363</td>\n",
       "      <td>3</td>\n",
       "      <td>54.0</td>\n",
       "      <td>ultra</td>\n",
       "      <td>535.0</td>\n",
       "    </tr>\n",
       "  </tbody>\n",
       "</table>\n",
       "</div>"
      ],
      "text/plain": [
       "   user_id  month  total_distance  rides_count  total_duration  \\\n",
       "0        1      1     7027.511294            2            42.0   \n",
       "1        1      4      754.159807            1             7.0   \n",
       "2        1      8     6723.470560            2            45.0   \n",
       "3        1     10     5809.911100            2            32.0   \n",
       "4        1     11     7003.499363            3            54.0   \n",
       "\n",
       "  subscription_type  total_revenue  \n",
       "0             ultra          451.0  \n",
       "1             ultra          241.0  \n",
       "2             ultra          475.0  \n",
       "3             ultra          391.0  \n",
       "4             ultra          535.0  "
      ]
     },
     "execution_count": 55,
     "metadata": {},
     "output_type": "execute_result"
    }
   ],
   "source": [
    "# Получаю подписку каждого пользователя в каждом месяце (предполагается, что она не меняется в течение месяца)\n",
    "monthly_subscription = merged_data[['user_id', 'month', 'subscription_type']].drop_duplicates()\n",
    "\n",
    "# Добавляю тип подписки к agg_merged\n",
    "agg_merged = agg_merged.merge(monthly_subscription, on=['user_id', 'month'], how='left')\n",
    "\n",
    "# Объединяю agg_merged с monthly_revenue по user_id и month, добавляя столбец total_revenue\n",
    "agg_merged = agg_merged.merge(monthly_revenue[['user_id', 'month', 'total_revenue']], on=['user_id', 'month'], how='left')\n",
    "\n",
    "# Проверяю результат\n",
    "agg_merged.head()"
   ]
  },
  {
   "cell_type": "markdown",
   "id": "ad881c07",
   "metadata": {},
   "source": [
    "**Вывод по подсчёту выручки**\n",
    "\n",
    "В рамках пятого этапа проекта были выполнены расчёты, необходимые для анализа выручки, полученной от пользователей сервиса GoFast:\n",
    "\n",
    "**Агрегированы данные о поездках:**\n",
    "\n",
    "- Для каждого пользователя и каждого месяца рассчитаны:\n",
    "\n",
    "- Суммарное расстояние поездок (total_distance);\n",
    "\n",
    "- Количество поездок (rides_count);\n",
    "\n",
    "- Общая продолжительность поездок в минутах (total_duration), округлённая вверх по правилам тарификации;\n",
    "\n",
    "- Тип подписки пользователя (subscription_type) на момент поездок.\n",
    "\n",
    "**Добавлена помесячная выручка:**\n",
    "\n",
    "- Для каждой поездки была рассчитана её стоимость с учётом условий тарифа:\n",
    "\n",
    "- у пользователей с подпиской — сниженная поминутная стоимость и бесплатный старт;\n",
    "\n",
    "- у пользователей без подписки — полная стоимость минуты и платный старт;\n",
    "\n",
    "- Также была учтена абонентская плата за подписку, если она действовала в конкретный месяц;\n",
    "\n",
    "- В результате сформирован показатель общей помесячной выручки от каждого пользователя (total_revenue), объединяющий доход от поездок и подписки.\n",
    "\n",
    "**Общий вывод:**\n",
    "\n",
    "- Итоговый датафрейм содержит все ключевые метрики — активность (дистанция, время, количество поездок), финансовые показатели (выручка), а также тип подписки пользователя. Это даёт возможность:\n",
    "\n",
    "- сравнивать поведение подписчиков и не подписчиков;\n",
    "\n",
    "- анализировать изменения выручки по месяцам;\n",
    "\n",
    "- готовить данные к статистическому анализу и проверке гипотез."
   ]
  },
  {
   "cell_type": "markdown",
   "id": "41545ac0",
   "metadata": {},
   "source": [
    "#### Шаг 6. Проверка гипотез"
   ]
  },
  {
   "cell_type": "markdown",
   "id": "2fc1a6d4",
   "metadata": {},
   "source": [
    "**6.1 Важно понять, тратят ли пользователи с подпиской больше времени на поездки? Если да, то пользователи с подпиской могут быть «выгоднее» для компании. Проверьте гипотезу. Используйте исходные данные о продолжительности каждой сессии — отдельно для подписчиков и тех, у кого нет подписки**"
   ]
  },
  {
   "cell_type": "markdown",
   "id": "55f1de93",
   "metadata": {},
   "source": [
    "С помощью статистической проверки гипотез проверю как сравниваются два средних значения:\n",
    "- Средняя продолжительность поездки у пользователей с подпиской (группа 1)\n",
    "- Средняя продолжительность поездки у пользователей без подписки (группа 2)"
   ]
  },
  {
   "cell_type": "markdown",
   "id": "f74b1b10",
   "metadata": {},
   "source": [
    "**Формулирую гипотезу:**\n",
    "\n",
    "Нулевая гипотеза (H0):\n",
    "\n",
    "Среднее время поездки одинаковое у подписчиков и у тех, кто без подписки.\n",
    "H0: мю_подписка = мю_без_подписки\n",
    "\n",
    "Альтернативная гипотеза (H₁):\n",
    "Подписчики тратят больше времени на поездку.\n",
    "H1: мю_подписка > мю_без_подписки\n",
    "\n",
    "Это односторонний t-тест, потому что проверяю именно “больше”, а не просто “не равно”."
   ]
  },
  {
   "cell_type": "code",
   "execution_count": 56,
   "id": "f941b871",
   "metadata": {},
   "outputs": [],
   "source": [
    "# Создам отдельную переменную подпсчиков\n",
    "ultra_users = merged_data[merged_data['subscription_type'] == 'ultra']['duration']\n",
    "\n",
    "# И для тех, у кого подписка отсутсвует\n",
    "free_users = merged_data[merged_data['subscription_type'] == 'free']['duration']"
   ]
  },
  {
   "cell_type": "code",
   "execution_count": 57,
   "id": "d2ad48ab",
   "metadata": {},
   "outputs": [
    {
     "name": "stdout",
     "output_type": "stream",
     "text": [
      "t-статистика: 12.241203729044017\n",
      "p-значение: 1.2804098316645618e-34\n"
     ]
    }
   ],
   "source": [
    "# Провожу t-тест для независимых выборок. В начале работы я импортировал stats как st\n",
    "t_st, p_value = st.ttest_ind(ultra_users, free_users, alternative='greater')\n",
    "\n",
    "# Вывожу результат\n",
    "print('t-статистика:', t_st)\n",
    "print('p-значение:', p_value)"
   ]
  },
  {
   "cell_type": "code",
   "execution_count": 58,
   "id": "9af9d03c",
   "metadata": {},
   "outputs": [
    {
     "data": {
      "image/png": "[encoded data removed]",
      "text/plain": [
       "<Figure size 432x288 with 1 Axes>"
      ]
     },
     "metadata": {
      "needs_background": "light"
     },
     "output_type": "display_data"
    }
   ],
   "source": [
    "# Добавляю визуализацию\n",
    "sns.kdeplot(ultra_users, label='Ultra', fill=True)\n",
    "sns.kdeplot(free_users, label='Free', fill=True)\n",
    "plt.title('Распределение времени поездок')\n",
    "plt.xlabel('Длительность поездки (мин.)')\n",
    "plt.ylabel('Плотность')\n",
    "plt.legend()\n",
    "plt.grid(True)\n",
    "plt.show()"
   ]
  },
  {
   "cell_type": "markdown",
   "id": "a40544d4",
   "metadata": {},
   "source": [
    "**Краткий вывод по анализу времени поездок:**\n",
    "\n",
    "- Нулевая гипотеза (H₀): средняя длительность поездок у пользователей с подпиской (Ultra) равна или меньше, чем у пользователей без подписки (Free).\n",
    "\n",
    "- Альтернативная гипотеза (H₁): пользователи с подпиской тратят больше времени на поездки, чем пользователи без подписки.\n",
    "\n",
    "**Статистические результаты:**\n",
    "\n",
    "- p-value = 1.28e-34\n",
    "\n",
    "- t-статистика = 12.24\n",
    "\n",
    "- Уровень значимости: α = 0.05\n",
    "\n",
    "**Заключение:**\n",
    "\n",
    "p-value значительно меньше 0.05, поэтому нулевая гипотеза отвергается. Это значит, что пользователи с подпиской в среднем тратят больше времени на поездку, и это различие статистически значимо."
   ]
  },
  {
   "cell_type": "markdown",
   "id": "5f613b37",
   "metadata": {},
   "source": [
    "**6.2 Расстояние одной поездки в 3130 метров — оптимальное с точки зрения износа самоката. Можно ли сказать, что среднее расстояние, которое проезжают пользователи с подпиской за одну поездку, не превышает 3130 метров? Проверьте гипотезу и сделайте выводы**"
   ]
  },
  {
   "cell_type": "markdown",
   "id": "93dba09a",
   "metadata": {},
   "source": [
    "**Формулирую гипотезу**\n",
    "\n",
    "Cреднее расстояние не больше 3130, значит:\n",
    "\n",
    "- Нулевая гипотеза H0: среднее расстояние пользователей =< 3130 м\n",
    "\n",
    "- Альтернативная гипотеза H1: среднее расстояние пользователей > 3130 м\n",
    "\n",
    "Это односторонний t-тест на превышение среднего."
   ]
  },
  {
   "cell_type": "code",
   "execution_count": 59,
   "id": "2be9bd0f",
   "metadata": {},
   "outputs": [
    {
     "name": "stdout",
     "output_type": "stream",
     "text": [
      "p-value: 0.9195\n"
     ]
    }
   ],
   "source": [
    "# Отбираю только пользователей с подпиской, подойдет простая индексация\n",
    "ultra_users = merged_data[merged_data['subscription_type'] == 'ultra']\n",
    "\n",
    "# Убераю пропуски. Метод ttest_1samp() не работает, если в данных присутствует NaN\n",
    "ultra_distances = ultra_users['distance'].dropna()\n",
    "\n",
    "# Одновыборочный t-тест: проверка, что среднее расстояние < 3130 метров\n",
    "test_result = st.ttest_1samp(ultra_distances, popmean=3130, alternative = 'greater')\n",
    "\n",
    "# Вывожу результат\n",
    "print(f'p-value: {test_result.pvalue:.4f}')"
   ]
  },
  {
   "cell_type": "markdown",
   "id": "ad600074",
   "metadata": {},
   "source": [
    "**Вывод:**\n",
    "\n",
    "Поскольку p-value значительно превышает уровень значимости (0.9195 > 0.05), нет оснований отвергнуть нулевую гипотезу. Это значит, что статистически нельзя утверждать, что пользователи с подпиской проезжают в среднем больше 3130 метров. Напротив, с высокой вероятностью можно предположить, что их среднее расстояние не превышает оптимальный порог."
   ]
  },
  {
   "cell_type": "markdown",
   "id": "3d5585e7",
   "metadata": {},
   "source": [
    "**6.3 Проверьте гипотезу о том, будет ли помесячная выручка от пользователей с подпиской по месяцам выше, чем выручка от пользователей без подписки. Сделайте вывод**"
   ]
  },
  {
   "cell_type": "markdown",
   "id": "f2c6c159",
   "metadata": {},
   "source": [
    "**Формулирую гипотезу**\n",
    "\n",
    "Нулевая и альтернативная гипотезы:\n",
    "- H0: Средняя помесячная выручка подписчиков меньше или равна выручке пользователей без подписки.\n",
    "\n",
    "- H1: Средняя помесячная выручка подписчиков выше\n",
    "\n",
    "Следует провести t-тест для независимых выборок (двусторонний, но с alternative='greater')"
   ]
  },
  {
   "cell_type": "code",
   "execution_count": 60,
   "id": "10359814",
   "metadata": {},
   "outputs": [],
   "source": [
    "# Удаляю пропуски\n",
    "agg_merged_clean = agg_merged.dropna(subset=['total_revenue', 'subscription_type'])\n",
    "\n",
    "# Разделяю данные выручки по пользователям с подпиской и без\n",
    "revenue_ultra = agg_merged_clean[agg_merged_clean['subscription_type'] == 'ultra']['total_revenue']\n",
    "revenue_free = agg_merged_clean[agg_merged_clean['subscription_type'] == 'free']['total_revenue']"
   ]
  },
  {
   "cell_type": "code",
   "execution_count": 61,
   "id": "be77dc8c",
   "metadata": {},
   "outputs": [
    {
     "name": "stdout",
     "output_type": "stream",
     "text": [
      "p-value: 0.0000\n"
     ]
    }
   ],
   "source": [
    "# Провожу t-тест\n",
    "test_result = st.ttest_ind(revenue_ultra, revenue_free, alternative='greater')\n",
    "\n",
    "# Вывожу результат\n",
    "print(f'p-value: {test_result.pvalue:.4f}')"
   ]
  },
  {
   "cell_type": "markdown",
   "id": "c545adb5",
   "metadata": {},
   "source": [
    "**Вывод**\n",
    "\n",
    "Проведённый статистический тест показал, что помесячная выручка от пользователей с подпиской статистически значимо выше, чем от пользователей без подписки (p-value = 0.0)\n",
    "\n",
    "Это позволяет отклонить нулевую гипотезу и сделать вывод о том, что подписчики приносят компании больше выручки. Такой результат может свидетельствовать о выгодности подписной модели и быть учтён при принятии бизнес-решений, направленных на увеличение доли подписчиков."
   ]
  },
  {
   "cell_type": "markdown",
   "id": "7865d71e",
   "metadata": {},
   "source": [
    "**6.4 Представьте такую ситуацию: техническая команда сервиса обновила сервера, с которыми взаимодействует мобильное приложение. Она надеется, что из-за этого количество обращений в техподдержку значимо снизилось. Некоторый файл содержит для каждого пользователя данные о количестве обращений до обновления и после него. Какой тест вам понадобился бы для проверки этой гипотезы?**"
   ]
  },
  {
   "cell_type": "markdown",
   "id": "d5ed38d2",
   "metadata": {},
   "source": [
    "**Формирую гипотезу:**\n",
    "\n",
    "Задача:\n",
    "\n",
    "Обновление серверов снизило количество обращений в техподдержку на пользователя.\n",
    "\n",
    "**Есть две числовые выборки для одних и тех же пользователей:**\n",
    "\n",
    "- Кол-во обращений до обновления\n",
    "\n",
    "- Кол-во обращений после обновления\n",
    "\n",
    "То есть, это парные данные, потому что сравнивается метрика до и после у одних и тех же людей\n",
    "\n",
    "**Гипотеза:**\n",
    "- H0: Обновление не помогло (обращения не уменьшились).\n",
    "\n",
    "- H1: Обновление помогло (обращений стало меньше).\n",
    "\n",
    "**Для сравнения двух зависимых (парных) выборок используется:**\n",
    "- Парный t-тест (paired t-test) – если распределение обращений похоже на нормальное \n",
    "- Тест Уилкоксона – если распределение сильно не похоже на нормальное (неparametric)\n",
    "\n",
    "**Что сравниваем:**\n",
    "- Для каждого пользователя: разница = обращения_после − обращения_до\n",
    "\n",
    "- И проверяем, меньше ли в среднем эта разница 0 (то есть, стало меньше обращений)\n",
    "\n",
    "**Вывод:**\n",
    "- Для проверки гипотезы о снижении количества обращений после обновления серверов:\n",
    "\n",
    "- Используется односторонний парный тест.\n",
    "\n",
    "- H0: изменений нет или стало хуже.\n",
    "\n",
    "- H1: стало лучше — обращений стало меньше.\n",
    "\n",
    "- Выбор теста зависит от распределения разностей."
   ]
  },
  {
   "cell_type": "markdown",
   "id": "fdb7ae7a",
   "metadata": {},
   "source": [
    "**Вывод по проверке гипотез**\n",
    "\n",
    "- Подписка Ultra статистически влияет на поведение пользователей: они катаются дольше и приносят больше выручки.\n",
    "\n",
    "- Среднее расстояние одной поездки пока не даёт уверенного вывода: p-value выше порогового уровня.\n",
    "\n",
    "- Помесячная выручка от подписчиков выше — это весомый аргумент в пользу продвижения подписной модели.\n",
    "\n",
    "- В случае технических изменений (например, обновления сервера) — необходимо использовать тесты для зависимых выборок."
   ]
  },
  {
   "cell_type": "markdown",
   "id": "61213c5e",
   "metadata": {},
   "source": [
    "#### Шаг 7. Распределения"
   ]
  },
  {
   "cell_type": "markdown",
   "id": "06535244",
   "metadata": {},
   "source": [
    "#### Общий вывод по проекту аналитики сервиса GoFast"
   ]
  },
  {
   "cell_type": "markdown",
   "id": "f75b7e6b",
   "metadata": {},
   "source": [
    "**Цели исследования**\n",
    "\n",
    "Целью проекта был анализ пользовательского поведения и выручки сервиса аренды самокатов GoFast, с акцентом на различия между пользователями с подпиской и без неё. В частности:\n",
    "\n",
    "- Изучить демографические и поведенческие особенности пользователей\n",
    "\n",
    "- Оценить влияние подписки на длительность и расстояние поездок\n",
    "\n",
    "- Провести анализ выручки с учетом тарифной политики\n",
    "\n",
    "- Проверить статистические гипотезы для обоснования бизнес-решений\n",
    "\n",
    "- Сформулировать рекомендации по маркетингу и стратегии роста\n",
    "\n",
    "**Этап 1–2. Загрузка и предобработка данных**\n",
    "\n",
    "Обработка и структура данных:\n",
    "- Загружены и объединены данные из 3 таблиц: users_go, riders_go, subscriptions_go\n",
    "\n",
    "- Проведена очистка: нет пропусков и дубликатов\n",
    "\n",
    "- Приведены к нужным типам: даты, строки, числа\n",
    "\n",
    "- Извлечены временные признаки (например, month)\n",
    "\n",
    "**Размер объединенного датасета:** \n",
    "merged_data — 18 068 строк, 12 признаков\n",
    "\n",
    "Данные полностью подготовлены к анализу: структурированы, чисты и логичны.\n",
    "\n",
    "**Этап 3. Исследовательский анализ**\n",
    "\n",
    "Топ-3 города по количеству пользователей:\n",
    "\n",
    "- Пятигорск — 219\n",
    "\n",
    "- Екатеринбург — 204\n",
    "\n",
    "- Ростов-на-Дону — 198\n",
    "\n",
    "**Возраст пользователей:**\n",
    "- Средний и медианный возраст — 25 лет\n",
    "\n",
    "- Основная аудитория: молодые пользователи 21–28 лет\n",
    "\n",
    "**Подписка:**\n",
    "\n",
    "Распределение пользователей:\n",
    "- Free — 54.4%\n",
    "\n",
    "- Ultra — 45.6%\n",
    "\n",
    "**Расстояния поездок:**\n",
    "- Большинство поездок — до 1000 м\n",
    "\n",
    "- Поездки > 3000 м — редкость\n",
    "\n",
    "Сервис используется в рамках коротких городских маршрутов\n",
    "\n",
    "**Время поездок:**\n",
    "- Самые частые поездки — до 5 минут\n",
    "\n",
    "- Поездки > 20 минут — маловероятны\n",
    "\n",
    "**Вывод:** сервис GoFast ориентирован на молодых пользователей в городах и обслуживает короткие перемещения.\n",
    "\n",
    "**Этап 4. Объединение данных и поведенческий анализ**\n",
    "\n",
    "Созданы датафреймы по группам:\n",
    "- Подписчики (Ultra): 6 500 записей\n",
    "\n",
    "- Бесплатные пользователи (Free): 11 568 записей\n",
    "\n",
    "Поведение по расстоянию:\n",
    "- Free — чаще совершают очень короткие поездки (до 2000 м)\n",
    "\n",
    "- Ultra — распределение более равномерное, больше поездок на 4000–6000 м\n",
    "\n",
    "Поведение по времени:\n",
    "- Free — пиковые значения до 10 минут\n",
    "\n",
    "- Ultra — часто ездят 10–30 минут\n",
    "\n",
    "**Вывод:** Поведение пользователей существенно различается. Подписка явно влияет на стиль использования сервиса.\n",
    "\n",
    "**Этап 5. Подсчет выручки**\n",
    "\n",
    "Расчёт выручки с учётом тарифа:\n",
    "- Free: стандартная поминутная тарификация + плата за старт\n",
    "\n",
    "- Ultra: скидка на минуту и бесплатный старт\n",
    "\n",
    "Добавлена абонентская плата для подписчиков\n",
    "\n",
    "Агрегация по месяцам:\n",
    "\n",
    "Для каждого пользователя и каждого месяца рассчитаны:\n",
    "\n",
    "- total_distance, rides_count, total_duration\n",
    "\n",
    "- subscription_type, total_revenue\n",
    "\n",
    "**Вывод:** создан агрегированный датафрейм с полными данными по поведению и доходности каждого пользователя.\n",
    "\n",
    "**Этап 6. Проверка гипотез**\n",
    "\n",
    "Гипотеза 1: Время поездки\n",
    "- H0: У подписчиков время поездки <= у Free\n",
    "\n",
    "- H1: У подписчиков время поездки >\n",
    "\n",
    "- p-value = 1.28e-34\n",
    "\n",
    "**Вывод:** H0 отвергнута. Подписчики тратят больше времени на поездки\n",
    "\n",
    "Гипотеза 2: Средняя дистанция < 3130 м\n",
    "\n",
    "- Средняя дистанция подписчиков = 3128.3 м\n",
    "\n",
    "- p-value = 0.9195\n",
    "\n",
    "**Вывод:** H0 не отвергнута. Нет доказательств, что подписчики ездят меньше оптимальной нормы\n",
    "\n",
    "Гипотеза 3: Выручка выше у подписчиков\n",
    "\n",
    "- p-value = 0.0\n",
    "\n",
    "**Вывод:** H0 отвергнута. Подписчики приносят статистически больше выручки по сравнению с Free\n",
    "\n",
    "Гипотеза 4: Обращения в техподдержку\n",
    "\n",
    "Используется парный t-тест или тест Уилкоксона\n",
    "\n",
    "Сравниваются обращения до и после на одного пользователя\n",
    "\n",
    "- H0: обращений не стало меньше\n",
    "\n",
    "- H1: обращений стало меньше\n",
    "\n",
    "**Вывод:** тест зависит от распределения, предпочтительна односторонняя проверка\n",
    "\n",
    "**Ключевые факты:**\n",
    "- Пользователи Ultra ездят дольше — до 30 минут, чаще на расстояния 4–6 км\n",
    "\n",
    "- Ultra-подписка приносит больше дохода — несмотря на меньшую долю пользователей\n",
    "\n",
    "- Профиль аудитории — молодые люди 21–28 лет в городах Юга России\n",
    "\n",
    "- Поведение Free-пользователей ограничено сверхкороткими поездками\n",
    "\n",
    "\n",
    "**Итоговый вывод**\n",
    "\n",
    "Проект подтвердил гипотезу о том, что подписка Ultra значительно влияет на поведение пользователей и увеличивает выручку сервиса. Пользователи с подпиской совершают более длительные поездки и генерируют большую доходность, несмотря на меньшую численность. Выявленные паттерны использования дают основание рекомендовать усиление продвижения подписной модели."
   ]
  }
 ],
 "metadata": {
  "ExecuteTimeLog": [
   {
    "duration": 451,
    "start_time": "2025-06-17T03:59:56.752Z"
   },
   {
    "duration": 512,
    "start_time": "2025-06-17T04:00:27.732Z"
   },
   {
    "duration": 116,
    "start_time": "2025-06-17T04:04:33.947Z"
   },
   {
    "duration": 3,
    "start_time": "2025-06-17T04:09:41.754Z"
   },
   {
    "duration": 94,
    "start_time": "2025-06-17T04:21:15.746Z"
   },
   {
    "duration": 168,
    "start_time": "2025-06-17T04:21:22.618Z"
   },
   {
    "duration": 16,
    "start_time": "2025-06-17T04:21:23.559Z"
   },
   {
    "duration": 10,
    "start_time": "2025-06-17T04:21:49.308Z"
   },
   {
    "duration": 7,
    "start_time": "2025-06-17T04:22:06.844Z"
   },
   {
    "duration": 1067,
    "start_time": "2025-06-17T04:31:02.332Z"
   },
   {
    "duration": 740,
    "start_time": "2025-06-17T04:31:16.003Z"
   },
   {
    "duration": 7,
    "start_time": "2025-06-17T04:31:54.430Z"
   },
   {
    "duration": 8,
    "start_time": "2025-06-17T04:32:04.939Z"
   },
   {
    "duration": 8,
    "start_time": "2025-06-17T04:32:07.594Z"
   },
   {
    "duration": 9,
    "start_time": "2025-06-17T04:33:28.027Z"
   },
   {
    "duration": 9,
    "start_time": "2025-06-17T04:33:37.147Z"
   },
   {
    "duration": 15,
    "start_time": "2025-06-17T04:33:43.739Z"
   },
   {
    "duration": 9,
    "start_time": "2025-06-17T04:33:44.069Z"
   },
   {
    "duration": 8,
    "start_time": "2025-06-17T04:33:44.974Z"
   },
   {
    "duration": 12,
    "start_time": "2025-06-17T04:33:56.610Z"
   },
   {
    "duration": 11,
    "start_time": "2025-06-17T04:34:26.444Z"
   },
   {
    "duration": 13,
    "start_time": "2025-06-17T04:34:54.606Z"
   },
   {
    "duration": 5,
    "start_time": "2025-06-17T05:23:20.245Z"
   },
   {
    "duration": 3,
    "start_time": "2025-06-17T05:23:27.271Z"
   },
   {
    "duration": 59,
    "start_time": "2025-06-17T05:23:27.791Z"
   },
   {
    "duration": 8,
    "start_time": "2025-06-17T05:23:27.994Z"
   },
   {
    "duration": 8,
    "start_time": "2025-06-17T05:23:28.229Z"
   },
   {
    "duration": 7,
    "start_time": "2025-06-17T05:23:28.472Z"
   },
   {
    "duration": 12,
    "start_time": "2025-06-17T05:23:29.694Z"
   },
   {
    "duration": 8,
    "start_time": "2025-06-17T05:23:31.614Z"
   },
   {
    "duration": 9,
    "start_time": "2025-06-17T05:23:42.212Z"
   },
   {
    "duration": 7,
    "start_time": "2025-06-17T05:47:04.262Z"
   },
   {
    "duration": 6,
    "start_time": "2025-06-17T05:49:52.438Z"
   },
   {
    "duration": 13,
    "start_time": "2025-06-17T05:51:38.727Z"
   },
   {
    "duration": 10,
    "start_time": "2025-06-17T05:55:07.557Z"
   },
   {
    "duration": 13,
    "start_time": "2025-06-17T05:57:20.861Z"
   },
   {
    "duration": 9,
    "start_time": "2025-06-17T05:57:23.142Z"
   },
   {
    "duration": 2,
    "start_time": "2025-06-17T05:58:08.809Z"
   },
   {
    "duration": 22,
    "start_time": "2025-06-17T05:58:24.684Z"
   },
   {
    "duration": 11,
    "start_time": "2025-06-17T05:58:48.125Z"
   },
   {
    "duration": 4,
    "start_time": "2025-06-17T06:00:46.977Z"
   },
   {
    "duration": 13,
    "start_time": "2025-06-17T06:00:48.862Z"
   },
   {
    "duration": 11,
    "start_time": "2025-06-17T06:02:00.355Z"
   },
   {
    "duration": 9,
    "start_time": "2025-06-17T06:02:01.252Z"
   },
   {
    "duration": 83,
    "start_time": "2025-06-17T06:02:03.696Z"
   },
   {
    "duration": 8,
    "start_time": "2025-06-17T06:02:04.106Z"
   },
   {
    "duration": 5,
    "start_time": "2025-06-17T06:02:09.047Z"
   },
   {
    "duration": 12,
    "start_time": "2025-06-17T06:02:09.391Z"
   },
   {
    "duration": 12,
    "start_time": "2025-06-17T06:02:12.729Z"
   },
   {
    "duration": 8,
    "start_time": "2025-06-17T06:02:15.166Z"
   },
   {
    "duration": 10,
    "start_time": "2025-06-17T06:02:15.768Z"
   },
   {
    "duration": 6,
    "start_time": "2025-06-17T06:02:17.015Z"
   },
   {
    "duration": 12,
    "start_time": "2025-06-17T06:02:20.433Z"
   },
   {
    "duration": 10,
    "start_time": "2025-06-17T06:02:21.730Z"
   },
   {
    "duration": 5,
    "start_time": "2025-06-17T06:02:23.123Z"
   },
   {
    "duration": 12,
    "start_time": "2025-06-17T06:02:23.730Z"
   },
   {
    "duration": 13,
    "start_time": "2025-06-17T06:02:24.506Z"
   },
   {
    "duration": 8,
    "start_time": "2025-06-17T06:02:25.333Z"
   },
   {
    "duration": 6,
    "start_time": "2025-06-17T06:03:09.484Z"
   },
   {
    "duration": 12,
    "start_time": "2025-06-17T06:04:47.733Z"
   },
   {
    "duration": 7,
    "start_time": "2025-06-17T06:07:49.831Z"
   },
   {
    "duration": 9,
    "start_time": "2025-06-17T06:07:50.181Z"
   },
   {
    "duration": 6,
    "start_time": "2025-06-17T06:07:50.879Z"
   },
   {
    "duration": 880,
    "start_time": "2025-06-17T06:07:56.529Z"
   },
   {
    "duration": 61,
    "start_time": "2025-06-17T06:07:57.411Z"
   },
   {
    "duration": 16,
    "start_time": "2025-06-17T06:07:57.474Z"
   },
   {
    "duration": 8,
    "start_time": "2025-06-17T06:07:57.492Z"
   },
   {
    "duration": 17,
    "start_time": "2025-06-17T06:07:57.502Z"
   },
   {
    "duration": 22,
    "start_time": "2025-06-17T06:07:57.521Z"
   },
   {
    "duration": 7,
    "start_time": "2025-06-17T06:07:57.544Z"
   },
   {
    "duration": 10,
    "start_time": "2025-06-17T06:07:57.553Z"
   },
   {
    "duration": 8,
    "start_time": "2025-06-17T06:07:57.564Z"
   },
   {
    "duration": 25,
    "start_time": "2025-06-17T06:07:57.575Z"
   },
   {
    "duration": 9,
    "start_time": "2025-06-17T06:07:57.602Z"
   },
   {
    "duration": 27,
    "start_time": "2025-06-17T06:07:57.613Z"
   },
   {
    "duration": 92,
    "start_time": "2025-06-17T06:07:57.642Z"
   },
   {
    "duration": 13,
    "start_time": "2025-06-17T06:07:57.736Z"
   },
   {
    "duration": 7,
    "start_time": "2025-06-17T06:07:57.751Z"
   },
   {
    "duration": 2,
    "start_time": "2025-06-17T06:09:47.803Z"
   },
   {
    "duration": 3,
    "start_time": "2025-06-17T06:09:50.353Z"
   },
   {
    "duration": 11,
    "start_time": "2025-06-17T06:10:00.818Z"
   },
   {
    "duration": 858,
    "start_time": "2025-06-17T06:11:25.748Z"
   },
   {
    "duration": 61,
    "start_time": "2025-06-17T06:11:26.608Z"
   },
   {
    "duration": 15,
    "start_time": "2025-06-17T06:11:26.670Z"
   },
   {
    "duration": 8,
    "start_time": "2025-06-17T06:11:26.687Z"
   },
   {
    "duration": 7,
    "start_time": "2025-06-17T06:11:26.697Z"
   },
   {
    "duration": 24,
    "start_time": "2025-06-17T06:11:26.705Z"
   },
   {
    "duration": 8,
    "start_time": "2025-06-17T06:11:26.731Z"
   },
   {
    "duration": 16,
    "start_time": "2025-06-17T06:11:26.740Z"
   },
   {
    "duration": 8,
    "start_time": "2025-06-17T06:11:26.757Z"
   },
   {
    "duration": 12,
    "start_time": "2025-06-17T06:11:26.766Z"
   },
   {
    "duration": 20,
    "start_time": "2025-06-17T06:11:26.779Z"
   },
   {
    "duration": 5,
    "start_time": "2025-06-17T06:11:26.801Z"
   },
   {
    "duration": 37,
    "start_time": "2025-06-17T06:11:26.807Z"
   },
   {
    "duration": 17,
    "start_time": "2025-06-17T06:11:26.847Z"
   },
   {
    "duration": 26,
    "start_time": "2025-06-17T06:11:26.865Z"
   },
   {
    "duration": 47,
    "start_time": "2025-06-17T06:11:26.893Z"
   },
   {
    "duration": 93,
    "start_time": "2025-06-17T06:14:11.574Z"
   },
   {
    "duration": 9,
    "start_time": "2025-06-17T06:14:31.867Z"
   },
   {
    "duration": 11,
    "start_time": "2025-06-17T06:14:38.556Z"
   },
   {
    "duration": 12,
    "start_time": "2025-06-17T06:14:45.131Z"
   },
   {
    "duration": 5,
    "start_time": "2025-06-17T06:14:46.559Z"
   },
   {
    "duration": 10,
    "start_time": "2025-06-17T06:14:46.886Z"
   },
   {
    "duration": 6,
    "start_time": "2025-06-17T06:14:49.171Z"
   },
   {
    "duration": 10,
    "start_time": "2025-06-17T06:14:59.513Z"
   },
   {
    "duration": 15,
    "start_time": "2025-06-17T06:17:35.154Z"
   },
   {
    "duration": 12,
    "start_time": "2025-06-17T06:17:38.888Z"
   },
   {
    "duration": 11,
    "start_time": "2025-06-17T06:17:47.437Z"
   },
   {
    "duration": 911,
    "start_time": "2025-06-17T06:17:51.308Z"
   },
   {
    "duration": 61,
    "start_time": "2025-06-17T06:17:52.221Z"
   },
   {
    "duration": 14,
    "start_time": "2025-06-17T06:17:52.285Z"
   },
   {
    "duration": 75,
    "start_time": "2025-06-17T06:17:52.302Z"
   },
   {
    "duration": 135,
    "start_time": "2025-06-17T06:17:52.378Z"
   },
   {
    "duration": 13,
    "start_time": "2025-06-17T06:17:52.514Z"
   },
   {
    "duration": 7,
    "start_time": "2025-06-17T06:17:52.529Z"
   },
   {
    "duration": 20,
    "start_time": "2025-06-17T06:17:52.538Z"
   },
   {
    "duration": 12,
    "start_time": "2025-06-17T06:17:52.560Z"
   },
   {
    "duration": 9,
    "start_time": "2025-06-17T06:17:52.575Z"
   },
   {
    "duration": 19,
    "start_time": "2025-06-17T06:17:52.585Z"
   },
   {
    "duration": 12,
    "start_time": "2025-06-17T06:17:52.605Z"
   },
   {
    "duration": 18,
    "start_time": "2025-06-17T06:17:52.619Z"
   },
   {
    "duration": 5,
    "start_time": "2025-06-17T06:17:52.639Z"
   },
   {
    "duration": 35,
    "start_time": "2025-06-17T06:17:52.646Z"
   },
   {
    "duration": 12,
    "start_time": "2025-06-17T06:17:52.683Z"
   },
   {
    "duration": 25,
    "start_time": "2025-06-17T06:17:52.696Z"
   },
   {
    "duration": 38,
    "start_time": "2025-06-17T06:17:52.723Z"
   },
   {
    "duration": 5,
    "start_time": "2025-06-17T06:20:38.459Z"
   },
   {
    "duration": 13,
    "start_time": "2025-06-17T06:28:24.667Z"
   },
   {
    "duration": 5,
    "start_time": "2025-06-17T06:29:40.172Z"
   },
   {
    "duration": 87,
    "start_time": "2025-06-17T06:30:02.041Z"
   },
   {
    "duration": 10,
    "start_time": "2025-06-17T06:30:26.416Z"
   },
   {
    "duration": 91,
    "start_time": "2025-06-17T06:30:58.745Z"
   },
   {
    "duration": 10,
    "start_time": "2025-06-17T06:31:07.125Z"
   },
   {
    "duration": 10,
    "start_time": "2025-06-17T06:31:13.095Z"
   },
   {
    "duration": 9,
    "start_time": "2025-06-17T06:32:20.483Z"
   },
   {
    "duration": 10,
    "start_time": "2025-06-17T06:34:05.196Z"
   },
   {
    "duration": 1859,
    "start_time": "2025-06-17T06:38:31.206Z"
   },
   {
    "duration": 7,
    "start_time": "2025-06-17T06:40:12.080Z"
   },
   {
    "duration": 12,
    "start_time": "2025-06-17T06:40:21.756Z"
   },
   {
    "duration": 11,
    "start_time": "2025-06-17T06:41:11.965Z"
   },
   {
    "duration": 897,
    "start_time": "2025-06-17T06:41:44.273Z"
   },
   {
    "duration": 61,
    "start_time": "2025-06-17T06:41:45.173Z"
   },
   {
    "duration": 15,
    "start_time": "2025-06-17T06:41:45.236Z"
   },
   {
    "duration": 37,
    "start_time": "2025-06-17T06:41:45.253Z"
   },
   {
    "duration": 30,
    "start_time": "2025-06-17T06:41:45.293Z"
   },
   {
    "duration": 21,
    "start_time": "2025-06-17T06:41:45.324Z"
   },
   {
    "duration": 7,
    "start_time": "2025-06-17T06:41:45.347Z"
   },
   {
    "duration": 15,
    "start_time": "2025-06-17T06:41:45.355Z"
   },
   {
    "duration": 7,
    "start_time": "2025-06-17T06:41:45.371Z"
   },
   {
    "duration": 13,
    "start_time": "2025-06-17T06:41:45.380Z"
   },
   {
    "duration": 7,
    "start_time": "2025-06-17T06:41:45.395Z"
   },
   {
    "duration": 39,
    "start_time": "2025-06-17T06:41:45.403Z"
   },
   {
    "duration": 13,
    "start_time": "2025-06-17T06:41:45.445Z"
   },
   {
    "duration": 6,
    "start_time": "2025-06-17T06:41:45.462Z"
   },
   {
    "duration": 31,
    "start_time": "2025-06-17T06:41:45.470Z"
   },
   {
    "duration": 11,
    "start_time": "2025-06-17T06:41:45.503Z"
   },
   {
    "duration": 27,
    "start_time": "2025-06-17T06:41:45.516Z"
   },
   {
    "duration": 9,
    "start_time": "2025-06-17T06:41:45.545Z"
   },
   {
    "duration": 22,
    "start_time": "2025-06-17T06:41:45.555Z"
   },
   {
    "duration": 12,
    "start_time": "2025-06-17T06:41:45.579Z"
   },
   {
    "duration": 10,
    "start_time": "2025-06-17T06:41:45.592Z"
   },
   {
    "duration": 5,
    "start_time": "2025-06-17T06:41:45.604Z"
   },
   {
    "duration": 30,
    "start_time": "2025-06-17T06:41:45.611Z"
   },
   {
    "duration": 8,
    "start_time": "2025-06-17T06:47:37.567Z"
   },
   {
    "duration": 4,
    "start_time": "2025-06-17T06:48:29.190Z"
   },
   {
    "duration": 10,
    "start_time": "2025-06-17T06:48:34.448Z"
   },
   {
    "duration": 10,
    "start_time": "2025-06-17T06:49:05.888Z"
   },
   {
    "duration": 7,
    "start_time": "2025-06-17T09:46:57.648Z"
   },
   {
    "duration": 485,
    "start_time": "2025-06-17T09:49:35.873Z"
   },
   {
    "duration": 349,
    "start_time": "2025-06-17T09:50:59.318Z"
   },
   {
    "duration": 5,
    "start_time": "2025-06-17T09:52:26.964Z"
   },
   {
    "duration": 320,
    "start_time": "2025-06-17T09:52:28.364Z"
   },
   {
    "duration": 306,
    "start_time": "2025-06-17T09:52:51.616Z"
   },
   {
    "duration": 267,
    "start_time": "2025-06-17T09:52:56.348Z"
   },
   {
    "duration": 324,
    "start_time": "2025-06-17T09:53:00.579Z"
   },
   {
    "duration": 265,
    "start_time": "2025-06-17T09:55:36.852Z"
   },
   {
    "duration": 312,
    "start_time": "2025-06-17T09:57:15.698Z"
   },
   {
    "duration": 321,
    "start_time": "2025-06-17T09:57:19.978Z"
   },
   {
    "duration": 243,
    "start_time": "2025-06-17T09:57:28.345Z"
   },
   {
    "duration": 319,
    "start_time": "2025-06-17T09:57:36.200Z"
   },
   {
    "duration": 180,
    "start_time": "2025-06-17T09:57:40.746Z"
   },
   {
    "duration": 12,
    "start_time": "2025-06-17T10:00:00.131Z"
   },
   {
    "duration": 5,
    "start_time": "2025-06-17T10:02:06.695Z"
   },
   {
    "duration": 237,
    "start_time": "2025-06-17T10:02:07.234Z"
   },
   {
    "duration": 269,
    "start_time": "2025-06-17T10:02:46.011Z"
   },
   {
    "duration": 233,
    "start_time": "2025-06-17T10:02:51.538Z"
   },
   {
    "duration": 169,
    "start_time": "2025-06-17T10:03:27.077Z"
   },
   {
    "duration": 217,
    "start_time": "2025-06-17T10:03:35.462Z"
   },
   {
    "duration": 134,
    "start_time": "2025-06-17T10:04:21.941Z"
   },
   {
    "duration": 7,
    "start_time": "2025-06-17T10:05:40.709Z"
   },
   {
    "duration": 133,
    "start_time": "2025-06-17T10:07:04.682Z"
   },
   {
    "duration": 14,
    "start_time": "2025-06-17T10:10:09.412Z"
   },
   {
    "duration": 9,
    "start_time": "2025-06-17T10:12:38.149Z"
   },
   {
    "duration": 9,
    "start_time": "2025-06-17T10:13:27.709Z"
   },
   {
    "duration": 4,
    "start_time": "2025-06-17T10:16:12.004Z"
   },
   {
    "duration": 270,
    "start_time": "2025-06-17T10:17:08.468Z"
   },
   {
    "duration": 7,
    "start_time": "2025-06-17T10:20:14.727Z"
   },
   {
    "duration": 4,
    "start_time": "2025-06-17T10:20:29.975Z"
   },
   {
    "duration": 4,
    "start_time": "2025-06-17T10:21:02.523Z"
   },
   {
    "duration": 5,
    "start_time": "2025-06-17T10:21:38.118Z"
   },
   {
    "duration": 5,
    "start_time": "2025-06-17T10:21:59.704Z"
   },
   {
    "duration": 9,
    "start_time": "2025-06-17T10:38:08.803Z"
   },
   {
    "duration": 10,
    "start_time": "2025-06-17T10:40:44.890Z"
   },
   {
    "duration": 558,
    "start_time": "2025-06-17T10:41:13.017Z"
   },
   {
    "duration": 10,
    "start_time": "2025-06-17T10:42:35.017Z"
   },
   {
    "duration": 419,
    "start_time": "2025-06-17T10:44:46.260Z"
   },
   {
    "duration": 224,
    "start_time": "2025-06-17T10:45:00.413Z"
   },
   {
    "duration": 234,
    "start_time": "2025-06-17T10:45:30.266Z"
   },
   {
    "duration": 214,
    "start_time": "2025-06-17T10:48:16.537Z"
   },
   {
    "duration": 240,
    "start_time": "2025-06-17T10:48:20.706Z"
   },
   {
    "duration": 243,
    "start_time": "2025-06-17T10:48:24.070Z"
   },
   {
    "duration": 241,
    "start_time": "2025-06-17T10:55:26.543Z"
   },
   {
    "duration": 230,
    "start_time": "2025-06-17T10:55:36.843Z"
   },
   {
    "duration": 117,
    "start_time": "2025-06-17T11:05:56.586Z"
   },
   {
    "duration": 9,
    "start_time": "2025-06-17T11:06:08.028Z"
   },
   {
    "duration": 10,
    "start_time": "2025-06-17T11:06:18.878Z"
   },
   {
    "duration": 8,
    "start_time": "2025-06-17T11:06:27.328Z"
   },
   {
    "duration": 12,
    "start_time": "2025-06-17T11:10:52.650Z"
   },
   {
    "duration": 19,
    "start_time": "2025-06-17T11:10:57.334Z"
   },
   {
    "duration": 29,
    "start_time": "2025-06-17T11:13:00.698Z"
   },
   {
    "duration": 25,
    "start_time": "2025-06-17T11:18:46.180Z"
   },
   {
    "duration": 144,
    "start_time": "2025-06-17T11:18:54.611Z"
   },
   {
    "duration": 80,
    "start_time": "2025-06-17T11:19:37.610Z"
   },
   {
    "duration": 107,
    "start_time": "2025-06-17T11:20:20.286Z"
   },
   {
    "duration": 31,
    "start_time": "2025-06-17T11:21:15.628Z"
   },
   {
    "duration": 8,
    "start_time": "2025-06-17T11:23:13.347Z"
   },
   {
    "duration": 24,
    "start_time": "2025-06-17T11:23:19.044Z"
   },
   {
    "duration": 86,
    "start_time": "2025-06-17T11:24:59.214Z"
   },
   {
    "duration": 21,
    "start_time": "2025-06-17T11:25:23.987Z"
   },
   {
    "duration": 11,
    "start_time": "2025-06-17T11:27:28.367Z"
   },
   {
    "duration": 17,
    "start_time": "2025-06-17T11:28:12.967Z"
   },
   {
    "duration": 23,
    "start_time": "2025-06-17T11:28:54.990Z"
   },
   {
    "duration": 1564,
    "start_time": "2025-06-17T11:34:55.824Z"
   },
   {
    "duration": 350,
    "start_time": "2025-06-17T11:35:05.189Z"
   },
   {
    "duration": 484,
    "start_time": "2025-06-17T11:35:34.223Z"
   },
   {
    "duration": 377,
    "start_time": "2025-06-17T11:36:57.019Z"
   },
   {
    "duration": 445,
    "start_time": "2025-06-17T11:37:36.792Z"
   },
   {
    "duration": 395,
    "start_time": "2025-06-17T11:38:44.176Z"
   },
   {
    "duration": 372,
    "start_time": "2025-06-17T11:38:52.070Z"
   },
   {
    "duration": 972,
    "start_time": "2025-06-17T11:39:33.896Z"
   },
   {
    "duration": 84,
    "start_time": "2025-06-17T11:41:02.156Z"
   },
   {
    "duration": 1033,
    "start_time": "2025-06-17T11:43:01.327Z"
   },
   {
    "duration": 973,
    "start_time": "2025-06-17T11:43:16.304Z"
   },
   {
    "duration": 884,
    "start_time": "2025-06-17T11:43:23.157Z"
   },
   {
    "duration": 871,
    "start_time": "2025-06-17T11:46:21.780Z"
   },
   {
    "duration": 968,
    "start_time": "2025-06-17T11:46:29.788Z"
   },
   {
    "duration": 935,
    "start_time": "2025-06-17T11:47:25.019Z"
   },
   {
    "duration": 364,
    "start_time": "2025-06-17T11:48:32.660Z"
   },
   {
    "duration": 976,
    "start_time": "2025-06-17T11:48:39.795Z"
   },
   {
    "duration": 906,
    "start_time": "2025-06-17T11:49:00.583Z"
   },
   {
    "duration": 975,
    "start_time": "2025-06-17T11:50:05.826Z"
   },
   {
    "duration": 927,
    "start_time": "2025-06-17T11:55:23.230Z"
   },
   {
    "duration": 837,
    "start_time": "2025-06-17T11:57:02.217Z"
   },
   {
    "duration": 1179,
    "start_time": "2025-06-17T12:28:35.787Z"
   },
   {
    "duration": 63,
    "start_time": "2025-06-17T12:28:36.968Z"
   },
   {
    "duration": 13,
    "start_time": "2025-06-17T12:28:37.032Z"
   },
   {
    "duration": 17,
    "start_time": "2025-06-17T12:28:37.047Z"
   },
   {
    "duration": 43,
    "start_time": "2025-06-17T12:28:37.066Z"
   },
   {
    "duration": 102,
    "start_time": "2025-06-17T12:28:37.111Z"
   },
   {
    "duration": 8,
    "start_time": "2025-06-17T12:28:37.214Z"
   },
   {
    "duration": 42,
    "start_time": "2025-06-17T12:28:37.223Z"
   },
   {
    "duration": 117,
    "start_time": "2025-06-17T12:28:37.267Z"
   },
   {
    "duration": 20,
    "start_time": "2025-06-17T12:28:37.386Z"
   },
   {
    "duration": 22,
    "start_time": "2025-06-17T12:28:37.407Z"
   },
   {
    "duration": 34,
    "start_time": "2025-06-17T12:28:37.431Z"
   },
   {
    "duration": 19,
    "start_time": "2025-06-17T12:28:37.467Z"
   },
   {
    "duration": 16,
    "start_time": "2025-06-17T12:28:37.487Z"
   },
   {
    "duration": 31,
    "start_time": "2025-06-17T12:28:37.504Z"
   },
   {
    "duration": 29,
    "start_time": "2025-06-17T12:28:37.537Z"
   },
   {
    "duration": 49,
    "start_time": "2025-06-17T12:28:37.569Z"
   },
   {
    "duration": 8,
    "start_time": "2025-06-17T12:28:37.619Z"
   },
   {
    "duration": 35,
    "start_time": "2025-06-17T12:28:37.628Z"
   },
   {
    "duration": 35,
    "start_time": "2025-06-17T12:28:37.665Z"
   },
   {
    "duration": 11,
    "start_time": "2025-06-17T12:28:37.702Z"
   },
   {
    "duration": 5,
    "start_time": "2025-06-17T12:28:37.715Z"
   },
   {
    "duration": 34,
    "start_time": "2025-06-17T12:28:37.721Z"
   },
   {
    "duration": 43,
    "start_time": "2025-06-17T12:28:37.757Z"
   },
   {
    "duration": 16,
    "start_time": "2025-06-17T12:28:37.802Z"
   },
   {
    "duration": 29,
    "start_time": "2025-06-17T12:28:37.820Z"
   },
   {
    "duration": 182,
    "start_time": "2025-06-17T12:28:37.850Z"
   },
   {
    "duration": 5,
    "start_time": "2025-06-17T12:28:38.035Z"
   },
   {
    "duration": 150,
    "start_time": "2025-06-17T12:28:38.042Z"
   },
   {
    "duration": 9,
    "start_time": "2025-06-17T12:28:38.194Z"
   },
   {
    "duration": 14,
    "start_time": "2025-06-17T12:28:38.205Z"
   },
   {
    "duration": 282,
    "start_time": "2025-06-17T12:28:38.220Z"
   },
   {
    "duration": 5,
    "start_time": "2025-06-17T12:28:38.504Z"
   },
   {
    "duration": 243,
    "start_time": "2025-06-17T12:28:38.511Z"
   },
   {
    "duration": 244,
    "start_time": "2025-06-17T12:28:38.756Z"
   },
   {
    "duration": 10,
    "start_time": "2025-06-17T12:28:39.002Z"
   },
   {
    "duration": 37,
    "start_time": "2025-06-17T12:28:39.013Z"
   },
   {
    "duration": 16,
    "start_time": "2025-06-17T12:28:39.051Z"
   },
   {
    "duration": 41,
    "start_time": "2025-06-17T12:28:39.068Z"
   },
   {
    "duration": 102,
    "start_time": "2025-06-17T12:28:39.111Z"
   },
   {
    "duration": 32,
    "start_time": "2025-06-17T12:28:39.215Z"
   },
   {
    "duration": 24,
    "start_time": "2025-06-17T12:28:39.249Z"
   },
   {
    "duration": 972,
    "start_time": "2025-06-17T12:28:39.275Z"
   },
   {
    "duration": 1414,
    "start_time": "2025-06-18T03:52:33.290Z"
   },
   {
    "duration": 74,
    "start_time": "2025-06-18T03:52:34.706Z"
   },
   {
    "duration": 13,
    "start_time": "2025-06-18T03:52:34.782Z"
   },
   {
    "duration": 81,
    "start_time": "2025-06-18T03:52:34.798Z"
   },
   {
    "duration": 23,
    "start_time": "2025-06-18T03:52:34.882Z"
   },
   {
    "duration": 44,
    "start_time": "2025-06-18T03:52:34.907Z"
   },
   {
    "duration": 8,
    "start_time": "2025-06-18T03:52:34.953Z"
   },
   {
    "duration": 54,
    "start_time": "2025-06-18T03:52:34.963Z"
   },
   {
    "duration": 16,
    "start_time": "2025-06-18T03:52:35.019Z"
   },
   {
    "duration": 24,
    "start_time": "2025-06-18T03:52:35.037Z"
   },
   {
    "duration": 19,
    "start_time": "2025-06-18T03:52:35.062Z"
   },
   {
    "duration": 17,
    "start_time": "2025-06-18T03:52:35.083Z"
   },
   {
    "duration": 8,
    "start_time": "2025-06-18T03:52:35.101Z"
   },
   {
    "duration": 4,
    "start_time": "2025-06-18T03:52:35.112Z"
   },
   {
    "duration": 42,
    "start_time": "2025-06-18T03:52:35.118Z"
   },
   {
    "duration": 23,
    "start_time": "2025-06-18T03:52:35.162Z"
   },
   {
    "duration": 19,
    "start_time": "2025-06-18T03:52:35.187Z"
   },
   {
    "duration": 21,
    "start_time": "2025-06-18T03:52:35.208Z"
   },
   {
    "duration": 23,
    "start_time": "2025-06-18T03:52:35.231Z"
   },
   {
    "duration": 17,
    "start_time": "2025-06-18T03:52:35.256Z"
   },
   {
    "duration": 17,
    "start_time": "2025-06-18T03:52:35.275Z"
   },
   {
    "duration": 14,
    "start_time": "2025-06-18T03:52:35.293Z"
   },
   {
    "duration": 26,
    "start_time": "2025-06-18T03:52:35.308Z"
   },
   {
    "duration": 15,
    "start_time": "2025-06-18T03:52:35.336Z"
   },
   {
    "duration": 22,
    "start_time": "2025-06-18T03:52:35.353Z"
   },
   {
    "duration": 11,
    "start_time": "2025-06-18T03:52:35.377Z"
   },
   {
    "duration": 204,
    "start_time": "2025-06-18T03:52:35.390Z"
   },
   {
    "duration": 5,
    "start_time": "2025-06-18T03:52:35.596Z"
   },
   {
    "duration": 157,
    "start_time": "2025-06-18T03:52:35.603Z"
   },
   {
    "duration": 8,
    "start_time": "2025-06-18T03:52:35.762Z"
   },
   {
    "duration": 28,
    "start_time": "2025-06-18T03:52:35.772Z"
   },
   {
    "duration": 316,
    "start_time": "2025-06-18T03:52:35.802Z"
   },
   {
    "duration": 5,
    "start_time": "2025-06-18T03:52:36.120Z"
   },
   {
    "duration": 249,
    "start_time": "2025-06-18T03:52:36.126Z"
   },
   {
    "duration": 223,
    "start_time": "2025-06-18T03:52:36.377Z"
   },
   {
    "duration": 9,
    "start_time": "2025-06-18T03:52:36.602Z"
   },
   {
    "duration": 15,
    "start_time": "2025-06-18T03:52:36.613Z"
   },
   {
    "duration": 10,
    "start_time": "2025-06-18T03:52:36.650Z"
   },
   {
    "duration": 51,
    "start_time": "2025-06-18T03:52:36.662Z"
   },
   {
    "duration": 37,
    "start_time": "2025-06-18T03:52:36.715Z"
   },
   {
    "duration": 23,
    "start_time": "2025-06-18T03:52:36.756Z"
   },
   {
    "duration": 27,
    "start_time": "2025-06-18T03:52:36.781Z"
   },
   {
    "duration": 864,
    "start_time": "2025-06-18T03:52:36.810Z"
   },
   {
    "duration": 14,
    "start_time": "2025-06-18T05:04:32.369Z"
   },
   {
    "duration": 12,
    "start_time": "2025-06-18T05:09:09.268Z"
   },
   {
    "duration": 13,
    "start_time": "2025-06-18T05:17:11.879Z"
   },
   {
    "duration": 13,
    "start_time": "2025-06-18T05:19:05.650Z"
   },
   {
    "duration": 18,
    "start_time": "2025-06-18T05:20:15.438Z"
   },
   {
    "duration": 14,
    "start_time": "2025-06-18T05:24:52.186Z"
   },
   {
    "duration": 15,
    "start_time": "2025-06-18T05:25:17.304Z"
   },
   {
    "duration": 118,
    "start_time": "2025-06-18T05:28:26.842Z"
   },
   {
    "duration": 33,
    "start_time": "2025-06-18T05:28:56.882Z"
   },
   {
    "duration": 47,
    "start_time": "2025-06-18T05:30:03.321Z"
   },
   {
    "duration": 33,
    "start_time": "2025-06-18T05:31:42.147Z"
   },
   {
    "duration": 100,
    "start_time": "2025-06-18T05:49:57.799Z"
   },
   {
    "duration": 13,
    "start_time": "2025-06-18T05:50:13.396Z"
   },
   {
    "duration": 228,
    "start_time": "2025-06-18T05:51:52.312Z"
   },
   {
    "duration": 4,
    "start_time": "2025-06-18T05:54:06.289Z"
   },
   {
    "duration": 225,
    "start_time": "2025-06-18T05:54:06.768Z"
   },
   {
    "duration": 202,
    "start_time": "2025-06-18T05:55:33.323Z"
   },
   {
    "duration": 35,
    "start_time": "2025-06-18T05:55:36.694Z"
   },
   {
    "duration": 15,
    "start_time": "2025-06-18T05:58:12.633Z"
   },
   {
    "duration": 4,
    "start_time": "2025-06-18T05:58:21.841Z"
   },
   {
    "duration": 202,
    "start_time": "2025-06-18T05:58:22.285Z"
   },
   {
    "duration": 37,
    "start_time": "2025-06-18T05:58:22.782Z"
   },
   {
    "duration": 3,
    "start_time": "2025-06-18T05:58:57.806Z"
   },
   {
    "duration": 192,
    "start_time": "2025-06-18T05:58:58.121Z"
   },
   {
    "duration": 35,
    "start_time": "2025-06-18T05:58:58.441Z"
   },
   {
    "duration": 299,
    "start_time": "2025-06-18T05:59:12.566Z"
   },
   {
    "duration": 234,
    "start_time": "2025-06-18T05:59:43.342Z"
   },
   {
    "duration": 32,
    "start_time": "2025-06-18T05:59:51.445Z"
   },
   {
    "duration": 1274,
    "start_time": "2025-06-18T05:59:57.013Z"
   },
   {
    "duration": 69,
    "start_time": "2025-06-18T05:59:58.289Z"
   },
   {
    "duration": 11,
    "start_time": "2025-06-18T05:59:58.360Z"
   },
   {
    "duration": 34,
    "start_time": "2025-06-18T05:59:58.373Z"
   },
   {
    "duration": 21,
    "start_time": "2025-06-18T05:59:58.410Z"
   },
   {
    "duration": 38,
    "start_time": "2025-06-18T05:59:58.433Z"
   },
   {
    "duration": 6,
    "start_time": "2025-06-18T05:59:58.473Z"
   },
   {
    "duration": 16,
    "start_time": "2025-06-18T05:59:58.481Z"
   },
   {
    "duration": 6,
    "start_time": "2025-06-18T05:59:58.499Z"
   },
   {
    "duration": 38,
    "start_time": "2025-06-18T05:59:58.507Z"
   },
   {
    "duration": 14,
    "start_time": "2025-06-18T05:59:58.548Z"
   },
   {
    "duration": 30,
    "start_time": "2025-06-18T05:59:58.564Z"
   },
   {
    "duration": 11,
    "start_time": "2025-06-18T05:59:58.595Z"
   },
   {
    "duration": 43,
    "start_time": "2025-06-18T05:59:58.609Z"
   },
   {
    "duration": 47,
    "start_time": "2025-06-18T05:59:58.654Z"
   },
   {
    "duration": 39,
    "start_time": "2025-06-18T05:59:58.703Z"
   },
   {
    "duration": 45,
    "start_time": "2025-06-18T05:59:58.744Z"
   },
   {
    "duration": 37,
    "start_time": "2025-06-18T05:59:58.790Z"
   },
   {
    "duration": 53,
    "start_time": "2025-06-18T05:59:58.829Z"
   },
   {
    "duration": 8,
    "start_time": "2025-06-18T05:59:58.884Z"
   },
   {
    "duration": 10,
    "start_time": "2025-06-18T05:59:58.894Z"
   },
   {
    "duration": 5,
    "start_time": "2025-06-18T05:59:58.906Z"
   },
   {
    "duration": 43,
    "start_time": "2025-06-18T05:59:58.913Z"
   },
   {
    "duration": 9,
    "start_time": "2025-06-18T05:59:58.957Z"
   },
   {
    "duration": 21,
    "start_time": "2025-06-18T05:59:58.968Z"
   },
   {
    "duration": 5,
    "start_time": "2025-06-18T05:59:58.991Z"
   },
   {
    "duration": 190,
    "start_time": "2025-06-18T05:59:58.997Z"
   },
   {
    "duration": 5,
    "start_time": "2025-06-18T05:59:59.189Z"
   },
   {
    "duration": 147,
    "start_time": "2025-06-18T05:59:59.195Z"
   },
   {
    "duration": 9,
    "start_time": "2025-06-18T05:59:59.343Z"
   },
   {
    "duration": 17,
    "start_time": "2025-06-18T05:59:59.353Z"
   },
   {
    "duration": 336,
    "start_time": "2025-06-18T05:59:59.372Z"
   },
   {
    "duration": 5,
    "start_time": "2025-06-18T05:59:59.710Z"
   },
   {
    "duration": 240,
    "start_time": "2025-06-18T05:59:59.717Z"
   },
   {
    "duration": 231,
    "start_time": "2025-06-18T05:59:59.958Z"
   },
   {
    "duration": 9,
    "start_time": "2025-06-18T06:00:00.190Z"
   },
   {
    "duration": 463,
    "start_time": "2025-06-18T06:00:00.201Z"
   },
   {
    "duration": 204,
    "start_time": "2025-06-18T06:00:00.666Z"
   },
   {
    "duration": 152,
    "start_time": "2025-06-18T06:00:00.872Z"
   },
   {
    "duration": 135,
    "start_time": "2025-06-18T06:00:01.026Z"
   },
   {
    "duration": 93,
    "start_time": "2025-06-18T06:00:01.165Z"
   },
   {
    "duration": 332,
    "start_time": "2025-06-18T06:00:01.260Z"
   },
   {
    "duration": 859,
    "start_time": "2025-06-18T06:00:01.593Z"
   },
   {
    "duration": 130,
    "start_time": "2025-06-18T06:00:02.454Z"
   },
   {
    "duration": 4,
    "start_time": "2025-06-18T06:00:02.585Z"
   },
   {
    "duration": 316,
    "start_time": "2025-06-18T06:00:02.591Z"
   },
   {
    "duration": 238,
    "start_time": "2025-06-18T06:00:02.908Z"
   },
   {
    "duration": 243,
    "start_time": "2025-06-18T06:00:03.148Z"
   },
   {
    "duration": 134,
    "start_time": "2025-06-18T06:00:03.392Z"
   },
   {
    "duration": 1220,
    "start_time": "2025-06-18T06:00:29.252Z"
   },
   {
    "duration": 58,
    "start_time": "2025-06-18T06:00:30.474Z"
   },
   {
    "duration": 12,
    "start_time": "2025-06-18T06:00:30.534Z"
   },
   {
    "duration": 30,
    "start_time": "2025-06-18T06:00:30.547Z"
   },
   {
    "duration": 31,
    "start_time": "2025-06-18T06:00:30.579Z"
   },
   {
    "duration": 59,
    "start_time": "2025-06-18T06:00:30.612Z"
   },
   {
    "duration": 20,
    "start_time": "2025-06-18T06:00:30.673Z"
   },
   {
    "duration": 40,
    "start_time": "2025-06-18T06:00:30.695Z"
   },
   {
    "duration": 5,
    "start_time": "2025-06-18T06:00:30.737Z"
   },
   {
    "duration": 26,
    "start_time": "2025-06-18T06:00:30.743Z"
   },
   {
    "duration": 12,
    "start_time": "2025-06-18T06:00:30.771Z"
   },
   {
    "duration": 56,
    "start_time": "2025-06-18T06:00:30.785Z"
   },
   {
    "duration": 17,
    "start_time": "2025-06-18T06:00:30.843Z"
   },
   {
    "duration": 14,
    "start_time": "2025-06-18T06:00:30.864Z"
   },
   {
    "duration": 30,
    "start_time": "2025-06-18T06:00:30.880Z"
   },
   {
    "duration": 24,
    "start_time": "2025-06-18T06:00:30.912Z"
   },
   {
    "duration": 35,
    "start_time": "2025-06-18T06:00:30.938Z"
   },
   {
    "duration": 28,
    "start_time": "2025-06-18T06:00:30.975Z"
   },
   {
    "duration": 36,
    "start_time": "2025-06-18T06:00:31.005Z"
   },
   {
    "duration": 50,
    "start_time": "2025-06-18T06:00:31.042Z"
   },
   {
    "duration": 21,
    "start_time": "2025-06-18T06:00:31.093Z"
   },
   {
    "duration": 23,
    "start_time": "2025-06-18T06:00:31.116Z"
   },
   {
    "duration": 91,
    "start_time": "2025-06-18T06:00:31.141Z"
   },
   {
    "duration": 82,
    "start_time": "2025-06-18T06:00:31.234Z"
   },
   {
    "duration": 57,
    "start_time": "2025-06-18T06:00:31.318Z"
   },
   {
    "duration": 97,
    "start_time": "2025-06-18T06:00:31.377Z"
   },
   {
    "duration": 208,
    "start_time": "2025-06-18T06:00:31.475Z"
   },
   {
    "duration": 4,
    "start_time": "2025-06-18T06:00:31.685Z"
   },
   {
    "duration": 180,
    "start_time": "2025-06-18T06:00:31.690Z"
   },
   {
    "duration": 9,
    "start_time": "2025-06-18T06:00:31.872Z"
   },
   {
    "duration": 26,
    "start_time": "2025-06-18T06:00:31.883Z"
   },
   {
    "duration": 281,
    "start_time": "2025-06-18T06:00:31.910Z"
   },
   {
    "duration": 5,
    "start_time": "2025-06-18T06:00:32.193Z"
   },
   {
    "duration": 332,
    "start_time": "2025-06-18T06:00:32.199Z"
   },
   {
    "duration": 237,
    "start_time": "2025-06-18T06:00:32.532Z"
   },
   {
    "duration": 9,
    "start_time": "2025-06-18T06:00:32.771Z"
   },
   {
    "duration": 23,
    "start_time": "2025-06-18T06:00:32.782Z"
   },
   {
    "duration": 28,
    "start_time": "2025-06-18T06:00:32.807Z"
   },
   {
    "duration": 47,
    "start_time": "2025-06-18T06:00:32.837Z"
   },
   {
    "duration": 29,
    "start_time": "2025-06-18T06:00:32.886Z"
   },
   {
    "duration": 24,
    "start_time": "2025-06-18T06:00:32.919Z"
   },
   {
    "duration": 51,
    "start_time": "2025-06-18T06:00:32.945Z"
   },
   {
    "duration": 856,
    "start_time": "2025-06-18T06:00:32.998Z"
   },
   {
    "duration": 127,
    "start_time": "2025-06-18T06:00:33.856Z"
   },
   {
    "duration": 5,
    "start_time": "2025-06-18T06:00:33.985Z"
   },
   {
    "duration": 217,
    "start_time": "2025-06-18T06:00:33.991Z"
   },
   {
    "duration": 41,
    "start_time": "2025-06-18T06:00:34.209Z"
   },
   {
    "duration": 122,
    "start_time": "2025-06-18T06:00:34.251Z"
   },
   {
    "duration": 1290,
    "start_time": "2025-06-18T06:07:05.272Z"
   },
   {
    "duration": 60,
    "start_time": "2025-06-18T06:07:06.564Z"
   },
   {
    "duration": 25,
    "start_time": "2025-06-18T06:07:06.626Z"
   },
   {
    "duration": 19,
    "start_time": "2025-06-18T06:07:06.653Z"
   },
   {
    "duration": 13,
    "start_time": "2025-06-18T06:07:06.674Z"
   },
   {
    "duration": 29,
    "start_time": "2025-06-18T06:07:06.689Z"
   },
   {
    "duration": 20,
    "start_time": "2025-06-18T06:07:06.720Z"
   },
   {
    "duration": 10,
    "start_time": "2025-06-18T06:07:06.742Z"
   },
   {
    "duration": 19,
    "start_time": "2025-06-18T06:07:06.754Z"
   },
   {
    "duration": 46,
    "start_time": "2025-06-18T06:07:06.776Z"
   },
   {
    "duration": 16,
    "start_time": "2025-06-18T06:07:06.824Z"
   },
   {
    "duration": 23,
    "start_time": "2025-06-18T06:07:06.841Z"
   },
   {
    "duration": 34,
    "start_time": "2025-06-18T06:07:06.866Z"
   },
   {
    "duration": 8,
    "start_time": "2025-06-18T06:07:06.901Z"
   },
   {
    "duration": 26,
    "start_time": "2025-06-18T06:07:06.911Z"
   },
   {
    "duration": 11,
    "start_time": "2025-06-18T06:07:06.939Z"
   },
   {
    "duration": 66,
    "start_time": "2025-06-18T06:07:06.952Z"
   },
   {
    "duration": 25,
    "start_time": "2025-06-18T06:07:07.019Z"
   },
   {
    "duration": 52,
    "start_time": "2025-06-18T06:07:07.045Z"
   },
   {
    "duration": 30,
    "start_time": "2025-06-18T06:07:07.099Z"
   },
   {
    "duration": 15,
    "start_time": "2025-06-18T06:07:07.130Z"
   },
   {
    "duration": 21,
    "start_time": "2025-06-18T06:07:07.147Z"
   },
   {
    "duration": 41,
    "start_time": "2025-06-18T06:07:07.170Z"
   },
   {
    "duration": 24,
    "start_time": "2025-06-18T06:07:07.213Z"
   },
   {
    "duration": 39,
    "start_time": "2025-06-18T06:07:07.238Z"
   },
   {
    "duration": 28,
    "start_time": "2025-06-18T06:07:07.279Z"
   },
   {
    "duration": 188,
    "start_time": "2025-06-18T06:07:07.309Z"
   },
   {
    "duration": 5,
    "start_time": "2025-06-18T06:07:07.500Z"
   },
   {
    "duration": 170,
    "start_time": "2025-06-18T06:07:07.507Z"
   },
   {
    "duration": 9,
    "start_time": "2025-06-18T06:07:07.679Z"
   },
   {
    "duration": 25,
    "start_time": "2025-06-18T06:07:07.689Z"
   },
   {
    "duration": 269,
    "start_time": "2025-06-18T06:07:07.716Z"
   },
   {
    "duration": 5,
    "start_time": "2025-06-18T06:07:07.987Z"
   },
   {
    "duration": 233,
    "start_time": "2025-06-18T06:07:07.994Z"
   },
   {
    "duration": 226,
    "start_time": "2025-06-18T06:07:08.228Z"
   },
   {
    "duration": 9,
    "start_time": "2025-06-18T06:07:08.456Z"
   },
   {
    "duration": 25,
    "start_time": "2025-06-18T06:07:08.466Z"
   },
   {
    "duration": 39,
    "start_time": "2025-06-18T06:07:08.493Z"
   },
   {
    "duration": 59,
    "start_time": "2025-06-18T06:07:08.534Z"
   },
   {
    "duration": 29,
    "start_time": "2025-06-18T06:07:08.595Z"
   },
   {
    "duration": 34,
    "start_time": "2025-06-18T06:07:08.626Z"
   },
   {
    "duration": 22,
    "start_time": "2025-06-18T06:07:08.662Z"
   },
   {
    "duration": 852,
    "start_time": "2025-06-18T06:07:08.686Z"
   },
   {
    "duration": 126,
    "start_time": "2025-06-18T06:07:09.540Z"
   },
   {
    "duration": 5,
    "start_time": "2025-06-18T06:07:09.667Z"
   },
   {
    "duration": 215,
    "start_time": "2025-06-18T06:07:09.673Z"
   },
   {
    "duration": 9,
    "start_time": "2025-06-18T06:07:09.889Z"
   },
   {
    "duration": 8,
    "start_time": "2025-06-18T06:07:09.900Z"
   },
   {
    "duration": 42,
    "start_time": "2025-06-18T06:07:09.910Z"
   },
   {
    "duration": 14,
    "start_time": "2025-06-18T06:07:09.954Z"
   },
   {
    "duration": 1237,
    "start_time": "2025-06-18T06:12:49.952Z"
   },
   {
    "duration": 69,
    "start_time": "2025-06-18T06:12:51.191Z"
   },
   {
    "duration": 13,
    "start_time": "2025-06-18T06:12:51.262Z"
   },
   {
    "duration": 28,
    "start_time": "2025-06-18T06:12:51.276Z"
   },
   {
    "duration": 125,
    "start_time": "2025-06-18T06:12:51.306Z"
   },
   {
    "duration": 14,
    "start_time": "2025-06-18T06:12:51.432Z"
   },
   {
    "duration": 109,
    "start_time": "2025-06-18T06:12:51.447Z"
   },
   {
    "duration": 15,
    "start_time": "2025-06-18T06:12:51.557Z"
   },
   {
    "duration": 7,
    "start_time": "2025-06-18T06:12:51.573Z"
   },
   {
    "duration": 9,
    "start_time": "2025-06-18T06:12:51.582Z"
   },
   {
    "duration": 11,
    "start_time": "2025-06-18T06:12:51.593Z"
   },
   {
    "duration": 11,
    "start_time": "2025-06-18T06:12:51.606Z"
   },
   {
    "duration": 23,
    "start_time": "2025-06-18T06:12:51.619Z"
   },
   {
    "duration": 4,
    "start_time": "2025-06-18T06:12:51.645Z"
   },
   {
    "duration": 17,
    "start_time": "2025-06-18T06:12:51.651Z"
   },
   {
    "duration": 9,
    "start_time": "2025-06-18T06:12:51.670Z"
   },
   {
    "duration": 12,
    "start_time": "2025-06-18T06:12:51.681Z"
   },
   {
    "duration": 17,
    "start_time": "2025-06-18T06:12:51.694Z"
   },
   {
    "duration": 31,
    "start_time": "2025-06-18T06:12:51.713Z"
   },
   {
    "duration": 35,
    "start_time": "2025-06-18T06:12:51.745Z"
   },
   {
    "duration": 16,
    "start_time": "2025-06-18T06:12:51.781Z"
   },
   {
    "duration": 9,
    "start_time": "2025-06-18T06:12:51.799Z"
   },
   {
    "duration": 25,
    "start_time": "2025-06-18T06:12:51.810Z"
   },
   {
    "duration": 43,
    "start_time": "2025-06-18T06:12:51.837Z"
   },
   {
    "duration": 29,
    "start_time": "2025-06-18T06:12:51.882Z"
   },
   {
    "duration": 6,
    "start_time": "2025-06-18T06:12:51.913Z"
   },
   {
    "duration": 179,
    "start_time": "2025-06-18T06:12:51.921Z"
   },
   {
    "duration": 4,
    "start_time": "2025-06-18T06:12:52.102Z"
   },
   {
    "duration": 155,
    "start_time": "2025-06-18T06:12:52.108Z"
   },
   {
    "duration": 9,
    "start_time": "2025-06-18T06:12:52.265Z"
   },
   {
    "duration": 101,
    "start_time": "2025-06-18T06:12:52.275Z"
   },
   {
    "duration": 274,
    "start_time": "2025-06-18T06:12:52.378Z"
   },
   {
    "duration": 5,
    "start_time": "2025-06-18T06:12:52.653Z"
   },
   {
    "duration": 279,
    "start_time": "2025-06-18T06:12:52.660Z"
   },
   {
    "duration": 234,
    "start_time": "2025-06-18T06:12:52.941Z"
   },
   {
    "duration": 9,
    "start_time": "2025-06-18T06:12:53.177Z"
   },
   {
    "duration": 35,
    "start_time": "2025-06-18T06:12:53.187Z"
   },
   {
    "duration": 49,
    "start_time": "2025-06-18T06:12:53.224Z"
   },
   {
    "duration": 149,
    "start_time": "2025-06-18T06:12:53.275Z"
   },
   {
    "duration": 212,
    "start_time": "2025-06-18T06:12:53.425Z"
   },
   {
    "duration": 57,
    "start_time": "2025-06-18T06:12:53.642Z"
   },
   {
    "duration": 36,
    "start_time": "2025-06-18T06:12:53.701Z"
   },
   {
    "duration": 803,
    "start_time": "2025-06-18T06:12:53.738Z"
   },
   {
    "duration": 132,
    "start_time": "2025-06-18T06:12:54.543Z"
   },
   {
    "duration": 3,
    "start_time": "2025-06-18T06:12:54.677Z"
   },
   {
    "duration": 235,
    "start_time": "2025-06-18T06:12:54.682Z"
   },
   {
    "duration": 8,
    "start_time": "2025-06-18T06:12:54.919Z"
   },
   {
    "duration": 36,
    "start_time": "2025-06-18T06:12:54.940Z"
   },
   {
    "duration": 62,
    "start_time": "2025-06-18T06:12:54.978Z"
   },
   {
    "duration": 65,
    "start_time": "2025-06-18T06:12:55.041Z"
   },
   {
    "duration": 85,
    "start_time": "2025-06-18T06:12:55.108Z"
   },
   {
    "duration": 1263,
    "start_time": "2025-06-18T07:16:35.420Z"
   },
   {
    "duration": 65,
    "start_time": "2025-06-18T07:16:36.684Z"
   },
   {
    "duration": 16,
    "start_time": "2025-06-18T07:16:36.751Z"
   },
   {
    "duration": 43,
    "start_time": "2025-06-18T07:16:36.769Z"
   },
   {
    "duration": 33,
    "start_time": "2025-06-18T07:16:36.814Z"
   },
   {
    "duration": 59,
    "start_time": "2025-06-18T07:16:36.848Z"
   },
   {
    "duration": 52,
    "start_time": "2025-06-18T07:16:36.908Z"
   },
   {
    "duration": 57,
    "start_time": "2025-06-18T07:16:36.962Z"
   },
   {
    "duration": 50,
    "start_time": "2025-06-18T07:16:37.020Z"
   },
   {
    "duration": 58,
    "start_time": "2025-06-18T07:16:37.073Z"
   },
   {
    "duration": 73,
    "start_time": "2025-06-18T07:16:37.133Z"
   },
   {
    "duration": 60,
    "start_time": "2025-06-18T07:16:37.208Z"
   },
   {
    "duration": 34,
    "start_time": "2025-06-18T07:16:37.269Z"
   },
   {
    "duration": 77,
    "start_time": "2025-06-18T07:16:37.305Z"
   },
   {
    "duration": 47,
    "start_time": "2025-06-18T07:16:37.384Z"
   },
   {
    "duration": 18,
    "start_time": "2025-06-18T07:16:37.432Z"
   },
   {
    "duration": 35,
    "start_time": "2025-06-18T07:16:37.451Z"
   },
   {
    "duration": 34,
    "start_time": "2025-06-18T07:16:37.488Z"
   },
   {
    "duration": 41,
    "start_time": "2025-06-18T07:16:37.524Z"
   },
   {
    "duration": 45,
    "start_time": "2025-06-18T07:16:37.567Z"
   },
   {
    "duration": 49,
    "start_time": "2025-06-18T07:16:37.614Z"
   },
   {
    "duration": 28,
    "start_time": "2025-06-18T07:16:37.665Z"
   },
   {
    "duration": 113,
    "start_time": "2025-06-18T07:16:37.695Z"
   },
   {
    "duration": 31,
    "start_time": "2025-06-18T07:16:37.810Z"
   },
   {
    "duration": 39,
    "start_time": "2025-06-18T07:16:37.843Z"
   },
   {
    "duration": 38,
    "start_time": "2025-06-18T07:16:37.884Z"
   },
   {
    "duration": 200,
    "start_time": "2025-06-18T07:16:37.924Z"
   },
   {
    "duration": 4,
    "start_time": "2025-06-18T07:16:38.129Z"
   },
   {
    "duration": 165,
    "start_time": "2025-06-18T07:16:38.140Z"
   },
   {
    "duration": 10,
    "start_time": "2025-06-18T07:16:38.308Z"
   },
   {
    "duration": 33,
    "start_time": "2025-06-18T07:16:38.320Z"
   },
   {
    "duration": 272,
    "start_time": "2025-06-18T07:16:38.355Z"
   },
   {
    "duration": 5,
    "start_time": "2025-06-18T07:16:38.629Z"
   },
   {
    "duration": 252,
    "start_time": "2025-06-18T07:16:38.636Z"
   },
   {
    "duration": 226,
    "start_time": "2025-06-18T07:16:38.891Z"
   },
   {
    "duration": 10,
    "start_time": "2025-06-18T07:16:39.118Z"
   },
   {
    "duration": 55,
    "start_time": "2025-06-18T07:16:39.130Z"
   },
   {
    "duration": 32,
    "start_time": "2025-06-18T07:16:39.187Z"
   },
   {
    "duration": 49,
    "start_time": "2025-06-18T07:16:39.221Z"
   },
   {
    "duration": 37,
    "start_time": "2025-06-18T07:16:39.272Z"
   },
   {
    "duration": 26,
    "start_time": "2025-06-18T07:16:39.311Z"
   },
   {
    "duration": 22,
    "start_time": "2025-06-18T07:16:39.339Z"
   },
   {
    "duration": 885,
    "start_time": "2025-06-18T07:16:39.363Z"
   },
   {
    "duration": 136,
    "start_time": "2025-06-18T07:16:40.250Z"
   },
   {
    "duration": 4,
    "start_time": "2025-06-18T07:16:40.388Z"
   },
   {
    "duration": 221,
    "start_time": "2025-06-18T07:16:40.393Z"
   },
   {
    "duration": 8,
    "start_time": "2025-06-18T07:16:40.616Z"
   },
   {
    "duration": 31,
    "start_time": "2025-06-18T07:16:40.626Z"
   },
   {
    "duration": 47,
    "start_time": "2025-06-18T07:16:40.658Z"
   },
   {
    "duration": 31,
    "start_time": "2025-06-18T07:16:40.707Z"
   },
   {
    "duration": 12,
    "start_time": "2025-06-18T09:42:14.508Z"
   },
   {
    "duration": 105,
    "start_time": "2025-06-18T09:42:33.546Z"
   },
   {
    "duration": 1196,
    "start_time": "2025-06-18T09:42:49.570Z"
   },
   {
    "duration": 57,
    "start_time": "2025-06-18T09:42:50.768Z"
   },
   {
    "duration": 12,
    "start_time": "2025-06-18T09:42:50.827Z"
   },
   {
    "duration": 8,
    "start_time": "2025-06-18T09:42:50.841Z"
   },
   {
    "duration": 12,
    "start_time": "2025-06-18T09:42:50.851Z"
   },
   {
    "duration": 20,
    "start_time": "2025-06-18T09:42:50.864Z"
   },
   {
    "duration": 11,
    "start_time": "2025-06-18T09:42:50.886Z"
   },
   {
    "duration": 19,
    "start_time": "2025-06-18T09:42:50.900Z"
   },
   {
    "duration": 18,
    "start_time": "2025-06-18T09:42:50.921Z"
   },
   {
    "duration": 21,
    "start_time": "2025-06-18T09:42:50.942Z"
   },
   {
    "duration": 14,
    "start_time": "2025-06-18T09:42:50.965Z"
   },
   {
    "duration": 14,
    "start_time": "2025-06-18T09:42:50.981Z"
   },
   {
    "duration": 17,
    "start_time": "2025-06-18T09:42:50.998Z"
   },
   {
    "duration": 21,
    "start_time": "2025-06-18T09:42:51.019Z"
   },
   {
    "duration": 19,
    "start_time": "2025-06-18T09:42:51.041Z"
   },
   {
    "duration": 18,
    "start_time": "2025-06-18T09:42:51.062Z"
   },
   {
    "duration": 10,
    "start_time": "2025-06-18T09:42:51.082Z"
   },
   {
    "duration": 10,
    "start_time": "2025-06-18T09:42:51.093Z"
   },
   {
    "duration": 12,
    "start_time": "2025-06-18T09:42:51.105Z"
   },
   {
    "duration": 26,
    "start_time": "2025-06-18T09:42:51.119Z"
   },
   {
    "duration": 10,
    "start_time": "2025-06-18T09:42:51.147Z"
   },
   {
    "duration": 4,
    "start_time": "2025-06-18T09:42:51.159Z"
   },
   {
    "duration": 10,
    "start_time": "2025-06-18T09:42:51.165Z"
   },
   {
    "duration": 3,
    "start_time": "2025-06-18T09:42:51.177Z"
   },
   {
    "duration": 13,
    "start_time": "2025-06-18T09:42:51.182Z"
   },
   {
    "duration": 7,
    "start_time": "2025-06-18T09:42:51.196Z"
   },
   {
    "duration": 180,
    "start_time": "2025-06-18T09:42:51.242Z"
   },
   {
    "duration": 5,
    "start_time": "2025-06-18T09:42:51.423Z"
   },
   {
    "duration": 135,
    "start_time": "2025-06-18T09:42:51.438Z"
   },
   {
    "duration": 9,
    "start_time": "2025-06-18T09:42:51.575Z"
   },
   {
    "duration": 35,
    "start_time": "2025-06-18T09:42:51.585Z"
   },
   {
    "duration": 298,
    "start_time": "2025-06-18T09:42:51.622Z"
   },
   {
    "duration": 6,
    "start_time": "2025-06-18T09:42:51.921Z"
   },
   {
    "duration": 237,
    "start_time": "2025-06-18T09:42:51.928Z"
   },
   {
    "duration": 239,
    "start_time": "2025-06-18T09:42:52.167Z"
   },
   {
    "duration": 9,
    "start_time": "2025-06-18T09:42:52.408Z"
   },
   {
    "duration": 51,
    "start_time": "2025-06-18T09:42:52.419Z"
   },
   {
    "duration": 128,
    "start_time": "2025-06-18T09:42:52.472Z"
   },
   {
    "duration": 165,
    "start_time": "2025-06-18T09:42:52.602Z"
   },
   {
    "duration": 72,
    "start_time": "2025-06-18T09:42:52.769Z"
   },
   {
    "duration": 23,
    "start_time": "2025-06-18T09:42:52.845Z"
   },
   {
    "duration": 21,
    "start_time": "2025-06-18T09:42:52.870Z"
   },
   {
    "duration": 881,
    "start_time": "2025-06-18T09:42:52.893Z"
   },
   {
    "duration": 128,
    "start_time": "2025-06-18T09:42:53.775Z"
   },
   {
    "duration": 4,
    "start_time": "2025-06-18T09:42:53.904Z"
   },
   {
    "duration": 203,
    "start_time": "2025-06-18T09:42:53.909Z"
   },
   {
    "duration": 9,
    "start_time": "2025-06-18T09:42:54.114Z"
   },
   {
    "duration": 33,
    "start_time": "2025-06-18T09:42:54.124Z"
   },
   {
    "duration": 10,
    "start_time": "2025-06-18T09:42:54.158Z"
   },
   {
    "duration": 17,
    "start_time": "2025-06-18T09:42:54.169Z"
   },
   {
    "duration": 10,
    "start_time": "2025-06-18T09:42:54.188Z"
   },
   {
    "duration": 115,
    "start_time": "2025-06-18T09:42:54.200Z"
   },
   {
    "duration": 10,
    "start_time": "2025-06-18T09:44:01.146Z"
   },
   {
    "duration": 13,
    "start_time": "2025-06-18T09:44:07.922Z"
   },
   {
    "duration": 6,
    "start_time": "2025-06-18T09:44:11.882Z"
   },
   {
    "duration": 370,
    "start_time": "2025-06-18T09:44:35.025Z"
   },
   {
    "duration": 367,
    "start_time": "2025-06-18T09:44:52.124Z"
   },
   {
    "duration": 6,
    "start_time": "2025-06-18T09:45:16.021Z"
   },
   {
    "duration": 4,
    "start_time": "2025-06-18T09:45:21.220Z"
   },
   {
    "duration": 6,
    "start_time": "2025-06-18T09:45:26.006Z"
   },
   {
    "duration": 378,
    "start_time": "2025-06-18T09:45:27.115Z"
   },
   {
    "duration": 6,
    "start_time": "2025-06-18T09:45:30.481Z"
   },
   {
    "duration": 7,
    "start_time": "2025-06-18T09:45:39.279Z"
   },
   {
    "duration": 12,
    "start_time": "2025-06-18T09:45:45.993Z"
   },
   {
    "duration": 6,
    "start_time": "2025-06-18T09:45:51.225Z"
   },
   {
    "duration": 7,
    "start_time": "2025-06-18T09:46:00.952Z"
   },
   {
    "duration": 394,
    "start_time": "2025-06-18T09:48:22.587Z"
   },
   {
    "duration": 10,
    "start_time": "2025-06-18T09:56:38.786Z"
   },
   {
    "duration": 16,
    "start_time": "2025-06-18T09:59:28.661Z"
   },
   {
    "duration": 9,
    "start_time": "2025-06-18T09:59:33.615Z"
   },
   {
    "duration": 3,
    "start_time": "2025-06-18T10:05:57.080Z"
   },
   {
    "duration": 11,
    "start_time": "2025-06-18T10:06:09.025Z"
   },
   {
    "duration": 1472,
    "start_time": "2025-06-18T10:06:12.648Z"
   },
   {
    "duration": 0,
    "start_time": "2025-06-18T10:06:14.122Z"
   },
   {
    "duration": 14,
    "start_time": "2025-06-18T10:10:36.212Z"
   },
   {
    "duration": 9,
    "start_time": "2025-06-18T10:10:38.531Z"
   },
   {
    "duration": 5,
    "start_time": "2025-06-18T10:10:39.570Z"
   },
   {
    "duration": 5,
    "start_time": "2025-06-18T10:10:47.076Z"
   },
   {
    "duration": 1231,
    "start_time": "2025-06-18T10:11:48.743Z"
   },
   {
    "duration": 57,
    "start_time": "2025-06-18T10:11:49.976Z"
   },
   {
    "duration": 12,
    "start_time": "2025-06-18T10:11:50.035Z"
   },
   {
    "duration": 17,
    "start_time": "2025-06-18T10:11:50.049Z"
   },
   {
    "duration": 24,
    "start_time": "2025-06-18T10:11:50.068Z"
   },
   {
    "duration": 36,
    "start_time": "2025-06-18T10:11:50.094Z"
   },
   {
    "duration": 25,
    "start_time": "2025-06-18T10:11:50.132Z"
   },
   {
    "duration": 23,
    "start_time": "2025-06-18T10:11:50.158Z"
   },
   {
    "duration": 10,
    "start_time": "2025-06-18T10:11:50.183Z"
   },
   {
    "duration": 9,
    "start_time": "2025-06-18T10:11:50.195Z"
   },
   {
    "duration": 23,
    "start_time": "2025-06-18T10:11:50.206Z"
   },
   {
    "duration": 13,
    "start_time": "2025-06-18T10:11:50.231Z"
   },
   {
    "duration": 10,
    "start_time": "2025-06-18T10:11:50.246Z"
   },
   {
    "duration": 5,
    "start_time": "2025-06-18T10:11:50.259Z"
   },
   {
    "duration": 24,
    "start_time": "2025-06-18T10:11:50.265Z"
   },
   {
    "duration": 11,
    "start_time": "2025-06-18T10:11:50.290Z"
   },
   {
    "duration": 24,
    "start_time": "2025-06-18T10:11:50.303Z"
   },
   {
    "duration": 8,
    "start_time": "2025-06-18T10:11:50.340Z"
   },
   {
    "duration": 29,
    "start_time": "2025-06-18T10:11:50.350Z"
   },
   {
    "duration": 10,
    "start_time": "2025-06-18T10:11:50.381Z"
   },
   {
    "duration": 15,
    "start_time": "2025-06-18T10:11:50.392Z"
   },
   {
    "duration": 11,
    "start_time": "2025-06-18T10:11:50.409Z"
   },
   {
    "duration": 19,
    "start_time": "2025-06-18T10:11:50.422Z"
   },
   {
    "duration": 9,
    "start_time": "2025-06-18T10:11:50.443Z"
   },
   {
    "duration": 19,
    "start_time": "2025-06-18T10:11:50.454Z"
   },
   {
    "duration": 36,
    "start_time": "2025-06-18T10:11:50.475Z"
   },
   {
    "duration": 184,
    "start_time": "2025-06-18T10:11:50.512Z"
   },
   {
    "duration": 4,
    "start_time": "2025-06-18T10:11:50.698Z"
   },
   {
    "duration": 165,
    "start_time": "2025-06-18T10:11:50.704Z"
   },
   {
    "duration": 8,
    "start_time": "2025-06-18T10:11:50.871Z"
   },
   {
    "duration": 17,
    "start_time": "2025-06-18T10:11:50.881Z"
   },
   {
    "duration": 314,
    "start_time": "2025-06-18T10:11:50.900Z"
   },
   {
    "duration": 5,
    "start_time": "2025-06-18T10:11:51.216Z"
   },
   {
    "duration": 239,
    "start_time": "2025-06-18T10:11:51.223Z"
   },
   {
    "duration": 234,
    "start_time": "2025-06-18T10:11:51.463Z"
   },
   {
    "duration": 10,
    "start_time": "2025-06-18T10:11:51.698Z"
   },
   {
    "duration": 12,
    "start_time": "2025-06-18T10:11:51.710Z"
   },
   {
    "duration": 7,
    "start_time": "2025-06-18T10:11:51.740Z"
   },
   {
    "duration": 32,
    "start_time": "2025-06-18T10:11:51.748Z"
   },
   {
    "duration": 29,
    "start_time": "2025-06-18T10:11:51.781Z"
   },
   {
    "duration": 44,
    "start_time": "2025-06-18T10:11:51.814Z"
   },
   {
    "duration": 20,
    "start_time": "2025-06-18T10:11:51.860Z"
   },
   {
    "duration": 865,
    "start_time": "2025-06-18T10:11:51.882Z"
   },
   {
    "duration": 133,
    "start_time": "2025-06-18T10:11:52.749Z"
   },
   {
    "duration": 4,
    "start_time": "2025-06-18T10:11:52.883Z"
   },
   {
    "duration": 217,
    "start_time": "2025-06-18T10:11:52.889Z"
   },
   {
    "duration": 9,
    "start_time": "2025-06-18T10:11:53.107Z"
   },
   {
    "duration": 16,
    "start_time": "2025-06-18T10:11:53.118Z"
   },
   {
    "duration": 15,
    "start_time": "2025-06-18T10:11:53.138Z"
   },
   {
    "duration": 22,
    "start_time": "2025-06-18T10:11:53.155Z"
   },
   {
    "duration": 11,
    "start_time": "2025-06-18T10:11:53.178Z"
   },
   {
    "duration": 22,
    "start_time": "2025-06-18T10:11:53.191Z"
   },
   {
    "duration": 492,
    "start_time": "2025-06-18T10:11:53.214Z"
   },
   {
    "duration": 10,
    "start_time": "2025-06-18T10:11:53.707Z"
   },
   {
    "duration": 30,
    "start_time": "2025-06-18T10:11:53.719Z"
   },
   {
    "duration": 8,
    "start_time": "2025-06-18T10:11:53.751Z"
   },
   {
    "duration": 7,
    "start_time": "2025-06-18T10:11:53.761Z"
   },
   {
    "duration": 3,
    "start_time": "2025-06-18T10:23:24.117Z"
   },
   {
    "duration": 99,
    "start_time": "2025-06-18T10:23:34.195Z"
   },
   {
    "duration": 1167,
    "start_time": "2025-06-18T10:32:49.424Z"
   },
   {
    "duration": 1180,
    "start_time": "2025-06-18T10:34:14.025Z"
   },
   {
    "duration": 3,
    "start_time": "2025-06-18T10:35:10.266Z"
   },
   {
    "duration": 1273,
    "start_time": "2025-06-18T10:47:06.654Z"
   },
   {
    "duration": 59,
    "start_time": "2025-06-18T10:47:07.929Z"
   },
   {
    "duration": 15,
    "start_time": "2025-06-18T10:47:07.990Z"
   },
   {
    "duration": 28,
    "start_time": "2025-06-18T10:47:08.007Z"
   },
   {
    "duration": 8,
    "start_time": "2025-06-18T10:47:08.038Z"
   },
   {
    "duration": 18,
    "start_time": "2025-06-18T10:47:08.048Z"
   },
   {
    "duration": 11,
    "start_time": "2025-06-18T10:47:08.068Z"
   },
   {
    "duration": 31,
    "start_time": "2025-06-18T10:47:08.081Z"
   },
   {
    "duration": 30,
    "start_time": "2025-06-18T10:47:08.114Z"
   },
   {
    "duration": 21,
    "start_time": "2025-06-18T10:47:08.147Z"
   },
   {
    "duration": 37,
    "start_time": "2025-06-18T10:47:08.171Z"
   },
   {
    "duration": 40,
    "start_time": "2025-06-18T10:47:08.210Z"
   },
   {
    "duration": 11,
    "start_time": "2025-06-18T10:47:08.252Z"
   },
   {
    "duration": 5,
    "start_time": "2025-06-18T10:47:08.267Z"
   },
   {
    "duration": 67,
    "start_time": "2025-06-18T10:47:08.274Z"
   },
   {
    "duration": 11,
    "start_time": "2025-06-18T10:47:08.344Z"
   },
   {
    "duration": 17,
    "start_time": "2025-06-18T10:47:08.357Z"
   },
   {
    "duration": 44,
    "start_time": "2025-06-18T10:47:08.377Z"
   },
   {
    "duration": 25,
    "start_time": "2025-06-18T10:47:08.424Z"
   },
   {
    "duration": 51,
    "start_time": "2025-06-18T10:47:08.452Z"
   },
   {
    "duration": 27,
    "start_time": "2025-06-18T10:47:08.506Z"
   },
   {
    "duration": 9,
    "start_time": "2025-06-18T10:47:08.535Z"
   },
   {
    "duration": 43,
    "start_time": "2025-06-18T10:47:08.546Z"
   },
   {
    "duration": 117,
    "start_time": "2025-06-18T10:47:08.591Z"
   },
   {
    "duration": 37,
    "start_time": "2025-06-18T10:47:08.709Z"
   },
   {
    "duration": 155,
    "start_time": "2025-06-18T10:47:08.749Z"
   },
   {
    "duration": 246,
    "start_time": "2025-06-18T10:47:08.906Z"
   },
   {
    "duration": 5,
    "start_time": "2025-06-18T10:47:09.154Z"
   },
   {
    "duration": 182,
    "start_time": "2025-06-18T10:47:09.162Z"
   },
   {
    "duration": 11,
    "start_time": "2025-06-18T10:47:09.347Z"
   },
   {
    "duration": 53,
    "start_time": "2025-06-18T10:47:09.360Z"
   },
   {
    "duration": 341,
    "start_time": "2025-06-18T10:47:09.416Z"
   },
   {
    "duration": 6,
    "start_time": "2025-06-18T10:47:09.759Z"
   },
   {
    "duration": 355,
    "start_time": "2025-06-18T10:47:09.767Z"
   },
   {
    "duration": 296,
    "start_time": "2025-06-18T10:47:10.124Z"
   },
   {
    "duration": 17,
    "start_time": "2025-06-18T10:47:10.422Z"
   },
   {
    "duration": 13,
    "start_time": "2025-06-18T10:47:10.441Z"
   },
   {
    "duration": 36,
    "start_time": "2025-06-18T10:47:10.456Z"
   },
   {
    "duration": 64,
    "start_time": "2025-06-18T10:47:10.495Z"
   },
   {
    "duration": 31,
    "start_time": "2025-06-18T10:47:10.561Z"
   },
   {
    "duration": 25,
    "start_time": "2025-06-18T10:47:10.599Z"
   },
   {
    "duration": 35,
    "start_time": "2025-06-18T10:47:10.640Z"
   },
   {
    "duration": 977,
    "start_time": "2025-06-18T10:47:10.678Z"
   },
   {
    "duration": 137,
    "start_time": "2025-06-18T10:47:11.657Z"
   },
   {
    "duration": 5,
    "start_time": "2025-06-18T10:47:11.795Z"
   },
   {
    "duration": 220,
    "start_time": "2025-06-18T10:47:11.801Z"
   },
   {
    "duration": 16,
    "start_time": "2025-06-18T10:47:12.023Z"
   },
   {
    "duration": 8,
    "start_time": "2025-06-18T10:47:12.041Z"
   },
   {
    "duration": 22,
    "start_time": "2025-06-18T10:47:12.050Z"
   },
   {
    "duration": 17,
    "start_time": "2025-06-18T10:47:12.073Z"
   },
   {
    "duration": 12,
    "start_time": "2025-06-18T10:47:12.091Z"
   },
   {
    "duration": 34,
    "start_time": "2025-06-18T10:47:12.105Z"
   },
   {
    "duration": 438,
    "start_time": "2025-06-18T10:47:12.141Z"
   },
   {
    "duration": 9,
    "start_time": "2025-06-18T10:47:12.581Z"
   },
   {
    "duration": 38,
    "start_time": "2025-06-18T10:47:12.591Z"
   },
   {
    "duration": 22,
    "start_time": "2025-06-18T10:47:12.631Z"
   },
   {
    "duration": 9,
    "start_time": "2025-06-18T10:47:12.654Z"
   },
   {
    "duration": 1379,
    "start_time": "2025-06-18T11:01:59.022Z"
   },
   {
    "duration": 68,
    "start_time": "2025-06-18T11:02:00.403Z"
   },
   {
    "duration": 13,
    "start_time": "2025-06-18T11:02:00.472Z"
   },
   {
    "duration": 160,
    "start_time": "2025-06-18T11:02:00.486Z"
   },
   {
    "duration": 100,
    "start_time": "2025-06-18T11:02:00.648Z"
   },
   {
    "duration": 38,
    "start_time": "2025-06-18T11:02:00.749Z"
   },
   {
    "duration": 13,
    "start_time": "2025-06-18T11:02:00.789Z"
   },
   {
    "duration": 10,
    "start_time": "2025-06-18T11:02:00.803Z"
   },
   {
    "duration": 25,
    "start_time": "2025-06-18T11:02:00.814Z"
   },
   {
    "duration": 24,
    "start_time": "2025-06-18T11:02:00.841Z"
   },
   {
    "duration": 135,
    "start_time": "2025-06-18T11:02:00.867Z"
   },
   {
    "duration": 16,
    "start_time": "2025-06-18T11:02:01.004Z"
   },
   {
    "duration": 14,
    "start_time": "2025-06-18T11:02:01.021Z"
   },
   {
    "duration": 20,
    "start_time": "2025-06-18T11:02:01.036Z"
   },
   {
    "duration": 32,
    "start_time": "2025-06-18T11:02:01.058Z"
   },
   {
    "duration": 47,
    "start_time": "2025-06-18T11:02:01.092Z"
   },
   {
    "duration": 19,
    "start_time": "2025-06-18T11:02:01.141Z"
   },
   {
    "duration": 36,
    "start_time": "2025-06-18T11:02:01.162Z"
   },
   {
    "duration": 34,
    "start_time": "2025-06-18T11:02:01.200Z"
   },
   {
    "duration": 19,
    "start_time": "2025-06-18T11:02:01.236Z"
   },
   {
    "duration": 10,
    "start_time": "2025-06-18T11:02:01.256Z"
   },
   {
    "duration": 16,
    "start_time": "2025-06-18T11:02:01.268Z"
   },
   {
    "duration": 36,
    "start_time": "2025-06-18T11:02:01.286Z"
   },
   {
    "duration": 6,
    "start_time": "2025-06-18T11:02:01.324Z"
   },
   {
    "duration": 46,
    "start_time": "2025-06-18T11:02:01.331Z"
   },
   {
    "duration": 40,
    "start_time": "2025-06-18T11:02:01.379Z"
   },
   {
    "duration": 211,
    "start_time": "2025-06-18T11:02:01.421Z"
   },
   {
    "duration": 7,
    "start_time": "2025-06-18T11:02:01.636Z"
   },
   {
    "duration": 391,
    "start_time": "2025-06-18T11:02:01.645Z"
   },
   {
    "duration": 9,
    "start_time": "2025-06-18T11:02:02.038Z"
   },
   {
    "duration": 77,
    "start_time": "2025-06-18T11:02:02.049Z"
   },
   {
    "duration": 277,
    "start_time": "2025-06-18T11:02:02.128Z"
   },
   {
    "duration": 5,
    "start_time": "2025-06-18T11:02:02.406Z"
   },
   {
    "duration": 297,
    "start_time": "2025-06-18T11:02:02.412Z"
   },
   {
    "duration": 231,
    "start_time": "2025-06-18T11:02:02.710Z"
   },
   {
    "duration": 9,
    "start_time": "2025-06-18T11:02:02.942Z"
   },
   {
    "duration": 75,
    "start_time": "2025-06-18T11:02:02.953Z"
   },
   {
    "duration": 33,
    "start_time": "2025-06-18T11:02:03.030Z"
   },
   {
    "duration": 43,
    "start_time": "2025-06-18T11:02:03.065Z"
   },
   {
    "duration": 28,
    "start_time": "2025-06-18T11:02:03.110Z"
   },
   {
    "duration": 23,
    "start_time": "2025-06-18T11:02:03.140Z"
   },
   {
    "duration": 21,
    "start_time": "2025-06-18T11:02:03.165Z"
   },
   {
    "duration": 861,
    "start_time": "2025-06-18T11:02:03.188Z"
   },
   {
    "duration": 125,
    "start_time": "2025-06-18T11:02:04.051Z"
   },
   {
    "duration": 4,
    "start_time": "2025-06-18T11:02:04.178Z"
   },
   {
    "duration": 252,
    "start_time": "2025-06-18T11:02:04.184Z"
   },
   {
    "duration": 9,
    "start_time": "2025-06-18T11:02:04.438Z"
   },
   {
    "duration": 26,
    "start_time": "2025-06-18T11:02:04.448Z"
   },
   {
    "duration": 43,
    "start_time": "2025-06-18T11:02:04.476Z"
   },
   {
    "duration": 32,
    "start_time": "2025-06-18T11:02:04.521Z"
   },
   {
    "duration": 53,
    "start_time": "2025-06-18T11:02:04.555Z"
   },
   {
    "duration": 29,
    "start_time": "2025-06-18T11:02:04.610Z"
   },
   {
    "duration": 445,
    "start_time": "2025-06-18T11:02:04.642Z"
   },
   {
    "duration": 11,
    "start_time": "2025-06-18T11:02:05.089Z"
   },
   {
    "duration": 29,
    "start_time": "2025-06-18T11:02:05.101Z"
   },
   {
    "duration": 58,
    "start_time": "2025-06-18T11:02:05.132Z"
   },
   {
    "duration": 23,
    "start_time": "2025-06-18T11:02:05.192Z"
   },
   {
    "duration": 1391,
    "start_time": "2025-06-19T04:16:57.980Z"
   },
   {
    "duration": 69,
    "start_time": "2025-06-19T04:16:59.373Z"
   },
   {
    "duration": 13,
    "start_time": "2025-06-19T04:16:59.444Z"
   },
   {
    "duration": 15,
    "start_time": "2025-06-19T04:16:59.459Z"
   },
   {
    "duration": 73,
    "start_time": "2025-06-19T04:16:59.477Z"
   },
   {
    "duration": 157,
    "start_time": "2025-06-19T04:16:59.552Z"
   },
   {
    "duration": 37,
    "start_time": "2025-06-19T04:16:59.711Z"
   },
   {
    "duration": 31,
    "start_time": "2025-06-19T04:16:59.750Z"
   },
   {
    "duration": 13,
    "start_time": "2025-06-19T04:16:59.783Z"
   },
   {
    "duration": 32,
    "start_time": "2025-06-19T04:16:59.797Z"
   },
   {
    "duration": 25,
    "start_time": "2025-06-19T04:16:59.831Z"
   },
   {
    "duration": 118,
    "start_time": "2025-06-19T04:16:59.858Z"
   },
   {
    "duration": 24,
    "start_time": "2025-06-19T04:16:59.978Z"
   },
   {
    "duration": 44,
    "start_time": "2025-06-19T04:17:00.005Z"
   },
   {
    "duration": 117,
    "start_time": "2025-06-19T04:17:00.051Z"
   },
   {
    "duration": 94,
    "start_time": "2025-06-19T04:17:00.169Z"
   },
   {
    "duration": 320,
    "start_time": "2025-06-19T04:17:00.265Z"
   },
   {
    "duration": 42,
    "start_time": "2025-06-19T04:17:00.586Z"
   },
   {
    "duration": 22,
    "start_time": "2025-06-19T04:17:00.630Z"
   },
   {
    "duration": 27,
    "start_time": "2025-06-19T04:17:00.654Z"
   },
   {
    "duration": 13,
    "start_time": "2025-06-19T04:17:00.683Z"
   },
   {
    "duration": 17,
    "start_time": "2025-06-19T04:17:00.698Z"
   },
   {
    "duration": 33,
    "start_time": "2025-06-19T04:17:00.717Z"
   },
   {
    "duration": 34,
    "start_time": "2025-06-19T04:17:00.752Z"
   },
   {
    "duration": 60,
    "start_time": "2025-06-19T04:17:00.788Z"
   },
   {
    "duration": 38,
    "start_time": "2025-06-19T04:17:00.850Z"
   },
   {
    "duration": 230,
    "start_time": "2025-06-19T04:17:00.889Z"
   },
   {
    "duration": 6,
    "start_time": "2025-06-19T04:17:01.121Z"
   },
   {
    "duration": 166,
    "start_time": "2025-06-19T04:17:01.139Z"
   },
   {
    "duration": 9,
    "start_time": "2025-06-19T04:17:01.307Z"
   },
   {
    "duration": 59,
    "start_time": "2025-06-19T04:17:01.318Z"
   },
   {
    "duration": 341,
    "start_time": "2025-06-19T04:17:01.379Z"
   },
   {
    "duration": 5,
    "start_time": "2025-06-19T04:17:01.722Z"
   },
   {
    "duration": 328,
    "start_time": "2025-06-19T04:17:01.739Z"
   },
   {
    "duration": 257,
    "start_time": "2025-06-19T04:17:02.069Z"
   },
   {
    "duration": 19,
    "start_time": "2025-06-19T04:17:02.328Z"
   },
   {
    "duration": 50,
    "start_time": "2025-06-19T04:17:02.349Z"
   },
   {
    "duration": 64,
    "start_time": "2025-06-19T04:17:02.401Z"
   },
   {
    "duration": 182,
    "start_time": "2025-06-19T04:17:02.467Z"
   },
   {
    "duration": 54,
    "start_time": "2025-06-19T04:17:02.651Z"
   },
   {
    "duration": 30,
    "start_time": "2025-06-19T04:17:02.710Z"
   },
   {
    "duration": 55,
    "start_time": "2025-06-19T04:17:02.742Z"
   },
   {
    "duration": 951,
    "start_time": "2025-06-19T04:17:02.799Z"
   },
   {
    "duration": 168,
    "start_time": "2025-06-19T04:17:03.752Z"
   },
   {
    "duration": 4,
    "start_time": "2025-06-19T04:17:03.922Z"
   },
   {
    "duration": 388,
    "start_time": "2025-06-19T04:17:03.941Z"
   },
   {
    "duration": 18,
    "start_time": "2025-06-19T04:17:04.331Z"
   },
   {
    "duration": 44,
    "start_time": "2025-06-19T04:17:04.352Z"
   },
   {
    "duration": 23,
    "start_time": "2025-06-19T04:17:04.398Z"
   },
   {
    "duration": 141,
    "start_time": "2025-06-19T04:17:04.423Z"
   },
   {
    "duration": 73,
    "start_time": "2025-06-19T04:17:04.566Z"
   },
   {
    "duration": 7,
    "start_time": "2025-06-19T04:17:04.641Z"
   },
   {
    "duration": 569,
    "start_time": "2025-06-19T04:17:04.650Z"
   },
   {
    "duration": 20,
    "start_time": "2025-06-19T04:17:05.222Z"
   },
   {
    "duration": 34,
    "start_time": "2025-06-19T04:17:05.245Z"
   },
   {
    "duration": 14,
    "start_time": "2025-06-19T04:17:05.281Z"
   },
   {
    "duration": 6,
    "start_time": "2025-06-19T04:17:05.297Z"
   },
   {
    "duration": 163,
    "start_time": "2025-06-19T04:32:49.817Z"
   },
   {
    "duration": 166,
    "start_time": "2025-06-19T04:33:50.143Z"
   },
   {
    "duration": 161,
    "start_time": "2025-06-19T04:34:05.024Z"
   },
   {
    "duration": 162,
    "start_time": "2025-06-19T04:34:28.251Z"
   },
   {
    "duration": 95,
    "start_time": "2025-06-19T04:36:40.941Z"
   },
   {
    "duration": 96,
    "start_time": "2025-06-19T04:38:19.180Z"
   },
   {
    "duration": 86,
    "start_time": "2025-06-19T04:39:24.119Z"
   },
   {
    "duration": 121,
    "start_time": "2025-06-19T04:39:50.865Z"
   },
   {
    "duration": 99,
    "start_time": "2025-06-19T04:39:56.068Z"
   },
   {
    "duration": 162,
    "start_time": "2025-06-19T04:40:06.147Z"
   },
   {
    "duration": 92,
    "start_time": "2025-06-19T04:40:12.799Z"
   },
   {
    "duration": 72,
    "start_time": "2025-06-19T04:40:19.783Z"
   },
   {
    "duration": 80,
    "start_time": "2025-06-19T04:40:23.314Z"
   },
   {
    "duration": 81,
    "start_time": "2025-06-19T04:40:52.730Z"
   },
   {
    "duration": 91,
    "start_time": "2025-06-19T04:41:07.576Z"
   },
   {
    "duration": 88,
    "start_time": "2025-06-19T04:41:12.730Z"
   },
   {
    "duration": 321,
    "start_time": "2025-06-19T04:44:20.052Z"
   },
   {
    "duration": 1240,
    "start_time": "2025-06-19T04:44:50.627Z"
   },
   {
    "duration": 67,
    "start_time": "2025-06-19T04:44:51.869Z"
   },
   {
    "duration": 13,
    "start_time": "2025-06-19T04:44:51.938Z"
   },
   {
    "duration": 16,
    "start_time": "2025-06-19T04:44:51.953Z"
   },
   {
    "duration": 26,
    "start_time": "2025-06-19T04:44:51.972Z"
   },
   {
    "duration": 29,
    "start_time": "2025-06-19T04:44:51.999Z"
   },
   {
    "duration": 15,
    "start_time": "2025-06-19T04:44:52.029Z"
   },
   {
    "duration": 11,
    "start_time": "2025-06-19T04:44:52.045Z"
   },
   {
    "duration": 65,
    "start_time": "2025-06-19T04:44:52.058Z"
   },
   {
    "duration": 18,
    "start_time": "2025-06-19T04:44:52.125Z"
   },
   {
    "duration": 52,
    "start_time": "2025-06-19T04:44:52.144Z"
   },
   {
    "duration": 21,
    "start_time": "2025-06-19T04:44:52.197Z"
   },
   {
    "duration": 25,
    "start_time": "2025-06-19T04:44:52.220Z"
   },
   {
    "duration": 5,
    "start_time": "2025-06-19T04:44:52.249Z"
   },
   {
    "duration": 12,
    "start_time": "2025-06-19T04:44:52.256Z"
   },
   {
    "duration": 28,
    "start_time": "2025-06-19T04:44:52.269Z"
   },
   {
    "duration": 15,
    "start_time": "2025-06-19T04:44:52.299Z"
   },
   {
    "duration": 16,
    "start_time": "2025-06-19T04:44:52.316Z"
   },
   {
    "duration": 54,
    "start_time": "2025-06-19T04:44:52.334Z"
   },
   {
    "duration": 13,
    "start_time": "2025-06-19T04:44:52.390Z"
   },
   {
    "duration": 26,
    "start_time": "2025-06-19T04:44:52.405Z"
   },
   {
    "duration": 22,
    "start_time": "2025-06-19T04:44:52.433Z"
   },
   {
    "duration": 23,
    "start_time": "2025-06-19T04:44:52.457Z"
   },
   {
    "duration": 15,
    "start_time": "2025-06-19T04:44:52.482Z"
   },
   {
    "duration": 14,
    "start_time": "2025-06-19T04:44:52.498Z"
   },
   {
    "duration": 35,
    "start_time": "2025-06-19T04:44:52.513Z"
   },
   {
    "duration": 211,
    "start_time": "2025-06-19T04:44:52.550Z"
   },
   {
    "duration": 4,
    "start_time": "2025-06-19T04:44:52.764Z"
   },
   {
    "duration": 146,
    "start_time": "2025-06-19T04:44:52.770Z"
   },
   {
    "duration": 10,
    "start_time": "2025-06-19T04:44:52.918Z"
   },
   {
    "duration": 116,
    "start_time": "2025-06-19T04:44:52.938Z"
   },
   {
    "duration": 4,
    "start_time": "2025-06-19T04:44:53.055Z"
   },
   {
    "duration": 269,
    "start_time": "2025-06-19T04:44:53.061Z"
   },
   {
    "duration": 10,
    "start_time": "2025-06-19T04:44:53.331Z"
   },
   {
    "duration": 311,
    "start_time": "2025-06-19T04:44:53.343Z"
   },
   {
    "duration": 233,
    "start_time": "2025-06-19T04:44:53.656Z"
   },
   {
    "duration": 231,
    "start_time": "2025-06-19T04:44:53.890Z"
   },
   {
    "duration": 9,
    "start_time": "2025-06-19T04:44:54.122Z"
   },
   {
    "duration": 42,
    "start_time": "2025-06-19T04:44:54.140Z"
   },
   {
    "duration": 29,
    "start_time": "2025-06-19T04:44:54.184Z"
   },
   {
    "duration": 49,
    "start_time": "2025-06-19T04:44:54.217Z"
   },
   {
    "duration": 29,
    "start_time": "2025-06-19T04:44:54.267Z"
   },
   {
    "duration": 23,
    "start_time": "2025-06-19T04:44:54.298Z"
   },
   {
    "duration": 129,
    "start_time": "2025-06-19T04:44:54.323Z"
   },
   {
    "duration": 779,
    "start_time": "2025-06-19T04:44:54.454Z"
   },
   {
    "duration": 33,
    "start_time": "2025-06-19T04:44:55.235Z"
   },
   {
    "duration": 17,
    "start_time": "2025-06-19T04:44:55.270Z"
   },
   {
    "duration": 204,
    "start_time": "2025-06-19T04:44:55.289Z"
   },
   {
    "duration": 10,
    "start_time": "2025-06-19T04:44:55.494Z"
   },
   {
    "duration": 15,
    "start_time": "2025-06-19T04:44:55.506Z"
   },
   {
    "duration": 18,
    "start_time": "2025-06-19T04:44:55.522Z"
   },
   {
    "duration": 17,
    "start_time": "2025-06-19T04:44:55.542Z"
   },
   {
    "duration": 54,
    "start_time": "2025-06-19T04:44:55.561Z"
   },
   {
    "duration": 29,
    "start_time": "2025-06-19T04:44:55.617Z"
   },
   {
    "duration": 439,
    "start_time": "2025-06-19T04:44:55.648Z"
   },
   {
    "duration": 9,
    "start_time": "2025-06-19T04:44:56.088Z"
   },
   {
    "duration": 14,
    "start_time": "2025-06-19T04:44:56.099Z"
   },
   {
    "duration": 25,
    "start_time": "2025-06-19T04:44:56.114Z"
   },
   {
    "duration": 5,
    "start_time": "2025-06-19T04:44:56.141Z"
   },
   {
    "duration": 322,
    "start_time": "2025-06-19T04:47:30.012Z"
   },
   {
    "duration": 4,
    "start_time": "2025-06-19T04:48:16.587Z"
   },
   {
    "duration": 283,
    "start_time": "2025-06-19T04:48:16.967Z"
   },
   {
    "duration": 5,
    "start_time": "2025-06-19T04:48:19.849Z"
   },
   {
    "duration": 336,
    "start_time": "2025-06-19T04:48:21.237Z"
   },
   {
    "duration": 278,
    "start_time": "2025-06-19T04:49:11.487Z"
   },
   {
    "duration": 315,
    "start_time": "2025-06-19T04:53:00.991Z"
   },
   {
    "duration": 5,
    "start_time": "2025-06-19T04:54:03.133Z"
   },
   {
    "duration": 7,
    "start_time": "2025-06-19T04:54:09.157Z"
   },
   {
    "duration": 85,
    "start_time": "2025-06-19T04:54:12.577Z"
   },
   {
    "duration": 5,
    "start_time": "2025-06-19T04:54:16.192Z"
   },
   {
    "duration": 404,
    "start_time": "2025-06-19T04:54:34.499Z"
   },
   {
    "duration": 300,
    "start_time": "2025-06-19T04:54:38.186Z"
   },
   {
    "duration": 298,
    "start_time": "2025-06-19T04:54:52.060Z"
   },
   {
    "duration": 333,
    "start_time": "2025-06-19T04:55:28.350Z"
   },
   {
    "duration": 335,
    "start_time": "2025-06-19T04:55:33.448Z"
   },
   {
    "duration": 4,
    "start_time": "2025-06-19T05:01:11.515Z"
   },
   {
    "duration": 13,
    "start_time": "2025-06-19T05:01:50.325Z"
   },
   {
    "duration": 14,
    "start_time": "2025-06-19T05:03:18.572Z"
   },
   {
    "duration": 26,
    "start_time": "2025-06-19T05:03:41.973Z"
   },
   {
    "duration": 4,
    "start_time": "2025-06-19T05:03:42.887Z"
   },
   {
    "duration": 3,
    "start_time": "2025-06-19T05:03:55.008Z"
   },
   {
    "duration": 10,
    "start_time": "2025-06-19T05:04:46.176Z"
   },
   {
    "duration": 10,
    "start_time": "2025-06-19T05:05:08.644Z"
   },
   {
    "duration": 25,
    "start_time": "2025-06-19T05:11:19.593Z"
   },
   {
    "duration": 1352,
    "start_time": "2025-06-19T05:11:27.525Z"
   },
   {
    "duration": 68,
    "start_time": "2025-06-19T05:11:28.880Z"
   },
   {
    "duration": 14,
    "start_time": "2025-06-19T05:11:28.950Z"
   },
   {
    "duration": 10,
    "start_time": "2025-06-19T05:11:28.966Z"
   },
   {
    "duration": 9,
    "start_time": "2025-06-19T05:11:28.979Z"
   },
   {
    "duration": 39,
    "start_time": "2025-06-19T05:11:28.989Z"
   },
   {
    "duration": 10,
    "start_time": "2025-06-19T05:11:29.030Z"
   },
   {
    "duration": 19,
    "start_time": "2025-06-19T05:11:29.042Z"
   },
   {
    "duration": 19,
    "start_time": "2025-06-19T05:11:29.064Z"
   },
   {
    "duration": 20,
    "start_time": "2025-06-19T05:11:29.085Z"
   },
   {
    "duration": 10,
    "start_time": "2025-06-19T05:11:29.107Z"
   },
   {
    "duration": 15,
    "start_time": "2025-06-19T05:11:29.119Z"
   },
   {
    "duration": 10,
    "start_time": "2025-06-19T05:11:29.136Z"
   },
   {
    "duration": 4,
    "start_time": "2025-06-19T05:11:29.150Z"
   },
   {
    "duration": 34,
    "start_time": "2025-06-19T05:11:29.156Z"
   },
   {
    "duration": 16,
    "start_time": "2025-06-19T05:11:29.192Z"
   },
   {
    "duration": 12,
    "start_time": "2025-06-19T05:11:29.209Z"
   },
   {
    "duration": 10,
    "start_time": "2025-06-19T05:11:29.222Z"
   },
   {
    "duration": 29,
    "start_time": "2025-06-19T05:11:29.233Z"
   },
   {
    "duration": 35,
    "start_time": "2025-06-19T05:11:29.264Z"
   },
   {
    "duration": 20,
    "start_time": "2025-06-19T05:11:29.301Z"
   },
   {
    "duration": 5,
    "start_time": "2025-06-19T05:11:29.323Z"
   },
   {
    "duration": 22,
    "start_time": "2025-06-19T05:11:29.330Z"
   },
   {
    "duration": 27,
    "start_time": "2025-06-19T05:11:29.353Z"
   },
   {
    "duration": 32,
    "start_time": "2025-06-19T05:11:29.381Z"
   },
   {
    "duration": 17,
    "start_time": "2025-06-19T05:11:29.415Z"
   },
   {
    "duration": 188,
    "start_time": "2025-06-19T05:11:29.434Z"
   },
   {
    "duration": 4,
    "start_time": "2025-06-19T05:11:29.624Z"
   },
   {
    "duration": 157,
    "start_time": "2025-06-19T05:11:29.630Z"
   },
   {
    "duration": 12,
    "start_time": "2025-06-19T05:11:29.788Z"
   },
   {
    "duration": 127,
    "start_time": "2025-06-19T05:11:29.802Z"
   },
   {
    "duration": 6,
    "start_time": "2025-06-19T05:11:29.930Z"
   },
   {
    "duration": 315,
    "start_time": "2025-06-19T05:11:29.938Z"
   },
   {
    "duration": 236,
    "start_time": "2025-06-19T05:11:30.256Z"
   },
   {
    "duration": 231,
    "start_time": "2025-06-19T05:11:30.495Z"
   },
   {
    "duration": 14,
    "start_time": "2025-06-19T05:11:30.728Z"
   },
   {
    "duration": 62,
    "start_time": "2025-06-19T05:11:30.743Z"
   },
   {
    "duration": 50,
    "start_time": "2025-06-19T05:11:30.807Z"
   },
   {
    "duration": 48,
    "start_time": "2025-06-19T05:11:30.859Z"
   },
   {
    "duration": 103,
    "start_time": "2025-06-19T05:11:30.909Z"
   },
   {
    "duration": 65,
    "start_time": "2025-06-19T05:11:31.016Z"
   },
   {
    "duration": 163,
    "start_time": "2025-06-19T05:11:31.083Z"
   },
   {
    "duration": 3,
    "start_time": "2025-06-19T05:11:31.248Z"
   },
   {
    "duration": 69,
    "start_time": "2025-06-19T05:11:31.253Z"
   },
   {
    "duration": 51,
    "start_time": "2025-06-19T05:11:31.324Z"
   },
   {
    "duration": 38,
    "start_time": "2025-06-19T05:11:31.376Z"
   },
   {
    "duration": 933,
    "start_time": "2025-06-19T05:11:31.415Z"
   },
   {
    "duration": 137,
    "start_time": "2025-06-19T05:11:32.350Z"
   },
   {
    "duration": 3,
    "start_time": "2025-06-19T05:11:32.489Z"
   },
   {
    "duration": 244,
    "start_time": "2025-06-19T05:11:32.494Z"
   },
   {
    "duration": 8,
    "start_time": "2025-06-19T05:11:32.740Z"
   },
   {
    "duration": 25,
    "start_time": "2025-06-19T05:11:32.750Z"
   },
   {
    "duration": 19,
    "start_time": "2025-06-19T05:11:32.777Z"
   },
   {
    "duration": 88,
    "start_time": "2025-06-19T05:11:32.798Z"
   },
   {
    "duration": 59,
    "start_time": "2025-06-19T05:11:32.888Z"
   },
   {
    "duration": 18,
    "start_time": "2025-06-19T05:11:32.949Z"
   },
   {
    "duration": 419,
    "start_time": "2025-06-19T05:11:32.969Z"
   },
   {
    "duration": 9,
    "start_time": "2025-06-19T05:11:33.390Z"
   },
   {
    "duration": 38,
    "start_time": "2025-06-19T05:11:33.401Z"
   },
   {
    "duration": 1816,
    "start_time": "2025-06-19T05:11:33.441Z"
   },
   {
    "duration": 0,
    "start_time": "2025-06-19T05:11:35.259Z"
   },
   {
    "duration": 9,
    "start_time": "2025-06-19T05:20:14.593Z"
   },
   {
    "duration": 12,
    "start_time": "2025-06-19T05:21:22.600Z"
   },
   {
    "duration": 11,
    "start_time": "2025-06-19T05:28:33.220Z"
   },
   {
    "duration": 1306,
    "start_time": "2025-06-19T05:30:17.073Z"
   },
   {
    "duration": 60,
    "start_time": "2025-06-19T05:30:18.381Z"
   },
   {
    "duration": 14,
    "start_time": "2025-06-19T05:30:18.442Z"
   },
   {
    "duration": 19,
    "start_time": "2025-06-19T05:30:18.459Z"
   },
   {
    "duration": 32,
    "start_time": "2025-06-19T05:30:18.480Z"
   },
   {
    "duration": 21,
    "start_time": "2025-06-19T05:30:18.514Z"
   },
   {
    "duration": 7,
    "start_time": "2025-06-19T05:30:18.537Z"
   },
   {
    "duration": 19,
    "start_time": "2025-06-19T05:30:18.547Z"
   },
   {
    "duration": 10,
    "start_time": "2025-06-19T05:30:18.568Z"
   },
   {
    "duration": 30,
    "start_time": "2025-06-19T05:30:18.581Z"
   },
   {
    "duration": 23,
    "start_time": "2025-06-19T05:30:18.613Z"
   },
   {
    "duration": 19,
    "start_time": "2025-06-19T05:30:18.638Z"
   },
   {
    "duration": 13,
    "start_time": "2025-06-19T05:30:18.659Z"
   },
   {
    "duration": 7,
    "start_time": "2025-06-19T05:30:18.674Z"
   },
   {
    "duration": 24,
    "start_time": "2025-06-19T05:30:18.683Z"
   },
   {
    "duration": 35,
    "start_time": "2025-06-19T05:30:18.709Z"
   },
   {
    "duration": 37,
    "start_time": "2025-06-19T05:30:18.746Z"
   },
   {
    "duration": 23,
    "start_time": "2025-06-19T05:30:18.785Z"
   },
   {
    "duration": 13,
    "start_time": "2025-06-19T05:30:18.810Z"
   },
   {
    "duration": 14,
    "start_time": "2025-06-19T05:30:18.825Z"
   },
   {
    "duration": 12,
    "start_time": "2025-06-19T05:30:18.841Z"
   },
   {
    "duration": 15,
    "start_time": "2025-06-19T05:30:18.855Z"
   },
   {
    "duration": 13,
    "start_time": "2025-06-19T05:30:18.872Z"
   },
   {
    "duration": 45,
    "start_time": "2025-06-19T05:30:18.887Z"
   },
   {
    "duration": 54,
    "start_time": "2025-06-19T05:30:18.933Z"
   },
   {
    "duration": 41,
    "start_time": "2025-06-19T05:30:18.989Z"
   },
   {
    "duration": 232,
    "start_time": "2025-06-19T05:30:19.032Z"
   },
   {
    "duration": 5,
    "start_time": "2025-06-19T05:30:19.268Z"
   },
   {
    "duration": 256,
    "start_time": "2025-06-19T05:30:19.275Z"
   },
   {
    "duration": 8,
    "start_time": "2025-06-19T05:30:19.533Z"
   },
   {
    "duration": 153,
    "start_time": "2025-06-19T05:30:19.543Z"
   },
   {
    "duration": 6,
    "start_time": "2025-06-19T05:30:19.697Z"
   },
   {
    "duration": 353,
    "start_time": "2025-06-19T05:30:19.704Z"
   },
   {
    "duration": 263,
    "start_time": "2025-06-19T05:30:20.060Z"
   },
   {
    "duration": 289,
    "start_time": "2025-06-19T05:30:20.325Z"
   },
   {
    "duration": 9,
    "start_time": "2025-06-19T05:30:20.616Z"
   },
   {
    "duration": 21,
    "start_time": "2025-06-19T05:30:20.627Z"
   },
   {
    "duration": 24,
    "start_time": "2025-06-19T05:30:20.649Z"
   },
   {
    "duration": 5,
    "start_time": "2025-06-19T05:30:20.675Z"
   },
   {
    "duration": 40,
    "start_time": "2025-06-19T05:30:20.682Z"
   },
   {
    "duration": 2,
    "start_time": "2025-06-19T05:30:20.724Z"
   },
   {
    "duration": 61,
    "start_time": "2025-06-19T05:30:20.728Z"
   },
   {
    "duration": 3,
    "start_time": "2025-06-19T05:30:20.791Z"
   },
   {
    "duration": 75,
    "start_time": "2025-06-19T05:30:20.796Z"
   },
   {
    "duration": 55,
    "start_time": "2025-06-19T05:30:20.872Z"
   },
   {
    "duration": 33,
    "start_time": "2025-06-19T05:30:20.929Z"
   },
   {
    "duration": 897,
    "start_time": "2025-06-19T05:30:20.964Z"
   },
   {
    "duration": 131,
    "start_time": "2025-06-19T05:30:21.864Z"
   },
   {
    "duration": 172,
    "start_time": "2025-06-19T05:30:21.997Z"
   },
   {
    "duration": 203,
    "start_time": "2025-06-19T05:30:22.171Z"
   },
   {
    "duration": 9,
    "start_time": "2025-06-19T05:30:22.376Z"
   },
   {
    "duration": 79,
    "start_time": "2025-06-19T05:30:22.386Z"
   },
   {
    "duration": 13,
    "start_time": "2025-06-19T05:30:22.467Z"
   },
   {
    "duration": 41,
    "start_time": "2025-06-19T05:30:22.482Z"
   },
   {
    "duration": 19,
    "start_time": "2025-06-19T05:30:22.525Z"
   },
   {
    "duration": 10,
    "start_time": "2025-06-19T05:30:22.546Z"
   },
   {
    "duration": 440,
    "start_time": "2025-06-19T05:30:22.558Z"
   },
   {
    "duration": 11,
    "start_time": "2025-06-19T05:30:23.001Z"
   },
   {
    "duration": 178,
    "start_time": "2025-06-19T05:30:23.014Z"
   },
   {
    "duration": 35,
    "start_time": "2025-06-19T05:33:39.536Z"
   },
   {
    "duration": 1269,
    "start_time": "2025-06-19T05:34:00.654Z"
   },
   {
    "duration": 66,
    "start_time": "2025-06-19T05:34:01.925Z"
   },
   {
    "duration": 13,
    "start_time": "2025-06-19T05:34:01.993Z"
   },
   {
    "duration": 89,
    "start_time": "2025-06-19T05:34:02.008Z"
   },
   {
    "duration": 85,
    "start_time": "2025-06-19T05:34:02.099Z"
   },
   {
    "duration": 30,
    "start_time": "2025-06-19T05:34:02.185Z"
   },
   {
    "duration": 53,
    "start_time": "2025-06-19T05:34:02.216Z"
   },
   {
    "duration": 20,
    "start_time": "2025-06-19T05:34:02.271Z"
   },
   {
    "duration": 5,
    "start_time": "2025-06-19T05:34:02.292Z"
   },
   {
    "duration": 51,
    "start_time": "2025-06-19T05:34:02.298Z"
   },
   {
    "duration": 35,
    "start_time": "2025-06-19T05:34:02.351Z"
   },
   {
    "duration": 33,
    "start_time": "2025-06-19T05:34:02.387Z"
   },
   {
    "duration": 54,
    "start_time": "2025-06-19T05:34:02.422Z"
   },
   {
    "duration": 19,
    "start_time": "2025-06-19T05:34:02.480Z"
   },
   {
    "duration": 50,
    "start_time": "2025-06-19T05:34:02.500Z"
   },
   {
    "duration": 27,
    "start_time": "2025-06-19T05:34:02.552Z"
   },
   {
    "duration": 35,
    "start_time": "2025-06-19T05:34:02.581Z"
   },
   {
    "duration": 33,
    "start_time": "2025-06-19T05:34:02.618Z"
   },
   {
    "duration": 67,
    "start_time": "2025-06-19T05:34:02.653Z"
   },
   {
    "duration": 36,
    "start_time": "2025-06-19T05:34:02.722Z"
   },
   {
    "duration": 32,
    "start_time": "2025-06-19T05:34:02.760Z"
   },
   {
    "duration": 34,
    "start_time": "2025-06-19T05:34:02.793Z"
   },
   {
    "duration": 53,
    "start_time": "2025-06-19T05:34:02.829Z"
   },
   {
    "duration": 43,
    "start_time": "2025-06-19T05:34:02.884Z"
   },
   {
    "duration": 21,
    "start_time": "2025-06-19T05:34:02.929Z"
   },
   {
    "duration": 29,
    "start_time": "2025-06-19T05:34:02.952Z"
   },
   {
    "duration": 225,
    "start_time": "2025-06-19T05:34:02.983Z"
   },
   {
    "duration": 4,
    "start_time": "2025-06-19T05:34:03.209Z"
   },
   {
    "duration": 163,
    "start_time": "2025-06-19T05:34:03.215Z"
   },
   {
    "duration": 9,
    "start_time": "2025-06-19T05:34:03.380Z"
   },
   {
    "duration": 121,
    "start_time": "2025-06-19T05:34:03.390Z"
   },
   {
    "duration": 5,
    "start_time": "2025-06-19T05:34:03.513Z"
   },
   {
    "duration": 359,
    "start_time": "2025-06-19T05:34:03.523Z"
   },
   {
    "duration": 236,
    "start_time": "2025-06-19T05:34:03.884Z"
   },
   {
    "duration": 243,
    "start_time": "2025-06-19T05:34:04.121Z"
   },
   {
    "duration": 9,
    "start_time": "2025-06-19T05:34:04.366Z"
   },
   {
    "duration": 59,
    "start_time": "2025-06-19T05:34:04.377Z"
   },
   {
    "duration": 31,
    "start_time": "2025-06-19T05:34:04.438Z"
   },
   {
    "duration": 23,
    "start_time": "2025-06-19T05:34:04.470Z"
   },
   {
    "duration": 66,
    "start_time": "2025-06-19T05:34:04.494Z"
   },
   {
    "duration": 3,
    "start_time": "2025-06-19T05:34:04.564Z"
   },
   {
    "duration": 34,
    "start_time": "2025-06-19T05:34:04.569Z"
   },
   {
    "duration": 4,
    "start_time": "2025-06-19T05:34:04.605Z"
   },
   {
    "duration": 34,
    "start_time": "2025-06-19T05:34:04.610Z"
   },
   {
    "duration": 23,
    "start_time": "2025-06-19T05:34:04.653Z"
   },
   {
    "duration": 27,
    "start_time": "2025-06-19T05:34:04.678Z"
   },
   {
    "duration": 856,
    "start_time": "2025-06-19T05:34:04.707Z"
   },
   {
    "duration": 148,
    "start_time": "2025-06-19T05:34:05.565Z"
   },
   {
    "duration": 5,
    "start_time": "2025-06-19T05:34:05.715Z"
   },
   {
    "duration": 264,
    "start_time": "2025-06-19T05:34:05.721Z"
   },
   {
    "duration": 9,
    "start_time": "2025-06-19T05:34:05.987Z"
   },
   {
    "duration": 24,
    "start_time": "2025-06-19T05:34:05.997Z"
   },
   {
    "duration": 31,
    "start_time": "2025-06-19T05:34:06.023Z"
   },
   {
    "duration": 32,
    "start_time": "2025-06-19T05:34:06.055Z"
   },
   {
    "duration": 10,
    "start_time": "2025-06-19T05:34:06.089Z"
   },
   {
    "duration": 11,
    "start_time": "2025-06-19T05:34:06.100Z"
   },
   {
    "duration": 380,
    "start_time": "2025-06-19T05:34:06.113Z"
   },
   {
    "duration": 8,
    "start_time": "2025-06-19T05:34:06.495Z"
   },
   {
    "duration": 93,
    "start_time": "2025-06-19T05:34:06.505Z"
   },
   {
    "duration": 15,
    "start_time": "2025-06-19T05:34:27.036Z"
   },
   {
    "duration": 8,
    "start_time": "2025-06-19T05:56:28.289Z"
   },
   {
    "duration": 1396,
    "start_time": "2025-06-19T07:14:14.374Z"
   },
   {
    "duration": 69,
    "start_time": "2025-06-19T07:14:15.772Z"
   },
   {
    "duration": 12,
    "start_time": "2025-06-19T07:14:15.843Z"
   },
   {
    "duration": 42,
    "start_time": "2025-06-19T07:14:15.857Z"
   },
   {
    "duration": 12,
    "start_time": "2025-06-19T07:14:15.901Z"
   },
   {
    "duration": 16,
    "start_time": "2025-06-19T07:14:15.914Z"
   },
   {
    "duration": 8,
    "start_time": "2025-06-19T07:14:15.932Z"
   },
   {
    "duration": 11,
    "start_time": "2025-06-19T07:14:15.942Z"
   },
   {
    "duration": 7,
    "start_time": "2025-06-19T07:14:15.954Z"
   },
   {
    "duration": 27,
    "start_time": "2025-06-19T07:14:15.964Z"
   },
   {
    "duration": 20,
    "start_time": "2025-06-19T07:14:15.993Z"
   },
   {
    "duration": 12,
    "start_time": "2025-06-19T07:14:16.015Z"
   },
   {
    "duration": 9,
    "start_time": "2025-06-19T07:14:16.029Z"
   },
   {
    "duration": 18,
    "start_time": "2025-06-19T07:14:16.039Z"
   },
   {
    "duration": 39,
    "start_time": "2025-06-19T07:14:16.059Z"
   },
   {
    "duration": 13,
    "start_time": "2025-06-19T07:14:16.100Z"
   },
   {
    "duration": 24,
    "start_time": "2025-06-19T07:14:16.114Z"
   },
   {
    "duration": 22,
    "start_time": "2025-06-19T07:14:16.140Z"
   },
   {
    "duration": 47,
    "start_time": "2025-06-19T07:14:16.164Z"
   },
   {
    "duration": 18,
    "start_time": "2025-06-19T07:14:16.213Z"
   },
   {
    "duration": 13,
    "start_time": "2025-06-19T07:14:16.233Z"
   },
   {
    "duration": 18,
    "start_time": "2025-06-19T07:14:16.248Z"
   },
   {
    "duration": 21,
    "start_time": "2025-06-19T07:14:16.268Z"
   },
   {
    "duration": 16,
    "start_time": "2025-06-19T07:14:16.290Z"
   },
   {
    "duration": 23,
    "start_time": "2025-06-19T07:14:16.307Z"
   },
   {
    "duration": 11,
    "start_time": "2025-06-19T07:14:16.332Z"
   },
   {
    "duration": 238,
    "start_time": "2025-06-19T07:14:16.344Z"
   },
   {
    "duration": 5,
    "start_time": "2025-06-19T07:14:16.586Z"
   },
   {
    "duration": 209,
    "start_time": "2025-06-19T07:14:16.592Z"
   },
   {
    "duration": 8,
    "start_time": "2025-06-19T07:14:16.805Z"
   },
   {
    "duration": 146,
    "start_time": "2025-06-19T07:14:16.815Z"
   },
   {
    "duration": 5,
    "start_time": "2025-06-19T07:14:16.963Z"
   },
   {
    "duration": 387,
    "start_time": "2025-06-19T07:14:16.969Z"
   },
   {
    "duration": 227,
    "start_time": "2025-06-19T07:14:17.358Z"
   },
   {
    "duration": 224,
    "start_time": "2025-06-19T07:14:17.587Z"
   },
   {
    "duration": 9,
    "start_time": "2025-06-19T07:14:17.812Z"
   },
   {
    "duration": 49,
    "start_time": "2025-06-19T07:14:17.822Z"
   },
   {
    "duration": 29,
    "start_time": "2025-06-19T07:14:17.873Z"
   },
   {
    "duration": 33,
    "start_time": "2025-06-19T07:14:17.904Z"
   },
   {
    "duration": 56,
    "start_time": "2025-06-19T07:14:17.938Z"
   },
   {
    "duration": 3,
    "start_time": "2025-06-19T07:14:17.995Z"
   },
   {
    "duration": 45,
    "start_time": "2025-06-19T07:14:18.000Z"
   },
   {
    "duration": 10,
    "start_time": "2025-06-19T07:14:18.047Z"
   },
   {
    "duration": 122,
    "start_time": "2025-06-19T07:14:18.059Z"
   },
   {
    "duration": 33,
    "start_time": "2025-06-19T07:14:18.183Z"
   },
   {
    "duration": 36,
    "start_time": "2025-06-19T07:14:18.217Z"
   },
   {
    "duration": 855,
    "start_time": "2025-06-19T07:14:18.255Z"
   },
   {
    "duration": 118,
    "start_time": "2025-06-19T07:14:19.112Z"
   },
   {
    "duration": 4,
    "start_time": "2025-06-19T07:14:19.231Z"
   },
   {
    "duration": 230,
    "start_time": "2025-06-19T07:14:19.237Z"
   },
   {
    "duration": 8,
    "start_time": "2025-06-19T07:14:19.469Z"
   },
   {
    "duration": 164,
    "start_time": "2025-06-19T07:14:19.479Z"
   },
   {
    "duration": 11,
    "start_time": "2025-06-19T07:14:19.644Z"
   },
   {
    "duration": 43,
    "start_time": "2025-06-19T07:14:19.656Z"
   },
   {
    "duration": 11,
    "start_time": "2025-06-19T07:14:19.701Z"
   },
   {
    "duration": 5,
    "start_time": "2025-06-19T07:14:19.713Z"
   },
   {
    "duration": 438,
    "start_time": "2025-06-19T07:14:19.719Z"
   },
   {
    "duration": 8,
    "start_time": "2025-06-19T07:14:20.159Z"
   },
   {
    "duration": 117,
    "start_time": "2025-06-19T07:14:20.169Z"
   },
   {
    "duration": 36,
    "start_time": "2025-06-19T07:14:20.288Z"
   },
   {
    "duration": 183,
    "start_time": "2025-06-19T07:15:59.460Z"
   },
   {
    "duration": 51,
    "start_time": "2025-06-19T07:56:05.291Z"
   },
   {
    "duration": 1324,
    "start_time": "2025-06-19T07:56:12.181Z"
   },
   {
    "duration": 60,
    "start_time": "2025-06-19T07:56:13.507Z"
   },
   {
    "duration": 12,
    "start_time": "2025-06-19T07:56:13.568Z"
   },
   {
    "duration": 9,
    "start_time": "2025-06-19T07:56:13.582Z"
   },
   {
    "duration": 7,
    "start_time": "2025-06-19T07:56:13.594Z"
   },
   {
    "duration": 13,
    "start_time": "2025-06-19T07:56:13.603Z"
   },
   {
    "duration": 7,
    "start_time": "2025-06-19T07:56:13.618Z"
   },
   {
    "duration": 19,
    "start_time": "2025-06-19T07:56:13.627Z"
   },
   {
    "duration": 49,
    "start_time": "2025-06-19T07:56:13.648Z"
   },
   {
    "duration": 22,
    "start_time": "2025-06-19T07:56:13.698Z"
   },
   {
    "duration": 8,
    "start_time": "2025-06-19T07:56:13.722Z"
   },
   {
    "duration": 11,
    "start_time": "2025-06-19T07:56:13.732Z"
   },
   {
    "duration": 8,
    "start_time": "2025-06-19T07:56:13.744Z"
   },
   {
    "duration": 4,
    "start_time": "2025-06-19T07:56:13.755Z"
   },
   {
    "duration": 16,
    "start_time": "2025-06-19T07:56:13.761Z"
   },
   {
    "duration": 10,
    "start_time": "2025-06-19T07:56:13.778Z"
   },
   {
    "duration": 9,
    "start_time": "2025-06-19T07:56:13.789Z"
   },
   {
    "duration": 8,
    "start_time": "2025-06-19T07:56:13.799Z"
   },
   {
    "duration": 13,
    "start_time": "2025-06-19T07:56:13.809Z"
   },
   {
    "duration": 11,
    "start_time": "2025-06-19T07:56:13.823Z"
   },
   {
    "duration": 21,
    "start_time": "2025-06-19T07:56:13.836Z"
   },
   {
    "duration": 22,
    "start_time": "2025-06-19T07:56:13.858Z"
   },
   {
    "duration": 90,
    "start_time": "2025-06-19T07:56:13.882Z"
   },
   {
    "duration": 10,
    "start_time": "2025-06-19T07:56:13.974Z"
   },
   {
    "duration": 41,
    "start_time": "2025-06-19T07:56:13.985Z"
   },
   {
    "duration": 18,
    "start_time": "2025-06-19T07:56:14.028Z"
   },
   {
    "duration": 112,
    "start_time": "2025-06-19T07:56:14.047Z"
   },
   {
    "duration": 0,
    "start_time": "2025-06-19T07:56:14.161Z"
   },
   {
    "duration": 0,
    "start_time": "2025-06-19T07:56:14.162Z"
   },
   {
    "duration": 0,
    "start_time": "2025-06-19T07:56:14.163Z"
   },
   {
    "duration": 0,
    "start_time": "2025-06-19T07:56:14.177Z"
   },
   {
    "duration": 0,
    "start_time": "2025-06-19T07:56:14.178Z"
   },
   {
    "duration": 0,
    "start_time": "2025-06-19T07:56:14.179Z"
   },
   {
    "duration": 0,
    "start_time": "2025-06-19T07:56:14.180Z"
   },
   {
    "duration": 0,
    "start_time": "2025-06-19T07:56:14.181Z"
   },
   {
    "duration": 0,
    "start_time": "2025-06-19T07:56:14.182Z"
   },
   {
    "duration": 0,
    "start_time": "2025-06-19T07:56:14.183Z"
   },
   {
    "duration": 0,
    "start_time": "2025-06-19T07:56:14.184Z"
   },
   {
    "duration": 0,
    "start_time": "2025-06-19T07:56:14.185Z"
   },
   {
    "duration": 0,
    "start_time": "2025-06-19T07:56:14.186Z"
   },
   {
    "duration": 0,
    "start_time": "2025-06-19T07:56:14.188Z"
   },
   {
    "duration": 0,
    "start_time": "2025-06-19T07:56:14.189Z"
   },
   {
    "duration": 0,
    "start_time": "2025-06-19T07:56:14.190Z"
   },
   {
    "duration": 0,
    "start_time": "2025-06-19T07:56:14.191Z"
   },
   {
    "duration": 0,
    "start_time": "2025-06-19T07:56:14.192Z"
   },
   {
    "duration": 0,
    "start_time": "2025-06-19T07:56:14.193Z"
   },
   {
    "duration": 0,
    "start_time": "2025-06-19T07:56:14.195Z"
   },
   {
    "duration": 0,
    "start_time": "2025-06-19T07:56:14.196Z"
   },
   {
    "duration": 0,
    "start_time": "2025-06-19T07:56:14.197Z"
   },
   {
    "duration": 0,
    "start_time": "2025-06-19T07:56:14.198Z"
   },
   {
    "duration": 0,
    "start_time": "2025-06-19T07:56:14.199Z"
   },
   {
    "duration": 0,
    "start_time": "2025-06-19T07:56:14.200Z"
   },
   {
    "duration": 0,
    "start_time": "2025-06-19T07:56:14.201Z"
   },
   {
    "duration": 0,
    "start_time": "2025-06-19T07:56:14.202Z"
   },
   {
    "duration": 0,
    "start_time": "2025-06-19T07:56:14.203Z"
   },
   {
    "duration": 0,
    "start_time": "2025-06-19T07:56:14.204Z"
   },
   {
    "duration": 0,
    "start_time": "2025-06-19T07:56:14.205Z"
   },
   {
    "duration": 0,
    "start_time": "2025-06-19T07:56:14.206Z"
   },
   {
    "duration": 0,
    "start_time": "2025-06-19T07:56:14.207Z"
   },
   {
    "duration": 0,
    "start_time": "2025-06-19T07:56:14.208Z"
   },
   {
    "duration": 0,
    "start_time": "2025-06-19T07:56:14.209Z"
   },
   {
    "duration": 211,
    "start_time": "2025-06-19T07:56:55.790Z"
   },
   {
    "duration": 164,
    "start_time": "2025-06-19T07:57:02.567Z"
   },
   {
    "duration": 1224,
    "start_time": "2025-06-19T07:57:09.174Z"
   },
   {
    "duration": 61,
    "start_time": "2025-06-19T07:57:10.400Z"
   },
   {
    "duration": 19,
    "start_time": "2025-06-19T07:57:10.463Z"
   },
   {
    "duration": 34,
    "start_time": "2025-06-19T07:57:10.484Z"
   },
   {
    "duration": 17,
    "start_time": "2025-06-19T07:57:10.521Z"
   },
   {
    "duration": 16,
    "start_time": "2025-06-19T07:57:10.540Z"
   },
   {
    "duration": 18,
    "start_time": "2025-06-19T07:57:10.558Z"
   },
   {
    "duration": 25,
    "start_time": "2025-06-19T07:57:10.578Z"
   },
   {
    "duration": 5,
    "start_time": "2025-06-19T07:57:10.604Z"
   },
   {
    "duration": 13,
    "start_time": "2025-06-19T07:57:10.610Z"
   },
   {
    "duration": 14,
    "start_time": "2025-06-19T07:57:10.624Z"
   },
   {
    "duration": 13,
    "start_time": "2025-06-19T07:57:10.639Z"
   },
   {
    "duration": 10,
    "start_time": "2025-06-19T07:57:10.654Z"
   },
   {
    "duration": 76,
    "start_time": "2025-06-19T07:57:10.675Z"
   },
   {
    "duration": 53,
    "start_time": "2025-06-19T07:57:10.753Z"
   },
   {
    "duration": 70,
    "start_time": "2025-06-19T07:57:10.808Z"
   },
   {
    "duration": 87,
    "start_time": "2025-06-19T07:57:10.880Z"
   },
   {
    "duration": 98,
    "start_time": "2025-06-19T07:57:10.969Z"
   },
   {
    "duration": 86,
    "start_time": "2025-06-19T07:57:11.069Z"
   },
   {
    "duration": 62,
    "start_time": "2025-06-19T07:57:11.156Z"
   },
   {
    "duration": 71,
    "start_time": "2025-06-19T07:57:11.220Z"
   },
   {
    "duration": 47,
    "start_time": "2025-06-19T07:57:11.293Z"
   },
   {
    "duration": 70,
    "start_time": "2025-06-19T07:57:11.342Z"
   },
   {
    "duration": 136,
    "start_time": "2025-06-19T07:57:11.414Z"
   },
   {
    "duration": 114,
    "start_time": "2025-06-19T07:57:11.551Z"
   },
   {
    "duration": 60,
    "start_time": "2025-06-19T07:57:11.667Z"
   },
   {
    "duration": 232,
    "start_time": "2025-06-19T07:57:11.729Z"
   },
   {
    "duration": 215,
    "start_time": "2025-06-19T07:57:11.963Z"
   },
   {
    "duration": 4,
    "start_time": "2025-06-19T07:57:12.180Z"
   },
   {
    "duration": 276,
    "start_time": "2025-06-19T07:57:12.186Z"
   },
   {
    "duration": 18,
    "start_time": "2025-06-19T07:57:12.464Z"
   },
   {
    "duration": 259,
    "start_time": "2025-06-19T07:57:12.484Z"
   },
   {
    "duration": 34,
    "start_time": "2025-06-19T07:57:12.744Z"
   },
   {
    "duration": 333,
    "start_time": "2025-06-19T07:57:12.780Z"
   },
   {
    "duration": 237,
    "start_time": "2025-06-19T07:57:13.114Z"
   },
   {
    "duration": 230,
    "start_time": "2025-06-19T07:57:13.353Z"
   },
   {
    "duration": 9,
    "start_time": "2025-06-19T07:57:13.584Z"
   },
   {
    "duration": 10,
    "start_time": "2025-06-19T07:57:13.594Z"
   },
   {
    "duration": 15,
    "start_time": "2025-06-19T07:57:13.605Z"
   },
   {
    "duration": 35,
    "start_time": "2025-06-19T07:57:13.622Z"
   },
   {
    "duration": 35,
    "start_time": "2025-06-19T07:57:13.662Z"
   },
   {
    "duration": 3,
    "start_time": "2025-06-19T07:57:13.699Z"
   },
   {
    "duration": 34,
    "start_time": "2025-06-19T07:57:13.704Z"
   },
   {
    "duration": 3,
    "start_time": "2025-06-19T07:57:13.740Z"
   },
   {
    "duration": 15,
    "start_time": "2025-06-19T07:57:13.744Z"
   },
   {
    "duration": 38,
    "start_time": "2025-06-19T07:57:13.760Z"
   },
   {
    "duration": 21,
    "start_time": "2025-06-19T07:57:13.799Z"
   },
   {
    "duration": 937,
    "start_time": "2025-06-19T07:57:13.821Z"
   },
   {
    "duration": 44,
    "start_time": "2025-06-19T07:57:14.759Z"
   },
   {
    "duration": 21,
    "start_time": "2025-06-19T07:57:14.805Z"
   },
   {
    "duration": 205,
    "start_time": "2025-06-19T07:57:14.828Z"
   },
   {
    "duration": 9,
    "start_time": "2025-06-19T07:57:15.035Z"
   },
   {
    "duration": 61,
    "start_time": "2025-06-19T07:57:15.046Z"
   },
   {
    "duration": 48,
    "start_time": "2025-06-19T07:57:15.109Z"
   },
   {
    "duration": 51,
    "start_time": "2025-06-19T07:57:15.159Z"
   },
   {
    "duration": 41,
    "start_time": "2025-06-19T07:57:15.212Z"
   },
   {
    "duration": 51,
    "start_time": "2025-06-19T07:57:15.254Z"
   },
   {
    "duration": 415,
    "start_time": "2025-06-19T07:57:15.307Z"
   },
   {
    "duration": 8,
    "start_time": "2025-06-19T07:57:15.724Z"
   },
   {
    "duration": 48,
    "start_time": "2025-06-19T07:57:15.734Z"
   },
   {
    "duration": 5,
    "start_time": "2025-06-19T07:57:15.784Z"
   }
  ],
  "kernelspec": {
   "display_name": "Python 3 (ipykernel)",
   "language": "python",
   "name": "python3"
  },
  "language_info": {
   "codemirror_mode": {
    "name": "ipython",
    "version": 3
   },
   "file_extension": ".py",
   "mimetype": "text/x-python",
   "name": "python",
   "nbconvert_exporter": "python",
   "pygments_lexer": "ipython3",
   "version": "3.9.5"
  },
  "toc": {
   "base_numbering": 1,
   "nav_menu": {},
   "number_sections": true,
   "sideBar": true,
   "skip_h1_title": true,
   "title_cell": "Table of Contents",
   "title_sidebar": "Contents",
   "toc_cell": false,
   "toc_position": {},
   "toc_section_display": true,
   "toc_window_display": false
  }
 },
 "nbformat": 4,
 "nbformat_minor": 5
}
